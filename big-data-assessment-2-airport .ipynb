{
 "cells": [
  {
   "cell_type": "code",
   "execution_count": 1,
   "metadata": {},
   "outputs": [],
   "source": [
    "import os\n",
    "import sys\n",
    " \n",
    "os.environ[\"SPARK_HOME\"] = \"/usr/spark2.4.3\"\n",
    "os.environ[\"PYLIB\"] = os.environ[\"SPARK_HOME\"] + \"/python/lib\"\n",
    "# In below two lines, use /usr/bin/python2.7 if you want to use Python 2\n",
    "os.environ[\"PYSPARK_PYTHON\"] = \"/usr/local/anaconda/bin/python\" \n",
    "os.environ[\"PYSPARK_DRIVER_PYTHON\"] = \"/usr/local/anaconda/bin/python\"\n",
    "sys.path.insert(0, os.environ[\"PYLIB\"] +\"/py4j-0.10.7-src.zip\")\n",
    "sys.path.insert(0, os.environ[\"PYLIB\"] +\"/pyspark.zip\")\n",
    "\n",
    "from pyspark import SparkContext, SparkConf\n",
    "conf = SparkConf().setAppName(\"appName\")\n",
    "sc = SparkContext(conf=conf)\n"
   ]
  },
  {
   "cell_type": "code",
   "execution_count": 2,
   "metadata": {},
   "outputs": [
    {
     "name": "stdout",
     "output_type": "stream",
     "text": [
      "3.6.8\n",
      "2.4.3\n"
     ]
    }
   ],
   "source": [
    "# initialise spark context\n",
    "from pyspark.sql import SQLContext, HiveContext\n",
    "from pyspark.sql.types import *\n",
    "\n",
    "# making sqlContext object\n",
    "sqlContext = SQLContext(sc)\n",
    "\n",
    "\n",
    "# get python and spark versions and displaying\n",
    "import platform\n",
    "print(platform.python_version())\n",
    "print(sc.version)\n",
    "\n",
    "# import python sql libraries and other functions \n",
    "from pyspark.sql.types import *\n",
    "from pyspark.sql import Row\n",
    "from pyspark.sql.functions import *\n",
    "\n",
    "# import python library for plotting data\n",
    "import matplotlib.pyplot as plt\n",
    "import gmplot\n",
    "\n",
    "#import pandas and numpy\n",
    "import pandas as pd\n",
    "#import numpy as np"
   ]
  },
  {
   "cell_type": "code",
   "execution_count": 3,
   "metadata": {},
   "outputs": [],
   "source": [
    "# create a DataFrame directly from airline delay cause csv file \n",
    "# delay_causes = spark.read.option(\"header\", \"true\").option(\"delimiter\", \",\")\\\n",
    "# .option(\"inferSchema\", \"true\").csv(\"hdfs:///user/imat5322_819715/Airline_Delay_Cause.csv\")\n",
    "\n",
    "# Read the files and create RDD Ariline\n",
    "rdd_airline = sc.textFile(\"hdfs:///user/imat5322_819715/Airline_Delay_Cause_2021.csv\").map(lambda l:l.split(','))\n"
   ]
  },
  {
   "cell_type": "code",
   "execution_count": 4,
   "metadata": {
    "scrolled": true
   },
   "outputs": [
    {
     "data": {
      "text/plain": [
       "[['year',\n",
       "  'month',\n",
       "  'carrier',\n",
       "  'carrier_name',\n",
       "  'airport',\n",
       "  'airport_name',\n",
       "  'arr_flights',\n",
       "  'arr_del15',\n",
       "  'carrier_ct',\n",
       "  'weather_ct',\n",
       "  'nas_ct',\n",
       "  'security_ct',\n",
       "  'late_aircraft_ct',\n",
       "  'arr_cancelled',\n",
       "  'arr_diverted',\n",
       "  'arr_delay',\n",
       "  'carrier_delay',\n",
       "  'weather_delay',\n",
       "  'nas_delay',\n",
       "  'security_delay',\n",
       "  'late_aircraft_delay'],\n",
       " ['2021',\n",
       "  '12',\n",
       "  '9E',\n",
       "  'Endeavor Air Inc.',\n",
       "  'ABE',\n",
       "  '\"Allentown/Bethlehem/Easton',\n",
       "  ' PA: Lehigh Valley International\"',\n",
       "  '127.00',\n",
       "  '9.00',\n",
       "  '2.51',\n",
       "  '0.00',\n",
       "  '3.54',\n",
       "  '0.00',\n",
       "  '2.95',\n",
       "  '0.00',\n",
       "  '0.00',\n",
       "  '264.00',\n",
       "  '119.00',\n",
       "  '0.00',\n",
       "  '68.00',\n",
       "  '0.00',\n",
       "  '77.00'],\n",
       " ['2021',\n",
       "  '12',\n",
       "  '9E',\n",
       "  'Endeavor Air Inc.',\n",
       "  'ABY',\n",
       "  '\"Albany',\n",
       "  ' GA: Southwest Georgia Regional\"',\n",
       "  '73.00',\n",
       "  '11.00',\n",
       "  '5.02',\n",
       "  '0.00',\n",
       "  '4.11',\n",
       "  '0.00',\n",
       "  '1.87',\n",
       "  '0.00',\n",
       "  '0.00',\n",
       "  '342.00',\n",
       "  '125.00',\n",
       "  '0.00',\n",
       "  '142.00',\n",
       "  '0.00',\n",
       "  '75.00'],\n",
       " ['2021',\n",
       "  '12',\n",
       "  '9E',\n",
       "  'Endeavor Air Inc.',\n",
       "  'AEX',\n",
       "  '\"Alexandria',\n",
       "  ' LA: Alexandria International\"',\n",
       "  '62.00',\n",
       "  '8.00',\n",
       "  '2.63',\n",
       "  '0.00',\n",
       "  '4.22',\n",
       "  '0.00',\n",
       "  '1.15',\n",
       "  '0.00',\n",
       "  '0.00',\n",
       "  '439.00',\n",
       "  '156.00',\n",
       "  '0.00',\n",
       "  '103.00',\n",
       "  '0.00',\n",
       "  '180.00'],\n",
       " ['2021',\n",
       "  '12',\n",
       "  '9E',\n",
       "  'Endeavor Air Inc.',\n",
       "  'AGS',\n",
       "  '\"Augusta',\n",
       "  ' GA: Augusta Regional at Bush Field\"',\n",
       "  '166.00',\n",
       "  '18.00',\n",
       "  '8.53',\n",
       "  '3.25',\n",
       "  '3.49',\n",
       "  '0.00',\n",
       "  '2.74',\n",
       "  '0.00',\n",
       "  '1.00',\n",
       "  '1266.00',\n",
       "  '291.00',\n",
       "  '693.00',\n",
       "  '167.00',\n",
       "  '0.00',\n",
       "  '115.00'],\n",
       " ['2021',\n",
       "  '12',\n",
       "  '9E',\n",
       "  'Endeavor Air Inc.',\n",
       "  'ALB',\n",
       "  '\"Albany',\n",
       "  ' NY: Albany International\"',\n",
       "  '52.00',\n",
       "  '6.00',\n",
       "  '3.15',\n",
       "  '1.88',\n",
       "  '0.15',\n",
       "  '0.00',\n",
       "  '0.82',\n",
       "  '0.00',\n",
       "  '0.00',\n",
       "  '497.00',\n",
       "  '278.00',\n",
       "  '180.00',\n",
       "  '21.00',\n",
       "  '0.00',\n",
       "  '18.00'],\n",
       " ['2021',\n",
       "  '12',\n",
       "  '9E',\n",
       "  'Endeavor Air Inc.',\n",
       "  'ATL',\n",
       "  '\"Atlanta',\n",
       "  ' GA: Hartsfield-Jackson Atlanta International\"',\n",
       "  '3705.00',\n",
       "  '388.00',\n",
       "  '96.28',\n",
       "  '29.68',\n",
       "  '101.87',\n",
       "  '0.00',\n",
       "  '160.18',\n",
       "  '12.00',\n",
       "  '4.00',\n",
       "  '30500.00',\n",
       "  '10300.00',\n",
       "  '2853.00',\n",
       "  '4638.00',\n",
       "  '0.00',\n",
       "  '12709.00'],\n",
       " ['2021',\n",
       "  '12',\n",
       "  '9E',\n",
       "  'Endeavor Air Inc.',\n",
       "  'ATW',\n",
       "  '\"Appleton',\n",
       "  ' WI: Appleton International\"',\n",
       "  '80.00',\n",
       "  '15.00',\n",
       "  '6.66',\n",
       "  '1.93',\n",
       "  '4.00',\n",
       "  '0.00',\n",
       "  '2.41',\n",
       "  '2.00',\n",
       "  '2.00',\n",
       "  '1863.00',\n",
       "  '469.00',\n",
       "  '1089.00',\n",
       "  '181.00',\n",
       "  '0.00',\n",
       "  '124.00'],\n",
       " ['2021',\n",
       "  '12',\n",
       "  '9E',\n",
       "  'Endeavor Air Inc.',\n",
       "  'AUS',\n",
       "  '\"Austin',\n",
       "  ' TX: Austin - Bergstrom International\"',\n",
       "  '30.00',\n",
       "  '5.00',\n",
       "  '1.94',\n",
       "  '0.00',\n",
       "  '3.02',\n",
       "  '0.00',\n",
       "  '0.04',\n",
       "  '0.00',\n",
       "  '1.00',\n",
       "  '469.00',\n",
       "  '385.00',\n",
       "  '0.00',\n",
       "  '81.00',\n",
       "  '0.00',\n",
       "  '3.00'],\n",
       " ['2021',\n",
       "  '12',\n",
       "  '9E',\n",
       "  'Endeavor Air Inc.',\n",
       "  'AVL',\n",
       "  '\"Asheville',\n",
       "  ' NC: Asheville Regional\"',\n",
       "  '51.00',\n",
       "  '2.00',\n",
       "  '0.00',\n",
       "  '0.00',\n",
       "  '0.00',\n",
       "  '0.00',\n",
       "  '2.00',\n",
       "  '0.00',\n",
       "  '0.00',\n",
       "  '181.00',\n",
       "  '0.00',\n",
       "  '0.00',\n",
       "  '0.00',\n",
       "  '0.00',\n",
       "  '181.00']]"
      ]
     },
     "execution_count": 4,
     "metadata": {},
     "output_type": "execute_result"
    }
   ],
   "source": [
    "# airline delay cause records \n",
    "rdd_airline.take(10)"
   ]
  },
  {
   "cell_type": "code",
   "execution_count": 5,
   "metadata": {},
   "outputs": [
    {
     "data": {
      "text/plain": [
       "18387"
      ]
     },
     "execution_count": 5,
     "metadata": {},
     "output_type": "execute_result"
    }
   ],
   "source": [
    "# total records\n",
    "rdd_airline.count()"
   ]
  },
  {
   "cell_type": "code",
   "execution_count": 6,
   "metadata": {},
   "outputs": [
    {
     "data": {
      "text/plain": [
       "['year',\n",
       " 'month',\n",
       " 'carrier',\n",
       " 'carrier_name',\n",
       " 'airport',\n",
       " 'airport_name',\n",
       " 'arr_flights',\n",
       " 'arr_del15',\n",
       " 'carrier_ct',\n",
       " 'weather_ct',\n",
       " 'nas_ct',\n",
       " 'security_ct',\n",
       " 'late_aircraft_ct',\n",
       " 'arr_cancelled',\n",
       " 'arr_diverted',\n",
       " 'arr_delay',\n",
       " 'carrier_delay',\n",
       " 'weather_delay',\n",
       " 'nas_delay',\n",
       " 'security_delay',\n",
       " 'late_aircraft_delay']"
      ]
     },
     "metadata": {},
     "output_type": "display_data"
    }
   ],
   "source": [
    "# identifies header and store in new variable\n",
    "header = rdd_airline.first()\n",
    "display(header)"
   ]
  },
  {
   "cell_type": "code",
   "execution_count": 7,
   "metadata": {
    "scrolled": true
   },
   "outputs": [
    {
     "data": {
      "text/plain": [
       "['2021',\n",
       " '12',\n",
       " '9E',\n",
       " 'Endeavor Air Inc.',\n",
       " 'ABE',\n",
       " '\"Allentown/Bethlehem/Easton',\n",
       " ' PA: Lehigh Valley International\"',\n",
       " '127.00',\n",
       " '9.00',\n",
       " '2.51',\n",
       " '0.00',\n",
       " '3.54',\n",
       " '0.00',\n",
       " '2.95',\n",
       " '0.00',\n",
       " '0.00',\n",
       " '264.00',\n",
       " '119.00',\n",
       " '0.00',\n",
       " '68.00',\n",
       " '0.00',\n",
       " '77.00']"
      ]
     },
     "execution_count": 7,
     "metadata": {},
     "output_type": "execute_result"
    }
   ],
   "source": [
    "# filter data without headers \n",
    "# new rdd here is filtered with data without the headers\n",
    "filtered_without_header = rdd_airline.filter(lambda line:line!=header)\n",
    "filtered_without_header.first()"
   ]
  },
  {
   "cell_type": "code",
   "execution_count": 8,
   "metadata": {},
   "outputs": [
    {
     "data": {
      "text/plain": [
       "[Row(airport='ABE', airport_name='\"Allentown/Bethlehem/Easton', arr_cancelled='2.95', arr_del15='127.00', arr_delay='0.00', arr_diverted='0.00', arr_flights=' PA: Lehigh Valley International\"', carrier='9E', carrier_ct='9.00', carrier_delay='264.00', carrier_name='Endeavor Air Inc.', late_aircraft_ct='0.00', late_aircraft_delay='0.00', month='12', nas_ct='0.00', nas_delay='0.00', security_ct='3.54', security_delay='68.00', weather_ct='2.51', weather_delay='119.00', year='2021'),\n",
       " Row(airport='ABY', airport_name='\"Albany', arr_cancelled='1.87', arr_del15='73.00', arr_delay='0.00', arr_diverted='0.00', arr_flights=' GA: Southwest Georgia Regional\"', carrier='9E', carrier_ct='11.00', carrier_delay='342.00', carrier_name='Endeavor Air Inc.', late_aircraft_ct='0.00', late_aircraft_delay='0.00', month='12', nas_ct='0.00', nas_delay='0.00', security_ct='4.11', security_delay='142.00', weather_ct='5.02', weather_delay='125.00', year='2021')]"
      ]
     },
     "execution_count": 8,
     "metadata": {},
     "output_type": "execute_result"
    }
   ],
   "source": [
    "# preprocessing the data\n",
    "# Mapping column names to row entries\n",
    "column_updates = filtered_without_header.map(lambda x:Row(year=x[0] ,month=x[1], \\\n",
    "                                    carrier=x[2],carrier_name=x[3],airport=x[4],airport_name=x[5],\\\n",
    "                                    arr_flights=x[6],  arr_del15=x[7], carrier_ct=x[8], weather_ct=x[9],\\\n",
    "                                    nas_ct=x[10], security_ct=x[11], late_aircraft_ct=x[12],\\\n",
    "                                    arr_cancelled=x[13], arr_diverted=x[14], arr_delay=x[15],\\\n",
    "                                       carrier_delay=x[16], weather_delay=x[17], nas_delay=x[18],\\\n",
    "                                       security_delay=x[19], late_aircraft_delay=x[20]))\n",
    "column_updates.take(2)"
   ]
  },
  {
   "cell_type": "code",
   "execution_count": 9,
   "metadata": {
    "scrolled": true
   },
   "outputs": [
    {
     "name": "stdout",
     "output_type": "stream",
     "text": [
      "root\n",
      " |-- airport: string (nullable = true)\n",
      " |-- airport_name: string (nullable = true)\n",
      " |-- arr_cancelled: string (nullable = true)\n",
      " |-- arr_del15: string (nullable = true)\n",
      " |-- arr_delay: string (nullable = true)\n",
      " |-- arr_diverted: string (nullable = true)\n",
      " |-- arr_flights: string (nullable = true)\n",
      " |-- carrier: string (nullable = true)\n",
      " |-- carrier_ct: string (nullable = true)\n",
      " |-- carrier_delay: string (nullable = true)\n",
      " |-- carrier_name: string (nullable = true)\n",
      " |-- late_aircraft_ct: string (nullable = true)\n",
      " |-- late_aircraft_delay: string (nullable = true)\n",
      " |-- month: string (nullable = true)\n",
      " |-- nas_ct: string (nullable = true)\n",
      " |-- nas_delay: string (nullable = true)\n",
      " |-- security_ct: string (nullable = true)\n",
      " |-- security_delay: string (nullable = true)\n",
      " |-- weather_ct: string (nullable = true)\n",
      " |-- weather_delay: string (nullable = true)\n",
      " |-- year: string (nullable = true)\n",
      "\n"
     ]
    }
   ],
   "source": [
    "# creating dataframe using sqlContext\n",
    "airline_results = sqlContext.createDataFrame(column_updates)\n",
    "\n",
    "# checking schema\n",
    "airline_results.printSchema()"
   ]
  },
  {
   "cell_type": "code",
   "execution_count": 10,
   "metadata": {
    "scrolled": false
   },
   "outputs": [
    {
     "name": "stdout",
     "output_type": "stream",
     "text": [
      "+-------+--------------------+-------------+---------+---------+------------+--------------------+-------+----------+-------------+-----------------+----------------+-------------------+-----+------+---------+-----------+--------------+----------+-------------+----+\n",
      "|airport|        airport_name|arr_cancelled|arr_del15|arr_delay|arr_diverted|         arr_flights|carrier|carrier_ct|carrier_delay|     carrier_name|late_aircraft_ct|late_aircraft_delay|month|nas_ct|nas_delay|security_ct|security_delay|weather_ct|weather_delay|year|\n",
      "+-------+--------------------+-------------+---------+---------+------------+--------------------+-------+----------+-------------+-----------------+----------------+-------------------+-----+------+---------+-----------+--------------+----------+-------------+----+\n",
      "|    ABE|\"Allentown/Bethle...|         2.95|   127.00|     0.00|        0.00| PA: Lehigh Valle...|     9E|      9.00|       264.00|Endeavor Air Inc.|            0.00|               0.00|   12|  0.00|     0.00|       3.54|         68.00|      2.51|       119.00|2021|\n",
      "|    ABY|             \"Albany|         1.87|    73.00|     0.00|        0.00| GA: Southwest Ge...|     9E|     11.00|       342.00|Endeavor Air Inc.|            0.00|               0.00|   12|  0.00|     0.00|       4.11|        142.00|      5.02|       125.00|2021|\n",
      "+-------+--------------------+-------------+---------+---------+------------+--------------------+-------+----------+-------------+-----------------+----------------+-------------------+-----+------+---------+-----------+--------------+----------+-------------+----+\n",
      "only showing top 2 rows\n",
      "\n"
     ]
    }
   ],
   "source": [
    "# printing the rows to check the records structure\n",
    "airline_results.show(2)\n"
   ]
  },
  {
   "cell_type": "code",
   "execution_count": 46,
   "metadata": {},
   "outputs": [
    {
     "name": "stdout",
     "output_type": "stream",
     "text": [
      "root\n",
      " |-- airport: string (nullable = true)\n",
      " |-- airport_name: string (nullable = true)\n",
      " |-- arr_cancelled: float (nullable = true)\n",
      " |-- arr_del15: float (nullable = true)\n",
      " |-- arr_delay: float (nullable = true)\n",
      " |-- arr_diverted: float (nullable = true)\n",
      " |-- arr_flights: integer (nullable = true)\n",
      " |-- carrier: string (nullable = true)\n",
      " |-- carrier_ct: float (nullable = true)\n",
      " |-- carrier_delay: float (nullable = true)\n",
      " |-- carrier_name: string (nullable = true)\n",
      " |-- late_aircraft_ct: float (nullable = true)\n",
      " |-- late_aircraft_delay: float (nullable = true)\n",
      " |-- month: integer (nullable = true)\n",
      " |-- nas_ct: float (nullable = true)\n",
      " |-- nas_delay: float (nullable = true)\n",
      " |-- security_ct: float (nullable = true)\n",
      " |-- security_delay: float (nullable = true)\n",
      " |-- weather_ct: float (nullable = true)\n",
      " |-- weather_delay: float (nullable = true)\n",
      " |-- year: integer (nullable = true)\n",
      "\n"
     ]
    }
   ],
   "source": [
    "# Convert datatype from (string to float) for the fields required.\n",
    "type_changes = airline_results.withColumn(\"arr_cancelled\",airline_results[\"arr_cancelled\"].cast(FloatType()))\n",
    "type_changes = type_changes.withColumn(\"arr_del15\",type_changes[\"arr_del15\"].cast(FloatType()))\n",
    "type_changes = type_changes.withColumn(\"arr_delay\",type_changes[\"arr_delay\"].cast(FloatType()))\n",
    "type_changes = type_changes.withColumn(\"arr_diverted\",type_changes[\"arr_diverted\"].cast(FloatType()))\n",
    "type_changes = type_changes.withColumn(\"carrier_ct\",type_changes[\"carrier_ct\"].cast(FloatType()))\n",
    "type_changes = type_changes.withColumn(\"carrier_delay\",type_changes[\"carrier_delay\"].cast(FloatType()))\n",
    "type_changes = type_changes.withColumn(\"late_aircraft_ct\",type_changes[\"late_aircraft_ct\"].cast(FloatType()))\n",
    "type_changes = type_changes.withColumn(\"late_aircraft_delay\",type_changes[\"late_aircraft_delay\"].cast(FloatType()))\n",
    "type_changes = type_changes.withColumn(\"nas_ct\",type_changes[\"nas_ct\"].cast(FloatType()))\n",
    "type_changes = type_changes.withColumn(\"nas_delay\",type_changes[\"nas_delay\"].cast(FloatType()))\n",
    "type_changes = type_changes.withColumn(\"security_ct\",type_changes[\"security_ct\"].cast(FloatType()))\n",
    "type_changes = type_changes.withColumn(\"security_delay\",type_changes[\"security_delay\"].cast(FloatType()))\n",
    "type_changes = type_changes.withColumn(\"weather_ct\",type_changes[\"weather_ct\"].cast(FloatType()))\n",
    "type_changes = type_changes.withColumn(\"weather_delay\",type_changes[\"weather_delay\"].cast(FloatType()))\n",
    "type_changes = type_changes.withColumn(\"arr_flights\",type_changes[\"arr_flights\"].cast(IntegerType()))\n",
    "\n",
    "# Convert datatype from (string to int) for the fields required.\n",
    "type_changes = type_changes.withColumn(\"month\",type_changes[\"month\"].cast(IntegerType()))\n",
    "airline_data = type_changes.withColumn(\"year\",type_changes[\"year\"].cast(IntegerType()))\n",
    "\n",
    "# printing the new schema\n",
    "airline_data.printSchema()\n"
   ]
  },
  {
   "cell_type": "code",
   "execution_count": 48,
   "metadata": {},
   "outputs": [
    {
     "data": {
      "text/plain": [
       "18386"
      ]
     },
     "execution_count": 48,
     "metadata": {},
     "output_type": "execute_result"
    }
   ],
   "source": [
    "# Total airline records\n",
    "airline_data.count()"
   ]
  },
  {
   "cell_type": "code",
   "execution_count": 49,
   "metadata": {},
   "outputs": [
    {
     "name": "stdout",
     "output_type": "stream",
     "text": [
      "root\n",
      " |-- airport: string (nullable = true)\n",
      " |-- airport_name: string (nullable = true)\n",
      " |-- arr_cancelled: float (nullable = true)\n",
      " |-- arr_del15: float (nullable = true)\n",
      " |-- arr_delay: float (nullable = true)\n",
      " |-- arr_diverted: float (nullable = true)\n",
      " |-- arr_flights: integer (nullable = true)\n",
      " |-- carrier: string (nullable = true)\n",
      " |-- carrier_delay: float (nullable = true)\n",
      " |-- carrier_name: string (nullable = true)\n",
      " |-- late_aircraft_delay: float (nullable = true)\n",
      " |-- month: integer (nullable = true)\n",
      " |-- nas_delay: float (nullable = true)\n",
      " |-- security_delay: float (nullable = true)\n",
      " |-- weather_delay: float (nullable = true)\n",
      " |-- year: integer (nullable = true)\n",
      "\n"
     ]
    }
   ],
   "source": [
    "# here we are droping the columns, as these are not useful.\n",
    "airline_data = airline_data.drop(\"carrier_ct\", \"late_aircraft_ct\",\"nas_ct\",\"security_ct\",\"weather_ct\") \n",
    "\n",
    "# printing the updated schema\n",
    "airline_data.printSchema()\n"
   ]
  },
  {
   "cell_type": "code",
   "execution_count": 52,
   "metadata": {},
   "outputs": [],
   "source": [
    "# Register the DataFrame as a table\n",
    "sqlContext.registerDataFrameAsTable(airline_data, \"airline_table\")"
   ]
  },
  {
   "cell_type": "code",
   "execution_count": 53,
   "metadata": {
    "scrolled": true
   },
   "outputs": [
    {
     "data": {
      "text/html": [
       "<div>\n",
       "<style scoped>\n",
       "    .dataframe tbody tr th:only-of-type {\n",
       "        vertical-align: middle;\n",
       "    }\n",
       "\n",
       "    .dataframe tbody tr th {\n",
       "        vertical-align: top;\n",
       "    }\n",
       "\n",
       "    .dataframe thead th {\n",
       "        text-align: right;\n",
       "    }\n",
       "</style>\n",
       "<table border=\"1\" class=\"dataframe\">\n",
       "  <thead>\n",
       "    <tr style=\"text-align: right;\">\n",
       "      <th></th>\n",
       "      <th>airport</th>\n",
       "      <th>airport_name</th>\n",
       "      <th>arr_cancelled</th>\n",
       "      <th>arr_del15</th>\n",
       "      <th>arr_delay</th>\n",
       "      <th>arr_diverted</th>\n",
       "      <th>arr_flights</th>\n",
       "      <th>carrier</th>\n",
       "      <th>carrier_delay</th>\n",
       "      <th>carrier_name</th>\n",
       "      <th>late_aircraft_delay</th>\n",
       "      <th>month</th>\n",
       "      <th>nas_delay</th>\n",
       "      <th>security_delay</th>\n",
       "      <th>weather_delay</th>\n",
       "      <th>year</th>\n",
       "    </tr>\n",
       "  </thead>\n",
       "  <tbody>\n",
       "    <tr>\n",
       "      <th>0</th>\n",
       "      <td>ABE</td>\n",
       "      <td>\"Allentown/Bethlehem/Easton</td>\n",
       "      <td>2.95</td>\n",
       "      <td>127.0</td>\n",
       "      <td>0.0</td>\n",
       "      <td>0.0</td>\n",
       "      <td>None</td>\n",
       "      <td>9E</td>\n",
       "      <td>264.0</td>\n",
       "      <td>Endeavor Air Inc.</td>\n",
       "      <td>0.0</td>\n",
       "      <td>12</td>\n",
       "      <td>0.0</td>\n",
       "      <td>68.0</td>\n",
       "      <td>119.0</td>\n",
       "      <td>2021</td>\n",
       "    </tr>\n",
       "    <tr>\n",
       "      <th>1</th>\n",
       "      <td>ABY</td>\n",
       "      <td>\"Albany</td>\n",
       "      <td>1.87</td>\n",
       "      <td>73.0</td>\n",
       "      <td>0.0</td>\n",
       "      <td>0.0</td>\n",
       "      <td>None</td>\n",
       "      <td>9E</td>\n",
       "      <td>342.0</td>\n",
       "      <td>Endeavor Air Inc.</td>\n",
       "      <td>0.0</td>\n",
       "      <td>12</td>\n",
       "      <td>0.0</td>\n",
       "      <td>142.0</td>\n",
       "      <td>125.0</td>\n",
       "      <td>2021</td>\n",
       "    </tr>\n",
       "    <tr>\n",
       "      <th>2</th>\n",
       "      <td>AEX</td>\n",
       "      <td>\"Alexandria</td>\n",
       "      <td>1.15</td>\n",
       "      <td>62.0</td>\n",
       "      <td>0.0</td>\n",
       "      <td>0.0</td>\n",
       "      <td>None</td>\n",
       "      <td>9E</td>\n",
       "      <td>439.0</td>\n",
       "      <td>Endeavor Air Inc.</td>\n",
       "      <td>0.0</td>\n",
       "      <td>12</td>\n",
       "      <td>0.0</td>\n",
       "      <td>103.0</td>\n",
       "      <td>156.0</td>\n",
       "      <td>2021</td>\n",
       "    </tr>\n",
       "    <tr>\n",
       "      <th>3</th>\n",
       "      <td>AGS</td>\n",
       "      <td>\"Augusta</td>\n",
       "      <td>2.74</td>\n",
       "      <td>166.0</td>\n",
       "      <td>1.0</td>\n",
       "      <td>0.0</td>\n",
       "      <td>None</td>\n",
       "      <td>9E</td>\n",
       "      <td>1266.0</td>\n",
       "      <td>Endeavor Air Inc.</td>\n",
       "      <td>0.0</td>\n",
       "      <td>12</td>\n",
       "      <td>693.0</td>\n",
       "      <td>167.0</td>\n",
       "      <td>291.0</td>\n",
       "      <td>2021</td>\n",
       "    </tr>\n",
       "    <tr>\n",
       "      <th>4</th>\n",
       "      <td>ALB</td>\n",
       "      <td>\"Albany</td>\n",
       "      <td>0.82</td>\n",
       "      <td>52.0</td>\n",
       "      <td>0.0</td>\n",
       "      <td>0.0</td>\n",
       "      <td>None</td>\n",
       "      <td>9E</td>\n",
       "      <td>497.0</td>\n",
       "      <td>Endeavor Air Inc.</td>\n",
       "      <td>0.0</td>\n",
       "      <td>12</td>\n",
       "      <td>180.0</td>\n",
       "      <td>21.0</td>\n",
       "      <td>278.0</td>\n",
       "      <td>2021</td>\n",
       "    </tr>\n",
       "    <tr>\n",
       "      <th>...</th>\n",
       "      <td>...</td>\n",
       "      <td>...</td>\n",
       "      <td>...</td>\n",
       "      <td>...</td>\n",
       "      <td>...</td>\n",
       "      <td>...</td>\n",
       "      <td>...</td>\n",
       "      <td>...</td>\n",
       "      <td>...</td>\n",
       "      <td>...</td>\n",
       "      <td>...</td>\n",
       "      <td>...</td>\n",
       "      <td>...</td>\n",
       "      <td>...</td>\n",
       "      <td>...</td>\n",
       "      <td>...</td>\n",
       "    </tr>\n",
       "    <tr>\n",
       "      <th>18381</th>\n",
       "      <td>TLH</td>\n",
       "      <td>\"Tallahassee</td>\n",
       "      <td>2.01</td>\n",
       "      <td>56.0</td>\n",
       "      <td>0.0</td>\n",
       "      <td>0.0</td>\n",
       "      <td>None</td>\n",
       "      <td>YX</td>\n",
       "      <td>179.0</td>\n",
       "      <td>Republic Airline</td>\n",
       "      <td>0.0</td>\n",
       "      <td>2</td>\n",
       "      <td>0.0</td>\n",
       "      <td>19.0</td>\n",
       "      <td>70.0</td>\n",
       "      <td>2021</td>\n",
       "    </tr>\n",
       "    <tr>\n",
       "      <th>18382</th>\n",
       "      <td>TPA</td>\n",
       "      <td>\"Tampa</td>\n",
       "      <td>6.70</td>\n",
       "      <td>252.0</td>\n",
       "      <td>0.0</td>\n",
       "      <td>3.0</td>\n",
       "      <td>None</td>\n",
       "      <td>YX</td>\n",
       "      <td>2272.0</td>\n",
       "      <td>Republic Airline</td>\n",
       "      <td>0.0</td>\n",
       "      <td>2</td>\n",
       "      <td>218.0</td>\n",
       "      <td>1174.0</td>\n",
       "      <td>271.0</td>\n",
       "      <td>2021</td>\n",
       "    </tr>\n",
       "    <tr>\n",
       "      <th>18383</th>\n",
       "      <td>TUL</td>\n",
       "      <td>\"Tulsa</td>\n",
       "      <td>0.85</td>\n",
       "      <td>9.0</td>\n",
       "      <td>0.0</td>\n",
       "      <td>0.0</td>\n",
       "      <td>None</td>\n",
       "      <td>YX</td>\n",
       "      <td>211.0</td>\n",
       "      <td>Republic Airline</td>\n",
       "      <td>0.0</td>\n",
       "      <td>2</td>\n",
       "      <td>0.0</td>\n",
       "      <td>121.0</td>\n",
       "      <td>21.0</td>\n",
       "      <td>2021</td>\n",
       "    </tr>\n",
       "    <tr>\n",
       "      <th>18384</th>\n",
       "      <td>TUS</td>\n",
       "      <td>\"Tucson</td>\n",
       "      <td>0.00</td>\n",
       "      <td>10.0</td>\n",
       "      <td>0.0</td>\n",
       "      <td>0.0</td>\n",
       "      <td>None</td>\n",
       "      <td>YX</td>\n",
       "      <td>0.0</td>\n",
       "      <td>Republic Airline</td>\n",
       "      <td>0.0</td>\n",
       "      <td>2</td>\n",
       "      <td>0.0</td>\n",
       "      <td>0.0</td>\n",
       "      <td>0.0</td>\n",
       "      <td>2021</td>\n",
       "    </tr>\n",
       "    <tr>\n",
       "      <th>18385</th>\n",
       "      <td>VPS</td>\n",
       "      <td>\"Valparaiso</td>\n",
       "      <td>0.00</td>\n",
       "      <td>28.0</td>\n",
       "      <td>0.0</td>\n",
       "      <td>2.0</td>\n",
       "      <td>None</td>\n",
       "      <td>YX</td>\n",
       "      <td>77.0</td>\n",
       "      <td>Republic Airline</td>\n",
       "      <td>0.0</td>\n",
       "      <td>2</td>\n",
       "      <td>0.0</td>\n",
       "      <td>77.0</td>\n",
       "      <td>0.0</td>\n",
       "      <td>2021</td>\n",
       "    </tr>\n",
       "  </tbody>\n",
       "</table>\n",
       "<p>18386 rows × 16 columns</p>\n",
       "</div>"
      ],
      "text/plain": [
       "      airport                 airport_name  arr_cancelled  arr_del15  \\\n",
       "0         ABE  \"Allentown/Bethlehem/Easton           2.95      127.0   \n",
       "1         ABY                      \"Albany           1.87       73.0   \n",
       "2         AEX                  \"Alexandria           1.15       62.0   \n",
       "3         AGS                     \"Augusta           2.74      166.0   \n",
       "4         ALB                      \"Albany           0.82       52.0   \n",
       "...       ...                          ...            ...        ...   \n",
       "18381     TLH                 \"Tallahassee           2.01       56.0   \n",
       "18382     TPA                       \"Tampa           6.70      252.0   \n",
       "18383     TUL                       \"Tulsa           0.85        9.0   \n",
       "18384     TUS                      \"Tucson           0.00       10.0   \n",
       "18385     VPS                  \"Valparaiso           0.00       28.0   \n",
       "\n",
       "       arr_delay  arr_diverted arr_flights carrier  carrier_delay  \\\n",
       "0            0.0           0.0        None      9E          264.0   \n",
       "1            0.0           0.0        None      9E          342.0   \n",
       "2            0.0           0.0        None      9E          439.0   \n",
       "3            1.0           0.0        None      9E         1266.0   \n",
       "4            0.0           0.0        None      9E          497.0   \n",
       "...          ...           ...         ...     ...            ...   \n",
       "18381        0.0           0.0        None      YX          179.0   \n",
       "18382        0.0           3.0        None      YX         2272.0   \n",
       "18383        0.0           0.0        None      YX          211.0   \n",
       "18384        0.0           0.0        None      YX            0.0   \n",
       "18385        0.0           2.0        None      YX           77.0   \n",
       "\n",
       "            carrier_name  late_aircraft_delay  month  nas_delay  \\\n",
       "0      Endeavor Air Inc.                  0.0     12        0.0   \n",
       "1      Endeavor Air Inc.                  0.0     12        0.0   \n",
       "2      Endeavor Air Inc.                  0.0     12        0.0   \n",
       "3      Endeavor Air Inc.                  0.0     12      693.0   \n",
       "4      Endeavor Air Inc.                  0.0     12      180.0   \n",
       "...                  ...                  ...    ...        ...   \n",
       "18381   Republic Airline                  0.0      2        0.0   \n",
       "18382   Republic Airline                  0.0      2      218.0   \n",
       "18383   Republic Airline                  0.0      2        0.0   \n",
       "18384   Republic Airline                  0.0      2        0.0   \n",
       "18385   Republic Airline                  0.0      2        0.0   \n",
       "\n",
       "       security_delay  weather_delay  year  \n",
       "0                68.0          119.0  2021  \n",
       "1               142.0          125.0  2021  \n",
       "2               103.0          156.0  2021  \n",
       "3               167.0          291.0  2021  \n",
       "4                21.0          278.0  2021  \n",
       "...               ...            ...   ...  \n",
       "18381            19.0           70.0  2021  \n",
       "18382          1174.0          271.0  2021  \n",
       "18383           121.0           21.0  2021  \n",
       "18384             0.0            0.0  2021  \n",
       "18385            77.0            0.0  2021  \n",
       "\n",
       "[18386 rows x 16 columns]"
      ]
     },
     "execution_count": 53,
     "metadata": {},
     "output_type": "execute_result"
    }
   ],
   "source": [
    "# checking if the data loads for sql query\n",
    "sqlContext.sql(\"select * from airline_table\").take(5)\n",
    "pdpyr= airline_data.toPandas()\n",
    "pdpyr"
   ]
  },
  {
   "cell_type": "code",
   "execution_count": 16,
   "metadata": {
    "code_folding": []
   },
   "outputs": [
    {
     "data": {
      "text/plain": [
       "17"
      ]
     },
     "execution_count": 16,
     "metadata": {},
     "output_type": "execute_result"
    }
   ],
   "source": [
    "# Total types of unique carriers\n",
    "sqlContext.sql(\"select distinct carrier_name from airline_table\").count()"
   ]
  },
  {
   "cell_type": "code",
   "execution_count": 17,
   "metadata": {},
   "outputs": [
    {
     "data": {
      "text/plain": [
       "371"
      ]
     },
     "execution_count": 17,
     "metadata": {},
     "output_type": "execute_result"
    }
   ],
   "source": [
    "# Total unique airports \n",
    "sqlContext.sql(\"select distinct airport from airline_table\").count()"
   ]
  },
  {
   "cell_type": "code",
   "execution_count": 18,
   "metadata": {
    "scrolled": true
   },
   "outputs": [
    {
     "name": "stdout",
     "output_type": "stream",
     "text": [
      "+-------+----------+\n",
      "|carrier|carrier_op|\n",
      "+-------+----------+\n",
      "|     OO|      2531|\n",
      "|     MQ|      1555|\n",
      "|     G4|      1382|\n",
      "|     DL|      1313|\n",
      "|     9E|      1232|\n",
      "|     AA|      1134|\n",
      "|     WN|      1132|\n",
      "|     F9|      1093|\n",
      "|     YV|      1082|\n",
      "|     UA|      1076|\n",
      "|     OH|      1023|\n",
      "|     YX|       989|\n",
      "|     AS|       829|\n",
      "|     B6|       673|\n",
      "|     NK|       569|\n",
      "|     QX|       542|\n",
      "|     HA|       231|\n",
      "+-------+----------+\n",
      "\n"
     ]
    }
   ],
   "source": [
    "# Total operation performed by certain carrier, presented in descending order\n",
    "sqlContext.sql(\"select carrier, count(carrier) as carrier_op from airline_table group by carrier order by \\\n",
    "carrier_op desc \\\n",
    "\").show()"
   ]
  },
  {
   "cell_type": "code",
   "execution_count": 19,
   "metadata": {},
   "outputs": [
    {
     "data": {
      "text/plain": [
       "18386"
      ]
     },
     "execution_count": 19,
     "metadata": {},
     "output_type": "execute_result"
    }
   ],
   "source": [
    "# Total flight operations\n",
    "sqlContext.sql(\"select * from airline_table\").count()"
   ]
  },
  {
   "cell_type": "code",
   "execution_count": 20,
   "metadata": {
    "scrolled": true
   },
   "outputs": [
    {
     "name": "stdout",
     "output_type": "stream",
     "text": [
      "+-------+------------------+\n",
      "|carrier|            delays|\n",
      "+-------+------------------+\n",
      "|     WN|10295.718197879858|\n",
      "|     AA| 8072.110412926391|\n",
      "|     B6| 5588.079510703364|\n",
      "|     UA|  4684.64320625611|\n",
      "|     NK|  4349.02495543672|\n",
      "|     DL| 4205.476190476191|\n",
      "|     OO| 3849.486475409836|\n",
      "|     YX| 3315.818994413408|\n",
      "|     YV|  2563.53227408143|\n",
      "|     OH| 2084.424120603015|\n",
      "|     F9|          2007.349|\n",
      "|     AS|1845.4074074074074|\n",
      "|     G4|1630.4778694673669|\n",
      "|     MQ|1578.0712328767124|\n",
      "|     9E|1289.0008561643835|\n",
      "|     QX|           1262.76|\n",
      "|     HA|1071.6387665198238|\n",
      "+-------+------------------+\n",
      "\n"
     ]
    }
   ],
   "source": [
    "# Average carrier delay\n",
    "sqlContext.sql(\"select carrier, avg(carrier_delay) as delays from airline_table \\\n",
    "where carrier_delay > 0.0 group by carrier order by delays desc\").show(20)"
   ]
  },
  {
   "cell_type": "code",
   "execution_count": 21,
   "metadata": {
    "scrolled": true
   },
   "outputs": [
    {
     "name": "stdout",
     "output_type": "stream",
     "text": [
      "+-------+------------------+\n",
      "|airport|            delays|\n",
      "+-------+------------------+\n",
      "|    DEN|12307.373831775702|\n",
      "|    DFW|10333.976377952757|\n",
      "|    ORD| 8042.297101449275|\n",
      "|    ATL| 6982.986754966887|\n",
      "|    LAX|       6821.859375|\n",
      "|    SFB| 6290.636363636364|\n",
      "|    MCO| 6096.990196078431|\n",
      "|    JFK| 5896.435294117647|\n",
      "|    ASE| 5869.272727272727|\n",
      "|    CLT| 5713.454545454545|\n",
      "|    SLC|  5228.30701754386|\n",
      "|    PHX| 5081.612676056338|\n",
      "|    MIA|           4867.85|\n",
      "|    MDW| 4635.574468085107|\n",
      "|    DAL| 4615.717391304348|\n",
      "|    IAH| 4558.124031007752|\n",
      "|    FLL| 4432.728260869565|\n",
      "|    SEA| 4389.396694214876|\n",
      "|    SFO| 4255.327272727272|\n",
      "|    DTW|4080.1006711409395|\n",
      "+-------+------------------+\n",
      "only showing top 20 rows\n",
      "\n"
     ]
    }
   ],
   "source": [
    "# Average weather delay with respect to airport\n",
    "sqlContext.sql(\"select airport, avg(weather_delay) as delays from airline_table \\\n",
    "where weather_delay > 0.0 group by airport order by delays desc\").show(20)"
   ]
  },
  {
   "cell_type": "code",
   "execution_count": 22,
   "metadata": {
    "scrolled": true
   },
   "outputs": [
    {
     "name": "stdout",
     "output_type": "stream",
     "text": [
      "+-------+------+\n",
      "|airport|delays|\n",
      "+-------+------+\n",
      "|    DFW|    93|\n",
      "|    ORD|    86|\n",
      "|    LGA|    85|\n",
      "|    LAX|    77|\n",
      "|    DCA|    71|\n",
      "|    MCO|    69|\n",
      "|    SEA|    67|\n",
      "|    LAS|    66|\n",
      "|    DEN|    66|\n",
      "|    ATL|    65|\n",
      "|    IAH|    65|\n",
      "|    AUS|    65|\n",
      "|    EWR|    62|\n",
      "|    PHX|    60|\n",
      "|    FLL|    57|\n",
      "|    MIA|    57|\n",
      "|    MSY|    55|\n",
      "|    RSW|    54|\n",
      "|    DTW|    53|\n",
      "|    CLT|    51|\n",
      "+-------+------+\n",
      "only showing top 20 rows\n",
      "\n"
     ]
    }
   ],
   "source": [
    "# Number of arr_delays on airports in descending order\n",
    "sqlContext.sql(\"select airport, count(arr_delay) as delays from airline_table \\\n",
    "where arr_delay > 0.0 group by airport order by delays desc\").show(20)"
   ]
  },
  {
   "cell_type": "code",
   "execution_count": 23,
   "metadata": {
    "scrolled": true
   },
   "outputs": [
    {
     "name": "stdout",
     "output_type": "stream",
     "text": [
      "+--------------------+------+\n",
      "|        carrier_name|delays|\n",
      "+--------------------+------+\n",
      "|SkyWest Airlines ...|  2440|\n",
      "|           Envoy Air|  1460|\n",
      "|       Allegiant Air|  1333|\n",
      "|Delta Air Lines Inc.|  1281|\n",
      "|   Endeavor Air Inc.|  1168|\n",
      "|Southwest Airline...|  1132|\n",
      "|American Airlines...|  1114|\n",
      "|United Air Lines ...|  1023|\n",
      "|  Mesa Airlines Inc.|  1007|\n",
      "|Frontier Airlines...|  1000|\n",
      "|   PSA Airlines Inc.|   995|\n",
      "|    Republic Airline|   895|\n",
      "|Alaska Airlines Inc.|   810|\n",
      "|     JetBlue Airways|   654|\n",
      "|    Spirit Air Lines|   561|\n",
      "|         Horizon Air|   525|\n",
      "|Hawaiian Airlines...|   227|\n",
      "+--------------------+------+\n",
      "\n"
     ]
    }
   ],
   "source": [
    "# Delays count by carrier in descending order\n",
    "sqlContext.sql(\"select carrier_name, count(carrier_delay) as delays from airline_table \\\n",
    "where carrier_delay > 0.0  group by carrier_name order by delays desc\").show()"
   ]
  },
  {
   "cell_type": "code",
   "execution_count": 24,
   "metadata": {},
   "outputs": [
    {
     "name": "stdout",
     "output_type": "stream",
     "text": [
      "+-------+------------------+\n",
      "|airport|            delays|\n",
      "+-------+------------------+\n",
      "|    DEN| 6859.934579439252|\n",
      "|    DFW| 6423.850393700787|\n",
      "|    ORD| 5018.810218978102|\n",
      "|    DAL| 4947.260869565217|\n",
      "|    MCO|          4164.375|\n",
      "|    EWR|3684.2678571428573|\n",
      "|    FLL|3210.9887640449438|\n",
      "|    SFB| 2984.909090909091|\n",
      "|    JFK|2730.2368421052633|\n",
      "|    LAS|2601.9327731092435|\n",
      "|    IAH|       2572.703125|\n",
      "|    ATL| 2502.909090909091|\n",
      "|    PIE| 2473.181818181818|\n",
      "|    SEA|2371.5363636363636|\n",
      "|    PGD| 2287.181818181818|\n",
      "|    MIA|2193.0315789473684|\n",
      "|    CLT|  2104.85593220339|\n",
      "|    LAX|            1985.7|\n",
      "|    HOU|1938.6888888888889|\n",
      "|    MDW|1840.1914893617022|\n",
      "+-------+------------------+\n",
      "only showing top 20 rows\n",
      "\n"
     ]
    }
   ],
   "source": [
    "# Average security delay with respect to airports\n",
    "sqlContext.sql(\"select airport, avg(security_delay) as delays from airline_table \\\n",
    "where security_delay > 0.0 group by airport order by delays desc\").show(20)"
   ]
  },
  {
   "cell_type": "code",
   "execution_count": 25,
   "metadata": {},
   "outputs": [
    {
     "name": "stdout",
     "output_type": "stream",
     "text": [
      "+-------+------------------+\n",
      "|airport|            delays|\n",
      "+-------+------------------+\n",
      "|    DIK|            3116.0|\n",
      "|    DFW|3066.8396226415093|\n",
      "|    DEN|1991.1935483870968|\n",
      "|    SLC|1784.6052631578948|\n",
      "|    ASE|            1764.3|\n",
      "|    JMS|            1763.5|\n",
      "|    DVL|1727.6666666666667|\n",
      "|    ORD| 1714.061403508772|\n",
      "|    IAH|1550.3333333333333|\n",
      "|    MSP|1423.6605504587155|\n",
      "|    XWA| 1386.888888888889|\n",
      "|    INL|           1241.25|\n",
      "|    CLT| 1158.159574468085|\n",
      "|    DTW| 1128.989898989899|\n",
      "|    LAX|1097.1359223300972|\n",
      "|    JFK|1001.4137931034483|\n",
      "|    ATL| 993.4916666666667|\n",
      "|    PIE| 974.4545454545455|\n",
      "|    VLD|             974.0|\n",
      "|    SEA| 958.4204545454545|\n",
      "+-------+------------------+\n",
      "only showing top 20 rows\n",
      "\n"
     ]
    }
   ],
   "source": [
    "# Average nas delay with respect to airports\n",
    "sqlContext.sql(\"select airport, avg(nas_delay) as delays from airline_table \\\n",
    "where nas_delay > 0.0 group by airport order by delays desc\").show(20)"
   ]
  },
  {
   "cell_type": "code",
   "execution_count": 26,
   "metadata": {},
   "outputs": [
    {
     "name": "stdout",
     "output_type": "stream",
     "text": [
      "+-------+------+\n",
      "|airport|delays|\n",
      "+-------+------+\n",
      "|    LAX|    74|\n",
      "|    ORD|    69|\n",
      "|    LAS|    59|\n",
      "|    ATL|    58|\n",
      "|    FLL|    58|\n",
      "|    DFW|    58|\n",
      "|    PHL|    53|\n",
      "|    DEN|    51|\n",
      "|    PHX|    51|\n",
      "|    MCO|    50|\n",
      "|    DTW|    50|\n",
      "|    SEA|    49|\n",
      "|    LGA|    46|\n",
      "|    DCA|    45|\n",
      "|    BOS|    45|\n",
      "|    MSP|    45|\n",
      "|    JFK|    43|\n",
      "|    MIA|    42|\n",
      "|    CLT|    42|\n",
      "|    TPA|    42|\n",
      "+-------+------+\n",
      "only showing top 20 rows\n",
      "\n"
     ]
    }
   ],
   "source": [
    "# Number of times late_aircraft_delay with respect to airports\n",
    "sqlContext.sql(\"select airport, count(late_aircraft_delay) as delays from airline_table \\\n",
    "where late_aircraft_delay > 0.0 group by airport order by delays desc\").show(20)"
   ]
  },
  {
   "cell_type": "code",
   "execution_count": 27,
   "metadata": {},
   "outputs": [
    {
     "name": "stdout",
     "output_type": "stream",
     "text": [
      "+-------+------+\n",
      "|carrier|delays|\n",
      "+-------+------+\n",
      "|     WN|   433|\n",
      "|     AA|   430|\n",
      "|     NK|   313|\n",
      "|     B6|   256|\n",
      "|     DL|   227|\n",
      "|     G4|   208|\n",
      "|     OH|   190|\n",
      "|     OO|   164|\n",
      "|     YX|   146|\n",
      "|     MQ|   101|\n",
      "|     AS|    92|\n",
      "|     YV|    77|\n",
      "|     HA|    44|\n",
      "|     QX|    42|\n",
      "|     9E|    39|\n",
      "|     UA|    38|\n",
      "+-------+------+\n",
      "\n"
     ]
    }
   ],
   "source": [
    "# Number of times late_aircraft_delay with respect to carrier\n",
    "sqlContext.sql(\"select carrier, count(late_aircraft_delay) as delays from airline_table \\\n",
    "where late_aircraft_delay > 0.0 group by carrier order by delays desc\").show(20)"
   ]
  },
  {
   "cell_type": "code",
   "execution_count": 28,
   "metadata": {},
   "outputs": [
    {
     "name": "stdout",
     "output_type": "stream",
     "text": [
      "+-------+--------------+\n",
      "|carrier|total_diverted|\n",
      "+-------+--------------+\n",
      "|     OO|          1405|\n",
      "|     WN|           932|\n",
      "|     AA|           873|\n",
      "|     MQ|           784|\n",
      "|     G4|           725|\n",
      "|     YV|           612|\n",
      "|     UA|           531|\n",
      "|     YX|           522|\n",
      "|     F9|           436|\n",
      "|     OH|           418|\n",
      "|     AS|           415|\n",
      "|     NK|           385|\n",
      "|     B6|           379|\n",
      "|     QX|           317|\n",
      "|     DL|           313|\n",
      "|     9E|           192|\n",
      "|     HA|            42|\n",
      "+-------+--------------+\n",
      "\n"
     ]
    }
   ],
   "source": [
    "# Flight diverted for certain carrier\n",
    "sqlContext.sql(\"select carrier, count(arr_diverted) as total_diverted from airline_table \\\n",
    "where arr_diverted > 0.0 group by carrier order by total_diverted desc\").show()"
   ]
  },
  {
   "cell_type": "code",
   "execution_count": 29,
   "metadata": {},
   "outputs": [
    {
     "name": "stdout",
     "output_type": "stream",
     "text": [
      "+------------------+--------------+\n",
      "|      airport_name|total_diverted|\n",
      "+------------------+--------------+\n",
      "|       \"Washington|           169|\n",
      "|         \"New York|           154|\n",
      "|          \"Chicago|           139|\n",
      "|          \"Houston|           121|\n",
      "|         \"Portland|           117|\n",
      "|          \"Phoenix|           110|\n",
      "|          \"Atlanta|           110|\n",
      "|        \"Nashville|           105|\n",
      "|           \"Austin|           104|\n",
      "|      \"Los Angeles|           104|\n",
      "|\"Dallas/Fort Worth|            98|\n",
      "|          \"Detroit|            96|\n",
      "|        \"Las Vegas|            95|\n",
      "|           \"Denver|            93|\n",
      "|      \"Minneapolis|            91|\n",
      "|      \"New Orleans|            90|\n",
      "|           \"Newark|            90|\n",
      "|     \"Philadelphia|            89|\n",
      "|           \"Boston|            88|\n",
      "|   \"Raleigh/Durham|            88|\n",
      "+------------------+--------------+\n",
      "only showing top 20 rows\n",
      "\n"
     ]
    }
   ],
   "source": [
    "# Flight diverted for certain airports\n",
    "sqlContext.sql(\"select airport_name, count(arr_diverted) as total_diverted from airline_table \\\n",
    "where arr_diverted > 0.0 group by airport_name order by total_diverted desc\").show()"
   ]
  },
  {
   "cell_type": "code",
   "execution_count": 30,
   "metadata": {},
   "outputs": [
    {
     "name": "stdout",
     "output_type": "stream",
     "text": [
      "+-------+------------+\n",
      "|airport|total_cancel|\n",
      "+-------+------------+\n",
      "|    BNA|         151|\n",
      "|    ATL|         144|\n",
      "|    PIT|         137|\n",
      "|    CLE|         137|\n",
      "|    DTW|         137|\n",
      "|    AUS|         137|\n",
      "|    RDU|         134|\n",
      "|    MCI|         133|\n",
      "|    MSP|         132|\n",
      "|    ORD|         132|\n",
      "|    PHX|         132|\n",
      "|    CVG|         131|\n",
      "|    CHS|         131|\n",
      "|    IND|         131|\n",
      "|    MSY|         128|\n",
      "|    LAS|         127|\n",
      "|    LAX|         126|\n",
      "|    STL|         124|\n",
      "|    IAH|         123|\n",
      "|    SAN|         119|\n",
      "+-------+------------+\n",
      "only showing top 20 rows\n",
      "\n"
     ]
    }
   ],
   "source": [
    "# Flights cancelled from the airports\n",
    "sqlContext.sql(\"select airport, count(arr_cancelled) as total_cancel from airline_table \\\n",
    "where arr_cancelled  > 0.0 \\\n",
    "group by airport order by total_cancel desc\").show()"
   ]
  },
  {
   "cell_type": "code",
   "execution_count": 31,
   "metadata": {},
   "outputs": [
    {
     "name": "stdout",
     "output_type": "stream",
     "text": [
      "+-------+---------+\n",
      "|airport|sec_delay|\n",
      "+-------+---------+\n",
      "|    BNA|      153|\n",
      "|    MSP|      145|\n",
      "|    DTW|      144|\n",
      "|    ATL|      143|\n",
      "|    PIT|      142|\n",
      "|    AUS|      141|\n",
      "|    RDU|      141|\n",
      "|    CLE|      140|\n",
      "|    IND|      138|\n",
      "|    ORD|      137|\n",
      "|    MSY|      137|\n",
      "|    PHX|      133|\n",
      "|    MCI|      133|\n",
      "|    CHS|      133|\n",
      "|    PHL|      130|\n",
      "|    IAH|      128|\n",
      "|    DFW|      127|\n",
      "|    DCA|      124|\n",
      "|    STL|      123|\n",
      "|    CVG|      123|\n",
      "+-------+---------+\n",
      "only showing top 20 rows\n",
      "\n"
     ]
    }
   ],
   "source": [
    "# Flights cancelled from the airports due to security\n",
    "sqlContext.sql(\"select airport, count(security_delay) as sec_delay from airline_table \\\n",
    "where security_delay  > 0.0 \\\n",
    "group by airport order by sec_delay desc\").show()"
   ]
  },
  {
   "cell_type": "code",
   "execution_count": 32,
   "metadata": {},
   "outputs": [
    {
     "name": "stdout",
     "output_type": "stream",
     "text": [
      "+-------+-------+\n",
      "|airport|carrier|\n",
      "+-------+-------+\n",
      "|    MDT|     9E|\n",
      "|    KTN|     AS|\n",
      "|    ABE|     MQ|\n",
      "|    PBI|     UA|\n",
      "|    BUR|     WN|\n",
      "|    LAX|     AA|\n",
      "|    LAX|     AS|\n",
      "|    ANC|     DL|\n",
      "|    SYR|     F9|\n",
      "|    BDL|     MQ|\n",
      "|    ANC|     F9|\n",
      "|    HDN|     DL|\n",
      "|    ABE|     G4|\n",
      "|    MDT|     G4|\n",
      "|    EWR|     NK|\n",
      "|    PNS|     OH|\n",
      "|    BFL|     OO|\n",
      "|    RST|     OO|\n",
      "|    ECP|     YV|\n",
      "|    SEA|     AA|\n",
      "+-------+-------+\n",
      "only showing top 20 rows\n",
      "\n"
     ]
    }
   ],
   "source": [
    "# Flights average delay from the carriers\n",
    "sqlContext.sql(\"select distinct airport, carrier from airline_table\").show()"
   ]
  },
  {
   "cell_type": "code",
   "execution_count": 33,
   "metadata": {
    "code_folding": []
   },
   "outputs": [
    {
     "name": "stdout",
     "output_type": "stream",
     "text": [
      "+-------+--------------------+-------------------+-----------------+------------------+------------------+------------------------+------------------+-------------------+------------------+\n",
      "|carrier|count(arr_cancelled)|     avg(arr_delay)|sum(arr_diverted)|count(arr_flights)|avg(carrier_delay)|avg(late_aircraft_delay)|    avg(nas_delay)|avg(security_delay)|avg(weather_delay)|\n",
      "+-------+--------------------+-------------------+-----------------+------------------+------------------+------------------------+------------------+-------------------+------------------+\n",
      "|     UA|                1075| 0.9674418604651163|           5945.0|                 0| 4458.037209302325|      1.7953488372093023|332.66418604651165| 1020.5051162790697|1415.9395348837209|\n",
      "|     NK|                 569|   0.70298769771529|           5562.0|                 0| 4287.878734622144|       66.56942003514939| 225.8541300527241| 1442.1423550087873|1225.6449912126538|\n",
      "|     AA|                1133| 1.7899382171226832|          16220.0|                 0| 7936.744042365402|      30.798764342453662| 448.4757281553398| 1188.7731685789938|3270.4642541924095|\n",
      "|     B6|                 673| 1.2050520059435363|           3200.0|                 0| 5430.317979197623|       33.00594353640416|195.14858841010403|  862.2332838038633| 2500.251114413076|\n",
      "|     DL|                1312| 0.9695121951219512|           3539.0|                 0| 4106.108993902439|       17.75076219512195| 261.8384146341463|  730.4153963414634|2157.2225609756097|\n",
      "|     OO|                2527|  0.779184804115552|          12824.0|                 0|  3716.95567867036|       5.049465769687377|488.77839335180056|  170.0846853977048| 2108.493074792244|\n",
      "|     F9|                1092| 0.1620879120879121|           1908.0|                 0| 1838.231684981685|                     0.0| 57.54304029304029|  455.2124542124542| 597.2564102564103|\n",
      "|     YV|                1079|0.42168674698795183|           4646.0|                 0| 2392.471733086191|      3.0991658943466174| 264.7210379981464| 364.19184430027804| 854.5023169601483|\n",
      "|     MQ|                1554|0.40025740025740025|           5369.0|                 0|1482.6151866151865|       2.851994851994852|198.90347490347492|   371.001287001287| 369.0212355212355|\n",
      "|     OH|                1023| 0.4760508308895406|           1905.0|                 0|2027.3724340175952|      6.3802541544477025|155.62267839687195|  350.9139784946237| 628.6050830889541|\n",
      "|     HA|                 231|0.17316017316017315|            257.0|                 0| 1053.082251082251|       5.467532467532467|43.497835497835496|  8.670995670995671|  743.939393939394|\n",
      "|     G4|                1382|0.16353111432706222|           3552.0|                 0|1572.6678726483358|       9.408827785817655| 88.45513748191027| 264.06874095513746|506.33791606367583|\n",
      "|     YX|                 980| 0.7357142857142858|           5579.0|                 0|3028.2224489795917|       5.509183673469388|192.46326530612245|  755.5071428571429|1094.2561224489796|\n",
      "|     AS|                 829| 0.4945717732207479|           3142.0|                 0|1803.1121833534378|       17.25090470446321|  82.0928829915561| 507.95174909529555| 623.5862484921593|\n",
      "|     QX|                 542| 0.2822878228782288|           1974.0|                 0|1223.1531365313654|      3.2416974169741697| 51.82287822878229|  221.1420664206642| 472.7121771217712|\n",
      "|     WN|                1132|  2.060070671378092|          22828.0|                 0|10295.718197879858|      29.741166077738516|220.78533568904592| 1370.5865724381626| 3865.309187279152|\n",
      "|     9E|                1232| 0.3222402597402597|            963.0|                 0|1222.0397727272727|      1.3271103896103895| 132.8417207792208| 236.84253246753246| 493.5998376623377|\n",
      "+-------+--------------------+-------------------+-----------------+------------------+------------------+------------------------+------------------+-------------------+------------------+\n",
      "\n"
     ]
    }
   ],
   "source": [
    "# flight delays on basis of carriers\n",
    "sqlContext.sql(\"select carrier, \\\n",
    "count(arr_cancelled), \\\n",
    "avg(arr_delay), \\\n",
    "sum(arr_diverted),\\\n",
    "count(arr_flights),\\\n",
    "avg(carrier_delay), \\\n",
    "avg(late_aircraft_delay),\\\n",
    "avg(nas_delay),\\\n",
    "avg(security_delay),\\\n",
    "avg(weather_delay)\\\n",
    "               from airline_table \\\n",
    "group by carrier\").show()"
   ]
  },
  {
   "cell_type": "code",
   "execution_count": 34,
   "metadata": {
    "scrolled": true
   },
   "outputs": [
    {
     "name": "stdout",
     "output_type": "stream",
     "text": [
      "+-------+---------+--------------------+-------------------+-------------------+------------------+------------------+------------------------+------------------+-------------------+------------------+\n",
      "|airport|t_carrier|count(arr_cancelled)|     avg(arr_delay)|count(arr_diverted)|count(arr_flights)|avg(carrier_delay)|avg(late_aircraft_delay)|    avg(nas_delay)|avg(security_delay)|avg(weather_delay)|\n",
      "+-------+---------+--------------------+-------------------+-------------------+------------------+------------------+------------------------+------------------+-------------------+------------------+\n",
      "|    BGM|       11|                  11|0.36363636363636365|                 11|                 0|113.27272727272727|                     0.0|2.1818181818181817| 12.454545454545455| 60.54545454545455|\n",
      "+-------+---------+--------------------+-------------------+-------------------+------------------+------------------+------------------------+------------------+-------------------+------------------+\n",
      "only showing top 1 row\n",
      "\n"
     ]
    }
   ],
   "source": [
    "# flight delays on basis of airports\n",
    "sqlContext.sql(\"select airport, \\\n",
    "count(carrier) as t_carrier,\\\n",
    "count(arr_cancelled), \\\n",
    "avg(arr_delay), \\\n",
    "count(arr_diverted),\\\n",
    "count(arr_flights),\\\n",
    "avg(carrier_delay), \\\n",
    "avg(late_aircraft_delay),\\\n",
    "avg(nas_delay),\\\n",
    "avg(security_delay),\\\n",
    "avg(weather_delay)\\\n",
    "               from airline_table \\\n",
    "group by airport\").show(1)"
   ]
  },
  {
   "cell_type": "code",
   "execution_count": 35,
   "metadata": {},
   "outputs": [
    {
     "name": "stdout",
     "output_type": "stream",
     "text": [
      "Pixiedust database opened successfully\n"
     ]
    },
    {
     "data": {
      "text/html": [
       "\n",
       "        <div style=\"margin:10px\">\n",
       "            <a href=\"https://github.com/ibm-watson-data-lab/pixiedust\" target=\"_new\">\n",
       "                <img src=\"https://github.com/ibm-watson-data-lab/pixiedust/raw/master/docs/_static/pd_icon32.png\" style=\"float:left;margin-right:10px\"/>\n",
       "            </a>\n",
       "            <span>Pixiedust version 1.1.15</span>\n",
       "        </div>\n",
       "        "
      ],
      "text/plain": [
       "<IPython.core.display.HTML object>"
      ]
     },
     "metadata": {},
     "output_type": "display_data"
    },
    {
     "data": {
      "text/html": [
       "<div>Warning: You are not running the latest version of PixieDust. Current is 1.1.15, Latest is 1.1.19</div>"
      ],
      "text/plain": [
       "<IPython.core.display.HTML object>"
      ]
     },
     "metadata": {},
     "output_type": "display_data"
    },
    {
     "data": {
      "text/html": [
       "\n",
       "                <div>Please copy and run the following command in a new cell to upgrade: <span style=\"background-color:#ececec;font-family:monospace;padding:0 5px\">!pip install --user --upgrade pixiedust</span></div>\n",
       "            "
      ],
      "text/plain": [
       "<IPython.core.display.HTML object>"
      ]
     },
     "metadata": {},
     "output_type": "display_data"
    },
    {
     "data": {
      "text/html": [
       "<div>Please restart kernel after upgrading.</div>"
      ],
      "text/plain": [
       "<IPython.core.display.HTML object>"
      ]
     },
     "metadata": {},
     "output_type": "display_data"
    }
   ],
   "source": [
    "import pixiedust\n"
   ]
  },
  {
   "cell_type": "code",
   "execution_count": 36,
   "metadata": {
    "pixiedust": {
     "displayParams": {
      "chartsize": "98",
      "handlerId": "pieChart",
      "keyFields": "carrier",
      "legend": "false",
      "title": "Avg Percentage of each carrier delay",
      "valueFields": "carrier_delay"
     }
    }
   },
   "outputs": [
    {
     "data": {
      "text/html": [
       "<style type=\"text/css\">.pd_warning{display:none;}</style><div class=\"pd_warning\"><em>Hey, there's something awesome here! To see it, open this notebook outside GitHub, in a viewer like Jupyter</em></div>\n",
       "        <div class=\"pd_save is-viewer-good\" style=\"padding-right:10px;text-align: center;line-height:initial !important;font-size: xx-large;font-weight: 500;color: coral;\">\n",
       "            Avg Percentage of each carrier delay\n",
       "        </div>\n",
       "    <div id=\"chartFigure3e25c6b6\" class=\"pd_save is-viewer-good\" style=\"overflow-x:auto\">\n",
       "            \n",
       "                    \n",
       "                            <center><img style=\"max-width:initial !important\" src=\"data:image/png;base64,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\" class=\"pd_save\"></center>\n",
       "                        \n",
       "                    \n",
       "                \n",
       "        </div>"
      ],
      "text/plain": [
       "<IPython.core.display.HTML object>"
      ]
     },
     "metadata": {},
     "output_type": "display_data"
    }
   ],
   "source": [
    "display(airline_data)\n",
    "#Avg Percentage of each carrier delay"
   ]
  },
  {
   "cell_type": "code",
   "execution_count": 37,
   "metadata": {
    "pixiedust": {
     "displayParams": {
      "handlerId": "barChart",
      "keyFields": "month",
      "title": "In each month late aircraft delay by carrier",
      "valueFields": "late_aircraft_delay"
     }
    }
   },
   "outputs": [
    {
     "data": {
      "text/html": [
       "<style type=\"text/css\">.pd_warning{display:none;}</style><div class=\"pd_warning\"><em>Hey, there's something awesome here! To see it, open this notebook outside GitHub, in a viewer like Jupyter</em></div>\n",
       "        <div class=\"pd_save is-viewer-good\" style=\"padding-right:10px;text-align: center;line-height:initial !important;font-size: xx-large;font-weight: 500;color: coral;\">\n",
       "            In each month late aircraft delay by carrier\n",
       "        </div>\n",
       "    <div id=\"chartFigure7c7bcd41\" class=\"pd_save is-viewer-good\" style=\"overflow-x:auto\">\n",
       "            \n",
       "                    \n",
       "                            <center><img style=\"max-width:initial !important\" src=\"data:image/png;base64,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\" class=\"pd_save\"></center>\n",
       "                        \n",
       "                    \n",
       "                \n",
       "        </div>"
      ],
      "text/plain": [
       "<IPython.core.display.HTML object>"
      ]
     },
     "metadata": {},
     "output_type": "display_data"
    }
   ],
   "source": [
    "#In each month late aircraft delay by carrier\n",
    "display(airline_data)\n"
   ]
  },
  {
   "cell_type": "code",
   "execution_count": null,
   "metadata": {
    "pixiedust": {
     "displayParams": {
      "handlerId": "barChart",
      "keyFields": "carrier",
      "rendererId": "matplotlib",
      "title": "Which carrier has more delay due to security",
      "valueFields": "security_delay"
     }
    }
   },
   "outputs": [
    {
     "data": {
      "text/html": [
       "<style type=\"text/css\">.pd_warning{display:none;}</style><div class=\"pd_warning\"><em>Hey, there's something awesome here! To see it, open this notebook outside GitHub, in a viewer like Jupyter</em></div>\n",
       "        <div class=\"pd_save is-viewer-good\" style=\"padding-right:10px;text-align: center;line-height:initial !important;font-size: xx-large;font-weight: 500;color: coral;\">\n",
       "            Which carrier has more delay due to security\n",
       "        </div>\n",
       "    <div id=\"chartFigure21eeae08\" class=\"pd_save is-viewer-good\" style=\"overflow-x:auto\">\n",
       "            \n",
       "                    \n",
       "                            <center><img style=\"max-width:initial !important\" src=\"data:image/png;base64,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\" class=\"pd_save\"></center>\n",
       "                        \n",
       "                    \n",
       "                \n",
       "        </div>"
      ],
      "text/plain": [
       "<IPython.core.display.HTML object>"
      ]
     },
     "metadata": {},
     "output_type": "display_data"
    }
   ],
   "source": [
    "#Which carrier has more delay due to security\n",
    "display(airline_data)\n"
   ]
  },
  {
   "cell_type": "code",
   "execution_count": 39,
   "metadata": {
    "pixiedust": {
     "displayParams": {
      "handlerId": "pieChart",
      "keyFields": "airport",
      "title": "Which Airport has most cancelled flights",
      "valueFields": "arr_cancelled"
     }
    }
   },
   "outputs": [
    {
     "data": {
      "text/html": [
       "<style type=\"text/css\">.pd_warning{display:none;}</style><div class=\"pd_warning\"><em>Hey, there's something awesome here! To see it, open this notebook outside GitHub, in a viewer like Jupyter</em></div>\n",
       "        <div class=\"pd_save is-viewer-good\" style=\"padding-right:10px;text-align: center;line-height:initial !important;font-size: xx-large;font-weight: 500;color: coral;\">\n",
       "            Which Airport has most cancelled flights\n",
       "        </div>\n",
       "    <div id=\"chartFigure269dbd91\" class=\"pd_save is-viewer-good\" style=\"overflow-x:auto\">\n",
       "            \n",
       "                    \n",
       "                            <center><img style=\"max-width:initial !important\" src=\"data:image/png;base64,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\" class=\"pd_save\"></center>\n",
       "                        \n",
       "                    \n",
       "                        <div>Too many data points to plot. Dropping 80 rows to make the chart more presentable.</div>\n",
       "                    \n",
       "                \n",
       "        </div>"
      ],
      "text/plain": [
       "<IPython.core.display.HTML object>"
      ]
     },
     "metadata": {},
     "output_type": "display_data"
    }
   ],
   "source": [
    "#Which Airport has most cancelled flights\n",
    "display(airline_data) \n"
   ]
  },
  {
   "cell_type": "code",
   "execution_count": 40,
   "metadata": {
    "pixiedust": {
     "displayParams": {
      "handlerId": "pieChart",
      "keyFields": "airport",
      "title": "Which airport has more delay due to NAS",
      "valueFields": "nas_delay"
     }
    },
    "scrolled": false
   },
   "outputs": [
    {
     "data": {
      "text/html": [
       "<style type=\"text/css\">.pd_warning{display:none;}</style><div class=\"pd_warning\"><em>Hey, there's something awesome here! To see it, open this notebook outside GitHub, in a viewer like Jupyter</em></div>\n",
       "        <div class=\"pd_save is-viewer-good\" style=\"padding-right:10px;text-align: center;line-height:initial !important;font-size: xx-large;font-weight: 500;color: coral;\">\n",
       "            Which airport has more delay due to NAS\n",
       "        </div>\n",
       "    <div id=\"chartFigure72627790\" class=\"pd_save is-viewer-good\" style=\"overflow-x:auto\">\n",
       "            \n",
       "                    \n",
       "                            <center><img style=\"max-width:initial !important\" src=\"data:image/png;base64,iVBORw0KGgoAAAANSUhEUgAAAZAAAAG1CAYAAADX3qJJAAAAOXRFWHRTb2Z0d2FyZQBNYXRwbG90bGliIHZlcnNpb24zLjMuNCwgaHR0cHM6Ly9tYXRwbG90bGliLm9yZy8QVMy6AAAACXBIWXMAAA7EAAAOxAGVKw4bAACwPklEQVR4nOydd3gU1frHv2dreiU9hAAJIaFXaUKQLtUGFlRQERC9/uxe242K5eq1K6igAioq96ogKkpvgdBLgCSb3nuyyfYyc35/zGZJzybZmsznefaBnXLOO9nd+c455y2EUgoeHh4eHp7OInC0ATw8PDw8rgkvIDw8PDw8XUJkq4bPnTsnAjDQln3w8PDw8HQbBkDBmDFj1J09kdhiDeTcuXN9AaQC8LV64zw8PDw8tuAjAE+MGTPGYlGw+ujg3LlzBMDXEonEc8CAARAI+FkyHh4eHmeFUgqlUonCwsJ/mAYU/2fpubaYXgoEMDMyMhKenp42aJ6Hh4eHx5p4eHgAACksLHz8rrvuylGpVN/89ttvio7Os8XwIAgApFKpDZrm4eHh4bEFXl5eAAA/P7/5ANYsWrSowxGALQREAACEEBs0zcPDw8NjCxru2W5ubgUAxgGI6egcfoGCh4eHh8cMIUQPgALw6ehY+7nYJtnRISupzn59uQJfbLRfX6vX2q8vF6Lo+WN26yvy7Rvt1pczc+DgQLv1NeOmbLv1ZUc6nEbiRyAmUlNTcffddyM8PByenp6IjIzEjBkz8M033wAAkpKSMGXKlBbnbdmyBZGRkeb3iYmJIITgiy++aHKcQqGAt7c3CCHIysqy7cW4IN988w0IIXj++ecBAEOGDIGXlxe8vLzg5uYGgUBgfu/l5YWtW7fC19cXubm5TdrZuXMnvL29IZPJHHEZLklubi7uuusuhIeHw8vLC+Hh4bj55ptRWlqKw4cPgxCCvn37gmGYJuf961//AiEEy5cvBwAYjUZMnDgRK1asaHLc4cOH4eHhgfPnz9vrkpweS+8TDX9/o9FoPubw4cMICAjASy+9ZN6Wn5+Phx9+GNHR0fDw8EBYWBgmT56MTz75BHq93mbXwQsIgEOHDmH8+PEICgrC8ePHoVAokJ2djRdffBE7d+7sdHsJCQktvhjffvst+vXrZyWLex4bNmxAYGAgvv76a+h0Oly9ehVKpRJKpRKffvopoqKizO+VSiXuv/9+LF26FHfffbf5x1VcXIyHHnoIn332GQYNGuTgK3Idbr75Znh7e+PKlStQKpW4cOECli1b1mQd08fHB7///rv5vdFoxObNmzFkyBDzNpFIhO3bt+PXX3/FDz/8AACorq7G8uXLsX79eowePdp+F+UCdOU+8d1332HBggV47733sH79egDAtWvXMGrUKCiVSvz555+oq6tDYWEh3nvvPZw9exZlZWU2uwZeQACsXr0ay5Ytw0cffYSG2BWpVIqbbroJu3bt6nR7CxcuRHl5OU6dOmXetnHjRqxevdqaZvcYzpw5g7Nnz+K7775DXV0d/vvf/1p03kcffYT6+nr861//AqUU9913H+bNm4f77rvPxhb3HKqrq5Geno41a9YgICAAABASEoL7778foaGh5uNWr16Nzz//3Px+165dCA0NxdixY5u0179/f2zYsAFr1qxBTk4OVq5ciaFDh+KJJ56wzwW5EJ29T7z++ut49NFHsXPnTqxcudK8/fHHH8fw4cOxfft2JCQkQCwWQyQSYcKECdi6dSuioqJsdg29XkBkMhkyMzPNw3BrIBKJ8NBDD5l/cMePH0d9fT3mz59vtT56Ehs2bMDIkSMxd+5c3HLLLdiwYYNF53l4eODHH3/ERx99hLvvvhuFhYXYuNGO6z09gMDAQAwbNgyrV6/GN998g8uXL4Nl2RbH3XvvvThx4oR5ynDjxo1Yu7b19a577rkHixcvxoQJE3Dq1Cls3bqV98pshc7cJx544AFs2rQJx48fx8yZM83bNRoNDh06ZNX7V2fo9QJSWVkJAIiIiDBvS01NhZ+fH/z8/ODm5oajR492ut1Vq1bh559/hlwux8aNG7Fq1So+Kr8Vamtr8dNPP+Hhhx8GADz88MM4efIkLl26ZNH5w4YNw/r16/Hjjz9i+/btZl92Hss5dOgQ5s2bh40bN2L8+PHo06cPnn76aeh0OvMx3t7euPPOO/Hll19CJpPh3LlzuOuuu9psc+bMmaisrMSiRYsQEhJij8twSSy9T+zatQtz5sxpMmUIADU1NWAYpsn9q66uznz/cnd3x7fffmsz+3v9HS0oKAgAUFRUZN42bNgwyOVyVFVVQafTgWVZiMViGAyGFucbDAaIxeIW2yMjIzF9+nT85z//wa5du/Dggw/a7iJcmIbF83vuuQcAMH36dMTExFg8CgGAkSNHNvmXp3MEBgbitddew+nTp1FXV4evv/4amzZtwltvvdXkuDVr1uDrr7/Gxx9/jHvuuafNTBP5+fn4xz/+geeffx7ffvstDh8+bIercE0svU8cPHgQv//+O+6///4mC+r+/v4QCoVN7l++vr6Qy+WQy+UIDAxs4fxgTXq9gAwaNAgxMTH4/vvv2z1uwIAByM3NbfFhZGZmYuDA1t0F165dizfffBPz5s1DWFiY1WzuKVBK8fnnn0Ov12PQoEEIDQ1FWFgYioqK8P3336O+vt7RJvY6pFIplixZgpkzZ7bwmho1alSTNY7WYBgGd999N2655Ra89dZbSEpKwr333ova2lp7mO+SWHKfGDFiBI4fP47jx4/j1ltvhVarBcBN4yYmJnZ4/7IVvV5AAODzzz/Hjz/+iP/7v/9Dbm4uWJaFwWDAkSNHzMfMmzcPIpEI//znP1FfXw+GYXDo0CFs3rwZDzzwQKvtzpkzB/v27cMHH3xgr0txKfbt24fMzEzs3bsXFy9eNL8uX74MANi6dauDLez51NbW4vnnn8fly5eh0+nAMAwOHDiAQ4cOYerUqS2O//7773H48GEMHTq01fZeffVVVFZW4pNPPgEAPPvssxg0aBBWrVpl0+twZSy9TwwcOBDJycnIy8vDnDlzzA9YH374IS5evIi7774baWlpMBgMYBgGZ86cgUqlsqntdgwkdN7gvhkzZuDUqVN46623MGnSJNTV1SEgIACDBg3Ct99+i8mTJ0MsFmP//v345z//ibi4OGg0GkRHR+M///kP7r777lbbJYRgxowZdr6aVnDS4L6NGzdi5syZmD59epPtoaGheOihh7Bx40Y89thjDrLOujhrcJ9EIkFVVRXuuOMOlJSUQCgUIjIyEs899xyeeuqpJg9RAHcTa2vEffToUbz77rs4duyYeS1KIBBg27ZtGDFiBDZv3oyHHnrI5tfUgKsE93XmPhEWFoYjR45gwYIFSExMxF9//YWhQ4fiwoULeOONNzBnzhxUVlbCz88P/fv3xxtvvIGlS5faznZr1wM5d+7cEABXEhIS4O7ubtW2eXh4eHhsg0ajwbVr1/D9999vyMrK6gPgs99++61dDyJ+CouHh4eHp0vwAsLDw8PD0yV4AeHh4eHh6RK8gPDw8PDwdAleQHh4eHh4ugQvIDw8PDw8XYIXEB4eHh6eLsELCA8PDw9Pl+AFhIeHh4enS9gvlcn+f9qtK8x8q+NjehGfrTlot77WfX6T3fpyJbR7Uu3Wl9u8YXbry5nJynrfbn3FxDxpt76ciV4/AklMTIREIjHX2o6IiMCjjz4KjUYDAFixYkWTYi2JiYlNahE30Pw4Hss5d+4cFi1ahICAAHh4eCA+Ph5vvvkmDAYDKKUICgpqkd596tSp8PDwaFKz4vLlyyCEIDMzEwCXY8jd3R1eXl7w9vZGXFycOckfz3UsqYluNBqxZs0a8+/E09MThBB4enqat7WVoZenJZbcd8Risfm7GxMTg9dffx2NU08lJSVBKBTCy8sLPj4+CAoKQmJiIj777LNWS0/Ygl4vIACXMbSh1nZycjIOHDiA1157zdFm9QoOHjyIKVOmICEhAdeuXYNcLscXX3yBLVu2YMmSJaCUYsaMGdi/f7/5HKVSibNnz6Jfv35ITk42b9+3bx+io6MRGxtr3rZ7924olUrU19dj06ZNePbZZ/H333/b9RqdHUtqogNc1uqG30lDwa/Gtesbl7zl6ZiO7jvLli0zf3c3b96Mt956C9u2bWvSxsSJE83H5Obm4qmnnsKHH36IWbNm2UVEeAFpRnR0NObOnWtOKc5jW9auXYvbbrsNb7/9NkJDQyGRSDB16lTs2rULe/fuxY4dOzB79mwcOnTIXIvl8OHDGDlyJBYvXox9+/aZ29q3bx9mzZrVaj+EEEydOhWDBw/mP9tGWFoTnce2tHffIYQgMTERCQkJOHPmTJtteHl5YeHChdi1axdOnjxp00qEDfAC0ozs7Gzs2bOn1VoIPNZFJpNBJpNhxYoVLfbFx8dj/Pjx+P333zF79mzI5XLzj2ffvn2YOXMmZs6caRYQnU6Ho0ePtikgLMvi4MGDkMlkmDx5ss2uydWwtCY6j21p777Dsiz279+Pq1evIj4+vsO2EhISMHr06CYPV7aCFxAA//nPf+Dn5wcvLy/ExMQgODgYjzzySIfHN35t377djhb3DFqrR9+YyMhIVFRUIDIyEvHx8eYfRIOATJkyBWlpaaiurkZycjJ0Ol2LugpLliyBn58fPDw8MGPGDKxatQoTJ0607YW5GJbUROexPh3dd3bs2AE/Pz+4ublh1qxZWLNmDVavXm1R21FRUaiurraV6WZ4AQHw9NNPQy6XQ6lUoqKiAiEhIZgzZ06Hxzd+tVVUiqdtGurRFxcXt7q/qKgIwcHBAIBZs2Zh3759KC4uRmFhISZOnAg3NzdMmDABBw4cwL59+zBmzBjzNEwDO3fuhFwuh0ajQXp6Ov766y+8+OKLtr0wF8PSmug81qWj+87SpUshl8uhUCjwyiuvYP/+/eZF9o4oKChAYGCgrUw3wwtIM4KCgnD//ffj5MmTdlHw3kxDPfrmC4MAkJGRgdOnT2P+/PkAgNmzZyMlJQW//PILbrzxRojFYgAwT2O1t/4BcPPIcXFxWLBgAXbv3m2bC+oBtFcTncd2tHffkUqlePXVV+Hr64tXXnmlw7bS0tJw/vz5dn8P1oIXkGbU1tbi22+/Rd++fe2i4L2dDRs2YMeOHXjhhRdQXl4Og8GA48ePY/HixZgxY4a5HGdiYiIIIXjrrbcwc+ZM8/kzZszA7t27ceHCBcyePbvdvrKzs/HHH39g5MiRtrwkl6KzNdF5bIMl953169djw4YNyM3NbXW/SqXCH3/8gSVLlmD8+PG49957bWkyAHsGEjpxcN8777yDDz/8EADg7u6OCRMmYM+ePY41yoo4c3DfrFmzcOzYMbz22msYPHgwtFotoqKicO+99+LZZ5+FUCgEAHh6emLSpEk4fPhwEwEZO3YsdDod3N3dW13bWLhwIYRCISil8Pf3x/z58/HOO+/Y7foacNbgvs7WRHclnD24r7P3ncTEREyZMgUvvviiec315MmT8PLygkAggEQiwZAhQ/Doo49i9erV5lG6LeFrovPw8PDw8DXReXh4eHjsBy8gPDw8PDxdghcQHh4eHp4uwQsIDw8PD0+X4AWEh4eHh6dL8ALCw8PDw9MleAHh4eHh4ekSvIDw8PDw8HQJu0WiD9tqv0jc1PvtVz7UFTix65rd+pq0OMFufbkSSUlJPbIvZyb00EW79VU2faTd+nImev0IpLMlbVmWxVNPPYXg4GCcPHnSvH337t2YNWsWAgIC4O3tjQEDBmDp0qUunQrC1lBKMX/+fCxcuLDFvltuuQVz584FpRSHDh0CIQR33nlni+OSkpIwZcqUJts++OAD+Pj44LfffrOZ7T2Jtso0b9myBQKBwPzbCAgIwIwZM5okWWwoedtwTMPrr7/+sucluCTtlRIGAKPRiPfffx+jRo2Cl5cX+vTpgzFjxuD999+HXq8HwBWicnNza/H3b3xvsiW9XkAAy0vaajQa3HHHHfj9999x8uRJc+6lt956C8uXL8eSJUtw7do1KBQKnD9/Hrfeeit+/vlne1+Oy0AIwZYtW3Du3Dl8+umn5u2ff/45UlJSsG3bNhBCsGHDBgQGBuKXX35BeXl5m+2xLIvHHnsM//73v3Hw4EEsWrTIHpfRowkPDzf/NkpKSjBixAgsWLAAzVMgNaQlb3jNnTvXQRa7Du2VEmZZFosXL8aGDRvwxhtvoKysDJWVldi8eTPOnDljFhkA+PTTT5v87ZVKpd1q3tgvmaKL0FZpycrKSixatAgikQgnT540153Iz8/HK6+8gk2bNjWprOfn54c777yz1admnusEBQXhu+++w8KFCzFt2jSIRCI8/fTT+PXXXxEcHIzS0lLs3LkT27ZtwxNPPIFNmza1+rSsUqlw1113ITs7G6dOnUK/fv0ccDU9Gzc3N9x///344IMPUFVVZa7nwtN5GkoJf//99y1KCQPA9u3bsW/fPly+fBmDBw82nzdq1Cj88MMPDrG5NfgRSDNaKy2Zl5eHCRMmIDo6Gvv3729StOjvv/8Gy7K46667HGFuj+Cmm27CE088gbvuugt33303HnvsMXMtgy+//BIBAQG4/fbbsWLFCnz55Zfm2ugN1NTUYNq0aeYRJC8etkGlUuGbb75BfHw8+vTp42hzXJqOSgn/8ccfGDduXBPxcEZ4AUHHpSVTU1ORn5+Phx9+GFKptMm5lZWV6NOnT5PtGzduhJ+fH3x8fODm5ma363BlkpKSzH+r119/HQDAMIx5ZCcWi7Fq1SoUFRXh999/b3JuUVERzp8/j5UrV8LPz8/epvdoSkpKzGWbvb298e233+KTTz4BIaTJcX369DEfN2TIEAdZ61q0V0q4oZSzJfzjH/9oUWLbXuWIeQFBx6UlFy5ciPXr12P+/PktFmaDgoJQVVXV5ANbu3Yt5HI5fvnlF76utIWIRCIMHToUQ4YMgUjEzazu2rULJSUleOihhwAAAwcOxPTp07Fhw4Ym5w4fPhzbtm3DqlWr8Pnnn9vd9p5MeHi4uWyzTqfDxx9/jPnz5yM1tamnY1VVlfm4q1evOsha16K9UsLBwcEoKiqyqJ2PP/64RYnt5g+6toIXkGa0VVry+eefx8cff4ylS5di69at5u2zZ88GIcSp5iV7Cg1CceONNyI0NBShoaE4deoU9u3bh6ysrCbHLl++HD///DOefPJJvPHGG44wt8cjFotxzz33wMvLC3v37nW0OT2K5qWE58+fjzNnziAjI8PRprULLyDNaK+05EMPPYTvv/8ea9aswQcffACAW3T/17/+hccffxyfffaZ2UtIoVAgJSXF7vb3FGQyGQ4ePIgtW7bg4sWL5pdMJkNkZCQ2btzY4pz58+dj7969ePfdd/Hkk0+28BTiaRuGYaDVapu8Gs/JNxzz448/orq6mi8L3E06KiV85513YubMmVi4cCH+/vtvqFQqUEqRmpqKe++9F/n5+Y6+BAC8gADgSks2+E8PGjQIarW6zdKSt912G37//Xe88sorZm+gl19+GVu3bsUvv/yCuLg4eHt7Y+TIkbh06RIOHTpkz0vpMWzcuBGxsbFYvny5efQRGhqK8PBwPPnkk9iyZYs5VqcxU6ZMwZEjR/DDDz9gxYoVMBqNDrDe9Xj77bfh7u7e5MWyLEpKSsy/DX9/f7z55pv46quvMGPGDEeb7NI0LiXcp08fBAYG4vHHHzeXEhYIBPjtt9+wevVqPPfccwgKCkJQUBBWrlyJMWPGICwszNzWo48+2iIO5KeffrLLdfAlbXl4eHh4+JK2PDw8PDz2gxcQHh4eHp4uwQsIDw8PD0+X4AWEh4eHh6dL8ALCw8PDw9MleAHh4eHh4ekSvIDw8PDw8HQJXkB4eHh4eLoELyA8PDw8PF3CbgWlvsh7115dYXX0M3bryxV4b9kCu/X11E+/d3xQL8SeedEmTJhgt76cmW8yS+zW18rYcLv15Uz0+hFIW/WgV6xYgXvuuceimt0A2q3bzdM+586dw6JFixAQEAAPDw/Ex8fjzTffhMFgwJtvvtkkxw8hBO7u7ub38+bNA8CVx92/f3+LtqOjo7F582Z7X5JLkZiYCIlEYv6bRkRE4NFHHzXnGmuox9L4c4iOjjaf3/wz8fLywosvvuigq3ENEhMTQQjBF1980WS7QqGAt7c3CCHmjNMd1UZ/6qmnMH78+CbtfP311yCEYNu2bU22jx492qqfTa8XkPawtGY3AIvrdvM05eDBg5gyZQoSEhJw7do1yOVyfPHFF9iyZQuWLFmC559/3lznWS6XAwD27Nlj3tZW0kuezvHss8+a/6bJyck4cOAAXnvtNfP+ZcuWNam5nZeX1+T83bt3N9nPp9TvmISEhBYC8u233zapqGlJbfRZs2bh3LlzqK2tNZ+3b98+DB06tMlDVWVlJS5evIjZs2db7Rp4AemAhprdzz33HFJTU5GWloann34a27ZtQ3BwMACY63Z/8sknCAgIwKZNmxxsteuwdu1a3HbbbXj77bcRGhoKiUSCqVOnYteuXdi7dy927NjhaBN7HdHR0Zg7dy4uX77saFN6NAsXLkR5eTlOnTpl3rZx40asXr3a/P7HH3/Evn378Pvvv+Pmm282j8IbaqP369cP06ZNg1gsxsGDBwEAlFIcOHAAb7zxRhMBOXDgADw8PDBx4kSrXQMvIBbQXs1uwLK63TwtkclkkMlkWLFiRYt98fHxGD9+fIvytTy2Jzs7G3v27MHUqVMdbUqPRiQS4aGHHjJX0Tx+/Djq6+sxf/588zGW1EZ3d3fHlClTsG/fPgDAxYsX4ebmhkWLFkEoFOLKlSsAuFHJtGnTIJFIrHYNvIDgek30xq/t27c3Oaa1mt2A5XW7eVpSWVkJAIiIiGh1f2RkJCoqKixub8mSJS0+x4KCAqvY2tNp+A14eXkhJiYGwcHBeOSRR8z7d+zY0eTv2nyKqvnfPjc3196X4JKsWrUKP//8M+RyOTZu3IhVq1ZBILh+W7a0Nvrs2bPNArJv3z7MnDkTADBjxowm2605fQXwAgLgek30xq+77767yTGt1ewGLK/bzdOSoKAgAEBxcXGr+4uKiszThJawc+fOFp9jVFSUVWzt6TT8BpRKJSoqKhASEoI5c+aY9y9durTJ37X5Qmzzv33//v3tfQkuSWRkJKZPn47//Oc/2LVrFx588MEm+y2tjT5r1izk5OQgJyenVQHJyMhAYWFhk5kTa8ALSDfpTN1unqYMGjQIMTExLTxFACAjIwOnT59uMpznsQ9BQUG4//77cfLkSVRXVzvanB7P2rVr8eabb2LevHlNKg0CsLg2+siRIxEcHIzffvsNycnJ5oqRM2bMwNGjR/H7778jIiICCQkJVrWdF5Bu0JW63TxN2bBhA3bs2IEXXngB5eXlMBgMOH78OBYvXowZM2Zg6dKljjax11FbW4tvv/0Wffv2RWBgoKPN6fHMmTMH+/btwwcffNBin6W10QkhmDlzJt555x3ExMQgJCQEABAeHo6oqCi89957Vh99AHYMJOyJwX2N63Y3nrcEgCeffBKvv/461q9f7/DSvs4c3Ddr1iwcO3YMr732GgYPHgytVouoqCjce++9ePbZZyEUCh1tolVw9uC+d955Bx9++CEAblF2woQJLu8i7SrBfYSQNmvMN9RG/+ijj/Dcc89BJpPBw8MD0dHRWL58eZMRy+zZs7F9+/YWsWgzZ87EJ598YhMB4Wui8/Dw8PDwNdF5eHh4eOwHLyA8PDw8PF2CFxAeHh4eni7BCwgPDw8PT5fgBYSHh4eHp0vwAsLDw8PD0yV4AeHh4eHh6RK8gPDw8PDwdAleQHh4eHh4uoTdUpmkDY63V1eIT0+zW1+uQPJXn9mtr8kPrrNbXzw8PI6l149AOlMP2tvbGzExMXj99dfNtdBvu+22Fgn/XnnlFRBCcPTo9SwALMuiT58+fLXCZrRVk37Lli0QCARNPpeVK1eipqbGfMzhw4dBCDF/Nv7+/hg9ejReeOEFVFVV2fMyeHh6Jb1eQADL60HX19dj8+bNeOutt8wpyGfNmoWDBw+CZVnz8a3VI75w4QKqq6utXtClJxMeHm7+XI4fP45Tp07hqaeeanGcXC6HQqFAZWUlNm7ciPPnz2PEiBHmTKU8PDy2gReQZrRXD5oQgsTERCQkJODMmTMAuAyY1dXVuHDhAgCgrq4Oly5dQlJSkrkSGMCJSmxsLPr162efC+lh9O/fHzfffLP5794aIpEIN9xwA3799Vd4enri5ZdftqOFPDy9D15AmtFePWiWZbF//35cvXoV8fHcms6AAQMwcOBAs1gcPHgQY8eOxbx583D58mXU1dUB4ATEFumUewuZmZnYvXu3+e/eHu7u7rjtttuaCDgPD4/14QUElteDdnNzw6xZs7BmzRqsXr3avL+1esQeHh4YN24cDh48CI1Gg+TkZH76qpOUlJTAz88PHh4eGDRoEPr27YvPPrPMISAqKoqvpsfDY2N4AYHl9aAVCgVeeeUV7N+/37zIDnDrIMnJydBoNK3WIz569CgYhsH06dPtfm2uTHh4uPlz2bVrFy5fvozS0lKLzi0oKOCr6fHw2BheQJrRXj1oqVSKV199Fb6+vnjllVfM22+66SYwDINt27ahoqIC48ePB8BVAtu3bx/27duH8ePHw8fHx67X0lMQCARYtGgRVq1ahQceeAAdFUHTarX45Zdf+ClDHh4bwwtIMyypB71+/Xps2LABubm5AABfX1+MHz8er776KqZNmwaRiAuvGTduHCoqKrB9+3Z++qodGIaBVqtt8mrs1dbAM888g5ycHGzfvr3VdoxGI86cOYPbbrsN9fX1TTzpeHh4rI/dAgmdObivs/WgExMTMWXKFLz44ovmm9ns2bORlJRknr4COK+gadOmYffu3Q59Gnb24L63334bb7/9dpNtrcXL+Pn54cknn8RLL72EO+64o8l2QgiEQiH69++POXPm4JtvvkFwcLDNbefh6c3wNdF5eHh4ePia6Dw8PDw89oMXEB4eHh6eLsELCA8PDw9Pl+AFhIeHh4enS9hCQBgAHfrq8/Dw8PA4Dw2u80ajsaUPfRvYwo23AICmpKREGh4eLiCE2KALHh4eHh5rQCmFTqdDYWEhazQaDYWFhbUALPKBt7qAjBkzRn3u3Lm5crl8b11dndTa7fPw8PDwWJ+qqqq8X375ZRfDMCwAAsDY0Tk2CSQcM2bM0TVr1twgEAheFYlEapFIVGuLfnozer1eeu3atQcHDBjwXx8fn8rm+2tqaiIKCgoWDx8+/HOBQGAekqpUKt/MzMx7Bg0a9K2Hh4fCvlbbBzdIvDyI1N8dEn8JxH4SCP1EROQjBPEAiN2CZ9uCpayGIYzCSFmlgRgVOmqUa6GXq6m2RgejpuMWeHisB6WU1tTUqGpraxu+e0EAtAA6zEZqsx9TSUnJZQBfArjbZBCPlVGpVHWpqakzPTw8siQSiVwikdQRQigAaDQa3/r6emRnZwcRQswCotfrverr65Gfnx8oFovdHGd99xFCIPISefh7Cd0D3AVSP4lA7CMWiLwFMAoNMMIAlaNNbAt306vJNIEEgA7qUqObVqQzMnV6g7FOozfI1Xq9HIDF89I8PN1ED2A7AFlHB1o9Er0xixYtIgDGAAgH9/vgsSIqlcqrsLBwvlarHWk0GvsRQnQeHh6HYmJitldUVMSVlpYmjRo1aplQKDTffGpqakJzcnI+iYmJecTPz6/FyMVZERGhYJBH36gwaZ9YP7F3jKfQLUYiEEeih3kSVrtXZLB+mrjG2yiFXm805qh1+gy5Sp1RVCOX1ShVdY6ykadHowdQAuDcb7/91qE42FRAeOwHIUQKYB6ArQA+AHAYwCEAYkqpsdFxMQAyAfSnlObZ31LLKHr+GAEwGsBNptcUAF4ONcoOlEZmZujdmwpIG+QCOAFgP4C/Jj+4rsy2lvHwtIQXkB4GIeRnAGIA78PFBES7JzUcwBwAcyiliTXJde6UQa/JgU9BmYKBV4wQ0M46n1AAlwH8bXodn/zgOr3VDeThaQYvIC4KIcQfwHPg5iozwHlMJAL4L4A3AZyFCwiIdk9qDIA7ANwGbrrTjCJDfVpXph/vEMMcACVsbkHMlf5WaEoJ7rPfBeDXyQ+uq7FCmzw8LXC4RwpPl9ED6ANOMMLBBXAWAfg3gPcATHOcae2j3ZMaB040bgcwoq3j3EIkGl1Z73mQNgoN5QCsISBeABaaXhuTv/rsAIAd4MREboX2eXgA8CMQHjuh3ZPaH8B94IRjiCXnUJbmVB+rG2BTw5wIlZf8cFVYQaINuzAA2IfrYlJvw754egG8gPDYDO2eVAmAWwCsArcQ3um0BDUpdaWsjoZZ2zZnpKZP8UmFf/VEO3WnBvA/AF9PfnDdETv1ydPD4AWEx+po96QmgBONewG0XhfYQlS5mmRNgW6yVQxzckr7yrL1btqBDug6E8AmAN9MfnBdlQP653FReAHhsQraPaliAHcCWAvAak/RRhVzQn5WMcla7TkrFNRQEJMKEIgdaIYOwM8APp784LpTDrSDx0XgBYSnW2j3pPoAeBjA4wAird0+pbSi+mhdjy9uzhI2qzDmSoyj7WjEMQD/AbB78oPr+JsET6vwAsLTJUwxG/8HYDVg21gN+TlFplHJxNqyD0djEOtOlERnOONIKx2cV9+3kx9cp3O0MTzOBS8gPJ1Cuyd1CICnweU4s0t6Gk2J7ogqU+O0bsnWQOVVe6QqrNCZr7EMwCcAPpv84Do+jQoPAF5AeCxEuyd1MIBXwbnh2rXIC6Njz9am1I+1Z5/2pjq4KEXpWzPB0XZYQA2AdwB8MvnBdWpHG8PjWHgB4WkXU/xGEoB7AAgdYQOlVFV9rE4M2nMTcpZEZeQZpLpoR9vRCcoAvAHgSz5tSu+FFxCeVtHuSQ0C8DK4NQ6H37jrrygv6auNbUatuzIUVFsQkyoBccnMwvkAXgOwdfKD6xhHG8NjX1zxC8tjQ7R7Ut21e1JfApAN4DE4gXgAgDRU0mOLklFC811UPACgH4CvAFxJ/uqzuY42hse+uOqXlscGaPekLgGQBuB1AN6OtaYpYj9xjy1KZhTre0Lw3mAAe5K/+mxX8lefOUX6GULIGELIb4SQGkKImhCSRgh5gRAiNv2rbPSihBBNo/d7TG1QQsjMVtrOI4Q8ZP+rci54AeGBdk/qQO2e1D8A/AruidLpIEIMJkL0SO8fvVTdYe1pF2IRgKvJX332evJXn3k4yghCyE0AjgO4BiABgB+46dgVAHYCeJtS6kUp9TLtA4B5DdsopfPsbbMrwgtIL8Y0XfUagKsAbna0Pe1BCBFKgiXpjrbDFmg9VO6OtsHKuAF4CUB68lefLXWQDRsB/EwpfZ5SWkYp1VNKjwJYDGA2AEfZ1aPgBaSXot2TuhCccLwMoLMFjByCW4ikRway6dxU4Y62wUb0BfBT8lef/ZX81Wd2G9kSQgYBGARgS/N9lNI0AKcBLLCXPT0Zvh5IL0O7JzUAwAYAyxxtS2cReQv7OtoGa0NBVUaxPsLRdtiYOeAW2V8AF4jI2ri/hvWy4jb2FwHoTHqcnYSQ5tOMvaZSZnvwI5BehHZP6s0ArsAFxQMAiID0F7gJ2ropuCSUsPkg9g3MdBBelNJ/nT9yaPd7yxbYOuNwpenftoQ5EkBFJ9pbQin1a/wCUNAdA3sKvID0ArR7Ur21e1I3A/gDgEvX1nALkeQ42gZrYhTre0252XxZeoZep70ZwKX3li1Y996yBTYRTkqpDEAWuAJmTSCExAEYD+63wNNNeAHp4Wj3pE4HkArgQUfbYg0kwWKHRMPbCp2bulcE32k16lNl+XkNySI9AXwKYP97yxbYavruEQBLCSFvEkJCTK67U8DViW8o8cvTTXgB6aFo96RKtHtSPwD3Y3FK19yuIHQXxALoMekTtO4qL0fbYGsopbVXT6e0Vuv9JgAX31u2wOoBiJTSfQBuBDAMXEbhenABj98BWEQp7RXCbWv4VCY9EO2e1ChwT1g3ONoWWyA/r8gwKpg4R9thDYqi00oZscGlpxU7okCWkVySl9NeVUkK4C0Arzz10+/8jd2F4EcgPQztntS5AM6jh4oHALiFSsocbYM1oKB1PV08dFrN6Q7EA+CyO78A4MB7yxb06L9HT4MXkB6Cdk+qwBQU+Ae6WYfc2ZEEij0dbYM1oAK2R3vyUErrrp5KierEKdPATWm1SB3C45zwAtIDMGXO/RtcUGCP/0yJhCSAwOWDCg1indzRNtiSouzMVL1OG9rJ04IB/P3esgWvvbdsQY//Lrs6/Afk4mj3pI4DN2XVa57aCCEekgDxNUfb0V10bmpbB9Q5DL1We7Y4J3tKF08XgHsY2v3esgVOldSTpym8gLgw2j2pSwEcARcY1auQhkrqHW1Dd9G5K3tkNDOltP7K6ZPWcM+9GcDJ95YtaM2Di8cJ4AXERdHuSX0FwI8AeloiPosQ+4lcPr27zl3dI4W/JDf7kl6rtdZi+BAAp95btqCroxkeG8ILiIuRlJQkfjXp1a9y68pvh51rkzsTRIjBRETkjrajq1DQakZkdHkRbI5epztXmJV5o5WbDQIXdOiSKXh6MryAuBBJSUk+AP6koA/8lH48rEajKHS0TY6CECKQBotdNr07K2B63GdHKVVePX0yxEbNSwH88N6yBc/ZqH2eLsALiIuQlJQUCa5ATsNieZ+vUvcbNEa93HFWORZpiETvaBu6ikGic/k1nOaU5uWe12k0tpyWIwDefm/Zgo28h5ZzwH8ILkBSUtJAAMng0jKYYSg74MtLf+cxLGtwjGWOReQljHa0DV1F56ZytAlWxaDXXyjIzLD21FVbrAHw3XvLFvDlKBwMLyBOTlJSUhw4T6tWA7I0Rv3ILVcPnrKvVc4BEZAogZugyNF2dAWdu8rX0TZYC0qp6urpk31g3zW5uwD89N6yBWI79snTDF5AnJikpKQEAIfRdl0DAEClum7KrqxTR+xilJPhFirJdbQNXUHnru4xxbHKCvLPatUOuZ5bAfzy3rIFLlFRsyfCC4iTkpSUNByceFgUyZtWXTTtVIks2aZGOSHSILHLTWNQ0ApWyAQ42g5rYNDrL+VnpE11oAkLwAUcejjQhl4LLyBOSFJS0mgAh3C9NKdFHCpMHZstL7tsG6ucE4G7IA4ult6dFRp7RFVFSqnm6pkUPzjenXwWgD3vLVvQ41PjOxu8gDgZSUlJ48HV8OjKE6r0vxnJkVWa+nwrm+W0EEICRD7CDEfb0Rl6igdWeVHBaa1K5Sy1ZqYC2PvesgU9Zm3JFeAFxIlISkoaB2AfAL9uNBPwdeoBqjboaq1jlfPjaunddW4ql//dGQ2G1Ly0a/byurKUiQD+5Kez7IfLf5F7CklJSYPApWLvdn4klrLRX176u4BhWZeNk+gMkkCxS+WU0nqo/BxtQ3eglGqvnknxgnPePyaBW1iX2KJxwvEHIWR3K/t+JYT8ZTpmOiGEEkJ+bOW4JELI8WbbniCE1BNCFtnCblvhjF+AXkdSUlIYuHTsVkttoWUMI76+sv+MtdpzZoiYJEAAraPtsBSdVO0s0z5dorK4KEWjVDpzgsM54OJErH5/o1wJ1xUAxhBCHm3YTghZA2ACgPtMxzwCoBrArYSQNqPzCSECQsgnAJ4DcBOl9Ddr22xLeAFxMElJSb4A/gIQbe22qzWKyb/KUg5bu11ngxDiJgkQpznaDkugoCVUyLrUiKkxRqPxas61K842ddUCgVA0ctTC5961RduU0koAywH8mxAyjBASD+A/4MSjghASBmAJgMcA1ABY1Vo7hBBPADvB1Ya/gVJ61hb22hJeQBxIUlKSFMAuAMNt1UdGbXHiieL04x0f6dq4hUrqHG2DJTBCY4mjbegqlFLdtTMpbgCEjralPYRit9TRS14KcvMOfPLErmsv2qIPSulBAB8A+AHAdgCfUEr3mXY/DE44/gdgC4CHCSHN/2YB4AKEvQBMppS6pONLjxIQQshhQsj6VravIISwhBCl6VVDCDlACBnd6JhE05ylstlrri1sTUpKEgD4HlwZT5tytOjqeFltyUVb9+NIxH6izla+cwgGqdZlc5hUlZakqBWKgY62oz0k7r5nxtzyUoxY6uFn2rT+xK5r99mouyTAPHX6MgCYhGIVgC2UUgOATeDq9Sxodm4kgNEAvqGUym1kn83pUQLSASWUUi9KqReAcACXAPxOCGnuw+7XcJzp9ZeN7PkMwG02ars5kl9kJ6Mr1HUuGbVtEQIMImJS42gzOkLnpnK5wEcAYIzGtOyrqZMdbUd7uPuGJo9e/PwooUjSvEbO5hO7rs2ydn+UUiOAKwCumv4PAIvB3V82m47JBhfT9Uiz0y8DuA/AJtP6iUvSmwTEDKVUC2ArgDAAfezdf1JS0tPgEsLZE78tVw4IVQZttZ37tQum9O5OHw+idVf5O9qGzkIp1V87e1oESp1W/HxDYo6MuPmJSUQgbM1GMYCfT+y6NtIOpjQIxTFCSBkhpAzADQBmEUJiGh9IKf0O3EPk+4QQm0y12ZpeKSCmxauVANIAVNmz76SkpJkA3rZnnw2wlEZ9eWlviZFlXMZjqTNIgyXGjo9yHBSU6t3U0Y62o7NUl5edUNXXxTrajrYIGjD2SMKMh6e1MpvQGG8Af57YdS3cVnYQQgaBWxBfAWBko9cgAEUA1jY/h1L6B4DZAJ4hhLzfwTU4HU77RGEDwgkxV7DzAVALYKnJ5a4xVY0+w2JK6RBrGZCUlBQNrgytwxYhdYxh2Nep+0+sGj57oqt9WTuis+ndZ2y+D0X15eb3LGWhNerw5S3rMTZiKP6x+3VcKk3HiLDB+Hjhywjy5JID1OuUWLD1YXx165uI7dOpLgupgLaaVdlZYRhjRnbqJWedumIih8480Xf4bEvXEcMA7Dix69r0SYsTbFECYS2ATADfUUrZxjsIIe8DeJkQ8lLzkyilxwkh08B5YwYSQh5sNCXm1JCW90/XhRByGMBxSulLzbavALCeUhppei8GsBTAVwDGUUpTCSGJ4OYqxbb48JKSktwBnAD3ROJwYvzCjtweN8nmC/j2pvZ0fQGjYbt0k/767P/w4YmtOP3I//DW4c9BQPDyTevwrwMfQ0gEeHXm4wCAJ/54A4ODBmL1+Ds71b5RpD9d3D99fFdscwSUUsPV0yk5yjp5nKNtaQXtgPG3XQqJueGGLpz70aTFCf9nbYN6I71yCotSaqCUfg9ACW74aA82wUnEAwCy5KXTjhVdO+ZoO6yNNFSS19Vzv72wE3cOvxluIilya4uQOGAChAIhZgychNxaruzI35nHUCAvxapxSzvdvl6q1XTVNkdQW1Ge7KTiUTd42oqMLooHADx+Yte1zqk/T6v0RAEREkLcGr/Q7DoJIUJCyJ0AAgFctLVBSUlJTwC4x9b9dJbk4rQJ6TVF5x1thzWRBom7lMIiOf8ccmqLsHzkYgBAQnAMDuachIExYn9WMhKCY1GjluP1gxvw/vwXICCd/+m4kgcWwzCZmZcvTnK0HS0hFUNnP1rmH5EwopsNbT6x61qCVUzqxfREAXkegKbZSwBuDURJCFGCW/94AcCDlNIDtjQmKSlpOoB3bNlHNxDvzDw1sFwlz3a0IdZC4CaIA8B2eGAztp3ficT+4xHlx62xrpuwHCq9BvO2PAitUY91E+7Bi3s/wMPjl4FhGaz83/O4fftj2Hhqu8V9aN1VVktVY0sopcb0c2eMlFKb5JPqKoQI80cueFrr3SfKGqMiTwC/nNh1zdsKbfVaXOaJyBIopYnt7N7cwbmHYeW6BklJSaEAfoJz/519t145qHhk1LxKL4m7S9zg2oMQ4i/yFV4z1jEWP12WKaqwN+s4Nt/6pnmbt9QT7938vPn9rmsHUKdT4N6Ri3Hr9+vwxOSVmBg1Cst+eBzDQuIwJXpMu31QUEYv1bhEDix5ZeVxhbw20dF2NEYgFGeMWvisv8TDN9iKzcYB+BxOODvgKjjzjc2lSUpKIuBiTZz+psyCRn55ee/Vx0bN9xILRc2DsFwOt1BppbJObfHx2y/9hnDvYEwf0PqUeoWyGu8c24T/3vURCCG4Up6JG/qOgFgowrjIYbhSLutQQABaAAFtNwHh8lfWo7z6eiwkSyl0egPeeGQVhg3sj1c3b0V6Xj4GR/fDvx66HwG+XEotpVqDh954B2+vW43o8O4F5LMMky27dGFitxqxMiKJx8VRi57rL5K426LWx90ndl3bO2lxwlYbtN3j6YlTWM7C/8F+C/TdRs8Yh2xO3X+pFbdml0MSILI4WaGRNWL7pd9xz8hFba5rPPfXu3h80v0I9+GSqvb3j8T+rBNQ6zU4nn8e/fzbLVnP9SMylHd0zHevvYR9n71vfq25dTF8vTwxYVgCtv25FwMiwvDnR++gX2gItv2513zehz/8F4unTum2eFBKmfQLZ7WUsk5TY1zq6X9qzC0vDraReDTw6Yld15w2zsWZ4QXEBiQlJY0A8Jaj7egsdTrVhB0ZyUcdbUd3MaV3t8jjaW/mccg19bhz+PxW9/90+U+AAEuHzTNve3vO0/jPsc0Yv+E2DAuJxdzYjpPT6qVanYXmm9l5+BjmT5kIqViMovIKTBiaAKFAgEkjhqKovAIAcOzCZZRWVWPZrOmdbb4FddVVx+praqwW99RdPP0jjo1a+NxYgVDsZuOuvAD8cGLXNada83EF+CksK2PKsPsdAKd5iusMuXXl0w4XpB5NjBo21dG2dBVCiFQSKD6nrzR0NK+Em+MScXNcYpv7lw2/GcuG39xk2+iIITi06rtO2aRzV3bq5nQuLQOF5RVYMm0KACCmbwROXr6KMYPjkHwpFbFRkZArlPh0xy94/8lHIRB071mQZZncjIvnJ3SrESviFx5/JD5xpT3jlMYAeBPA03bs0+XhRyDW5zUAQx1tRHdIKZVNulZVaNXaBKPX3II+t95gfgXcMh7uNw/HrhMHUF5bjZtfWIWQ2yfh5hdWobz2erquOpUCwx5aiPSCnE715xYqUVrT/u6ic1d1avH318PHcMPQBIQHcana7r15NtQ6HR54/W3o9AYsnzcL733/E+6cPQMMw+DZjz/Ho+98iO/37Oug5ZZQStmMC+eVlGVt/aRvCTQkdoK9xaOBJ0/suuYy087OAC8gViQpKWkyesYTjOi37NODSpU1mdZq8Pznv6Lql1Pm1+srHkegjx/mjJ2Cd37ahIR+MSj56RgGRfbHOz9tMp/31Odv48Gbb8fgqAGd6k/s6zzp3SmoQS/VWhwdXyWX49jFy7hl+vWpMU93d7ywcjm2vfoiXli5HCdTr0Kp1mBJ4hS89c33uGPGNHz45GM4fikVZ9M6l1OyvqbmWF111bBOnWQbjFEj5p0YMO5WR2VIIAC+OLHrmqeD+nc5eAGxEklJSR7gvK56yt/UZ9vVw54KvabDxd+usOnPHbh/9i1wk0iRXVKAOWOnQCgU4ubxU5FdUgAA2H3yEPLKivGPJfd2vgMuvbtdE2W2BSU0HwRiS4/fdSQZwf7+mDC0dU/k6rp6fPnr73h+xT0ghEBWWIgRg2IgEgkxPGYgZPmFFtvGsmx+xoWzzpBeRR0zcdmFiCHTHZ13KxrAqw62wWXoKTc7Z+AVAE5dbKezUNDwLy/trTEwRst9Yi3g8MVTyCzOx6qb7wAADOsfhz1njsFgNODPU0cwfEAcqupq8fzm/2DTk+u7NL9PCCHSYInVRlDdgREZKiw91sgw2H3sBBZPm9Lmdf9763asWDAXIQFcZvjI4GAkX7oCjU6Hc+kZiAi2zHOcUkplF8/LWZZ1tOu2PH76Q9lB/ceMc7AdDfzfiV3XRjnaCFeAFxArkJSUFA/gSUfbYQsMrDF+0+V9qc2zi3aHL/74CbPHTEZ0aCQA4JllD0KlUWPiY8ug0evw9NIH8fhnb+DxW++DkTHitqRHMevZlXjvv193qh+3ELFTZDTVS9UWZ349fvEy6pUqLJjSeijGH8dPghDg5snX17ufufdObN75O2555iUMiuqLqaMsq5CskNcek1dVdjclSPcgpHTY3H9U+YUNcoYptAaEADad2HXNqUv3OgM9Khuvo0hKSjoEINHRdtiSfj5BR+6Kn9rtuemS6grErZiLHS9/iHnjW3f02nFkD7bt3Ynd6z/HTU/fj5fuWYupw8dizvMP4eXlazF9pGXOQpSlxdXH6joO0rAx1cFFKUrfGqfxcAIAlmULzh7aH8gyjMPm+4lAmDty/tNiN+/ASEfZ0AFPTlqc8IGjjXBm+BFIN0lKSlqOHi4eAJBfXzntQP7lbseIfL3nf4gMCsGcsVNa3V9WU4WkrZ9g4/+9CkIILuWkY8qwMRCLxJg0ZBQuZKVZ3BcRkAihhyCvuzZ3F52bKsTRNjSGUkozL1+odqR4CESSa6MXv+DtxOIBlqVrv3z8sE3sI4SMIYT8RgipIYSoCSFphJAXCCFiwlFJCHmk2TlHTcdKG20bTgihhJBY03tKCNGY8v4pCCEZhJDHbHENAC8g3SIpKckXwH8cbYe9OFOWOTm1Mv9MV883MkZ8/fcveHDeHW3O76/7OAn/vGs1+gZxTlQx4VH449RhqLRqHLp4CgPDO1fqQxoqKeiqvdaAgmoNEp1TFZFS1smP1VZUOGyOX+zmdX7sLS9HSdy97V5O2hIopYa6Cu2Ry/vKIww61uojEELITQCOA7gGIAGAH4DV4CoZ7gTnDXYAwMxG53gBGAsgH0BjR4NZAPIopY3X+xZSSr3AFc5bBeAdQsgca18HwAtId3kDgFM9XdoY4R85Z+OLFdVdqj2+++Qh1NTLsWL2La3u37Z3JwghuHfWYvO2Tx57Ga99+xli7puFUTHxWDTxpk71Ke3TtfTu1sLkgeU0c+mUZYvSzp1xmHi4eQWeHL34haFCsdTLUTa0h1HPXshIri7IOSefRll4ALj9szUHO/el65iNAH6mlD5PKS2jlOoppUcBLAaX/mgpgL0AphNCGr47ieBKT+wCJxoNzALQavAP5TgKIB2AZQtjnYRfA+kiSUlJYwCcRi8UYQJSumbkXPhKPcIcbUtHUErrqo/WecFBZYT1Eu2J0n4yp6mrIbt04VxNeVmHEfq2wKtPv6NDZ62dQkg3w+ZtAKW0skSmzKzIUbX2WV0DMGLd5zd12ynDVDc9A8AsSun+VvYnA8gFV5aiEMBESmkKIeQjAHUAjgJ4m1I61jSVVQvgfkrpf03n04a2CSECcMKz27TtRHftb47TfZAuxGfopX8/Chq2+fLeej1jcKpo79YghPiK/UTpjupfL1XrHdV3c5R1dcccJR6BUcOPDJu9bqqziQellFXW6I+m7q+QtCEeADfNZK11hAYf6+I29hcBCKaUFgFIw/XRxiwA+8FNfcUTQgLBTWVJwU13NWYnIUQOQG3atwnASSvZ3wSn+jBdhaSkpFsBdLWcZo/AwDJxmy7vS2MpZRxtS0dIQyUOCyjUuqucIqqZUrY07dzpJi67W5LP4ukdf0BWzv15KhVKfLT/OF769W9sPXEOeuP1j7ZGpcZbfxyCovM5IdmwwTceHTRluaOiy9uEMbJXM1NqMjJP1UxljLSjbL9Jn605aI3p6krTv215B0YCaIgb2gdgFiEkAkBfACcppVoAKQBmgBOVc5TSmmZtLKGU+gFwBzAYwFxw0+1WhxeQTpKUlCQEsN7RdjgDCr1m3PZrR5IdbUdHSAJEfo7qW+eucoqUKtlXUosZo9Gc5v5sXlETgQCA3y+lY1TfcLy6eBZYliIlOx8AQCnFT6cvYf6IwfB261SOUH2/0QtTokcvdKrEnJRSeXmO8tjlfRXxKrkh3sLTfAC8aIW+ZQCyANzXfB8hJA7AeAB/mDbtBTABwK0AjlFKG+KJ9oMTjzbXP0x9UUppBoDfASzsru2twQtI57kXgKVfuh5PkbJ66t68C06dAp6ISDwEUNm7XwqqMor1DndTVdXXH68qLRnb8F6u1uCvKxm4Y2zTddVKpQqDw4IhFAgQFxqESiX3JzuemQcfdzcMj+zUkpcydvI9qeGDb3Sa9R9KKdXUG5KvHKw0lmQob0Tn738Pf7bmYF8rmPIIgKWEkDcJISEm190p4BbIDwDYYTruMAAK4J/gRKOBA+AEYRQ4kWkTQshAAPPBLcBbHV5AOkFSUpIEQJKj7XA2zpfnTLlUkXva0Xa0BSFEIu0jtjyAxEpQwuaDWLdMcqdtoLTs2tlTwxq9x44zlzEzPhb+nk0zmIT7+uBaSTmMDIOMskpE+PmiUqFEclYebhndqQTT1QkzHs7v02+EQ9ZbWoNlaGbOOfnl9OTqyUY921X3YSm4lEXdglK6D8CNAIaB85CqB/AVuDIQi6hpWphSqgJwAkAYmgrIWZMtGrS+trHbFAeiAnAE3ML7o921uzX4eiCdYzUAl6hrbWcEe3LPDwlw807r69PHKUdn0lCJSldhcUYRq2AU65vPTdudnKupBYzRaE6WeCI7HxTAhIEtQ1MWjozHzgtXcXZ/MmKD+2BMdAQ+P5yCxaOGoFKhxF9XZGBYFuP698W46DYGVkRQPHzu4zpP/zCnKExFKVVWF2rOFV6rnwxqlfvdis/WHPz3us9vyuqmXWdgwbQSpbRFpTBTWiH/No636wMLLyAWkpSU5AngJUfb4cR4bk87ErB65NwSP6lnuKONaY7YR2R3m3Ruaoc6GKiViuTKkmJz0FmVUoX917Lw2IzWZ5V83d1w/6Trg4aDaVkI8fHG4NAgvPHHITw8dTx83d3wwb7jiA70Q5B301AOIhBlj1r4jIfU079zufdthE5lTMk8XdPPoGWtuYAvAjcLsdyKbbos/BSW5fwfgE4VBeptUCBk8+V9Kp3RUO9oW1ogQAyRkMqOD7QeWneVw4LlKKUV186capIPPreyBmq9Hh/uO45Xdu7FKzu56fNtJ87hv2cvNzm/tE6BM3lFWDQyAUqdHgzLItjHC1KxCJH+PiiRK5ocLxS7XRlzy4sBUk9/h8cGsSzNz7soP3vtaNUEg5a1hT13fbbm4GAbtOty8CMQC0hKSvJBzygUZXOMLBP75eW/z60bdfMIARE4zfeLEELcQiSZmkKdZbnOrYDOXeWwkVhu2tUco8HQJIHjiL7hiA1pOv2//veDuG3MMMQ12s6wLH48fRG3jRkKN7EIEqEQDMuioFqOQC8P5FXLMX3w9coFYnfvs6MWPpcgFEk8bHxZ7UIp1cnLdCn5l+U3UNamU80CcAvb99uwD5eAH4FYxsPg8tXwWIDKoBvz7dXDNglc6g7SYLHVUtJ3BAWtY8QGhzyNa1TKkxVFhS2y/0pEQvh5uDd5AYCnVAIP6fWML/uvZaF/YABigjlREQgIlo0fgW0nz+Pfew5jfP9IRPhzYRPuPsHJoxe/MMLR4mHQMmfTjlWV5V2UT6Ms7FGa9+7P1hzsb4d+nBo+lUkHJCUliQDkgAvk4ekEI4Kij8wbMMZpAsgopaXVR+vsclNnBUxq4cCrdq9xQSmtPHf4oMBo0Afaui+f4AFHEmasnkoIcZinGWVpaVGaIr+qQO2IdPlfrPv8pjUO6Ndp4EcgHbMUvHh0iUuVeVPPl2enONqOBgghYUJPQa49+jKIdXJ79NOcvPS0LHuIR5/o0UeGzFwzzVHiQSk11lfpjlzeX+HtIPEAOI8sh9ebcSS8gHTMU442wIUhe/Mujsivr7jqaEMacLNTenedm9ruQ3utWp1SXpjfeilD68FEDJlxLHbSnQ4bWRoN7OWME9W52Wdqp7EMdWRWXyl6+f2BF5B2SEpKSgQw2tF2uDjuP6YdC67VKoscbQgASPpI7FL/W+eutOuNjVJac/X0yYEdH9ktdP3H3XomasScG23cT6tQSqtKZYrk1P0VwzT1xlhH2NAKD3y25qBT5DtzBLyAtE+vfrqwFhQI2nx5n05r1Nc52haBlAwGgc1rpevc1Xad9iyQpacb9HpbepjVx029Py00doLdp4sopaxKrj+aeqBCVJatmgw4Nrq/Gb4A7nG0EY6CF5A2SEpKGgwuhwyPFWAoO/DLS3uzGZa1bzh4MwghPrZO705BaxiR0X7uwhrNqdL8PJvknNp7VYY3fj/IvLzrgNfyfz488omkVZDlXM8KUyOvwuOvPIjZd9+Ax195EDXy64mPlSoF7nzkZuQVZne5f8bIpmWdrk2TnayZyhioX3euxYY80vEhPRNeQNrm/+BcTzouj9qoG73t6iGHL6q72Ti9OytgCm3ZfmMopfIrp0/azJ10RN/w0k3vbC/Z/9M5wa6vD2H8yMl48tXVYBguyH7b/zahf1QM9nx7AlGR/bHtf5vM536w+U0snr0U0X07P7NGKa2ryFMdvbyvYpCyRu8UaVHaYcRnaw5O7viwnofTBHo5E0lJSd7ooakKlEol/v77b+Tm5sJoNCIoKAgzZsxAdHQ0qqur8csvv6C6uhoDBgzALbfcArFYDACQy+XYtm0bHnzwQXh6dn3Kt1wtv/H37DNHFgwc57BFWLG/KMCW7RskOrtN1RVmya4adDqb3LwEQrFs3n1v+Uo9fPsCXFpYgUCA2rpq1Cvr4O8bgMKSfCxduBxCoRCTx07Df3//HgBw7NRBlJYX48XHOl+GQqM0nsg+XRNj0LFOlQa+Ax4B4PSlDawNPwJpnWUAeuTC2J9//on6+nqsXbsWzz77LOLj4/HDDz9Ao9Fg3759GDp0KJ555hmwLIuzZ88C4DK47tq1CzNnzuyWeDRwpapg6pnSTKuX17QUIiLxEMJm1RR1bmpbNd20H63mTElujk3EQyRxvzTmlpdCpB6+ISfOHsGcuydg+h2j8Mk372DZovvg78tpcEz/OJw4exRGowHJZw4jtv9gyOtr8ck37+DFf7wBQScKELIMzck5V3sh/VjVJIOOdZG0QZTxEhtOz+xXMgBfbOxqll+XhReQ1nnQ0QbYipqaGsTHx8PT0xMCgQBjx46FXq9HdXU1qqurERsbC6FQiJiYGNTUcMlkT506BW9vbyQkJHTQusWQAwWXR+fIy1Ot1WCnOidEbMv07jp3ZUfV7boNpbTu6ukUm9QakXj4nR5zy0txIom7LwBMGjsNf29PwZ5vk/HoymcwNG6k+dj7blsFjVaNlU/eAZ1eh3tvewjvff467lq8AgzD4Nn1j2Ddi/fj+1++au9a1NVFmiOX9pX3ravQjbLFNVkbAloc619/+L4hORX3D80ZHxegmAArz1oQQlYSQigh5G3T+6umNO1KQoiWEMI2eq8khNxPCKkjhPRv1s4SQojCVI/dqvBTWM1ISkpKAFcFrEcyefJknD9/HkOGDIGHhwdOnz4Nf39/hISEIDQ0FDKZDH5+fsjKykJsbCyqq6tx5swZPPTQQ9Y2xW1HxvHwVcNn5we6e9s9Rb40VKLRldtmPd8eHljFOVmpeq12irXb9fAPPz58zj8mEoFA2Hyfj7cfli64F3OXT0Tf8H6I7T8Ynh5eeOGx6wU69x/7EwqVAkvmLsPafy7HA3euw+ih4/DYyysRN3AIxo5o+tPSa5jTmadqwvUaxmkyFrQNZbzExnM3hFWRuID6MYS0KEv7AIAPrdjhIwCqATxACPkXpdS8FkQIeQjAS5TS6MYnmApTbSeE3EgpNZrK4W4GsM5UDdGq8ALSjNmzZ9+j1WpTsrOzBSUlJaMppT3qb9S3b19cvnwZ77//PgghcHd3x7JlyyAWizF79mzs2bMHly5dQv/+/TFixAhs3boVc+fORXV1NQ4dOgSGYTBy5EiMHDnSGuYEfp26v/7R0fPl7iKJnzUatBSxt23Su1PQClbI2HT6Ra/Vni3KzrK6ePiFxR2Jn/5guzdylrIwGo0oKs1HbP+mCWmrayvxxXcf49P134AQAllOOkYOGQuRSIzh8aORkXPNLCCUpUUFV+pLaoo141vrx5kgoMUD/RRZkyIqB3lLjO3ZOwxfbByH1WvPdLtPQsYBGAtgHrhKhXeAKzjVEY8DOAPgVULISwC2AdhDKd3WXZtao0fdHLtLSkqKQCAQ3O/h4RExbNgwDB06tKK6ujpNJpNF1NfXxzjavu5CKcW2bdvQr18/PPvss5BKpZDJZNi+fTtWrFiB0NBQLF261Hz88ePHERQUhJiYGHz00UdYvnw5fHx88MUXX6Bv374IDOx+xgyGsv2/vPT3xUdHzU8QCgSSjs+wDkRIYgQSUs7qaYg122WFxmLYMO0/pbT+6ukUa4sfDR44/ujAG25vIR47dn+LmTfOQ4BfH9TW1eDL7z6CWCTGsMEt42v//dm/sGLpaoQEcenG+oZHIfnMIUwYfSPOXk7Bfbc/DEqpvq5CdzLvonw8ZeHwcr9t0+Fooy0eBHcD7y6PALhIKf2LEPKr6X2HAkIpVRNC7gRXqXAAuDRMi61gT6vwayBNuQm4/kUhhAT36dNn2qRJk2Jmzpx5LS4u7qhYLJY7zrzuodFoUFtbi/Hjx8Pd3R0CgQCDBw+Gv78/srKaFlirqKjAxYsXMWfOHKjVajAMgz59+kAikSAsLAxlZWXWs8uoH7nlygG7l8SVhki6VVWuNQwSnU1roZTk5lzSaTXWFBBj3+Gzk1sTDwA4c+kk7nv8VsxYNhb3/98tqJZX4cPXNqNPQNMwlz8O/AoQgvkzbjFve2ZtEjZt/xS3PDgDcQMSMHHktPPpx6uLc8/Lp1EWdskI0FkIaEmM3/W1jcGB9eMI6dR98k58sbFbD0KEEH9wjjxfmjZ9CWAiIWSEJedTSlPBFb+7E8DdlFKbOYzwI5Cm3NvWDpFIlNC/f39ER0fr1Gp1SnZ2trCkpGQ0gBZzxc6Kh4cH+vTpgzNnzmDOnDmQSCTIzMxEZWUlwsOv35MYhsHOnTsxf/58SKVSiMViMAyD4uJi+Pv7o6ioCJMnW9f5p1JTP2VX5qkji2NvsNtcuDRYAk2hzqpt6txUNnsoM+h05wuzZNZMI6IZeMMdqcEDx7U5HfbuSxssamj+jFuaiAcADI0bge2f7galtLwkXZF99VC1TYIdu0+L0UZ3BNoXwCwAf3SjjZXgvKa/N70/BCAL3ChktYVtXGz2r03g07mbSElJcQNQCcDiHEaU0vKqqqo0mUzWV6FQ2DoPkVWorq7Gvn37UFhYCKPRCF9fX9xwww0YM+Z6KdNDhw5Bq9Vi3rx55m0ZGRnYs2cP9Ho9xo8fj8TERJvYl9h3aPKE8Di7BGVRSsuqj9aFWrPN8oicVK2H0upp3CmlyovHj8h1Go21pn3qBic+kO8fPni4ldprAaWUUdYYknPO145kjdTHVv10FQJaMtBPkTkxonKQj8RozTT/W7B67cou2cRlN84A0B/cAnoDvgAYAOGU0vq2FtEbtZMITnjElFKbpe7hBcRESkrKAgC7u3q+0Wi8VlhYWJWTkzPcYDD4Wc+yXofu9kGT0mP8wywarneX2nOKbEbJWE38CwZcqaNC1upuvCV5uUcLZOlWCqwj5cPmPFrvFdjXZgkJGQN7NftsrVAlNzhZ6VdutDGeG22MFhCbzCDUAgjB6rWddvMjhMwG8De46fTGrubeAC4A+Cel9BNnERB+Cus6C7tzcrMprpNZWVni0tLSUXChKS4nQfo/2Ym+Dw2bldfHwyfa1p25hUqKVVkaqwgIBS2lQuvX4Dbo9RcLZOlWmboiAmHeiPlPidy9+9hEPCilteU5qiulMuUUOFEqIAJaOtBPkTExojLOp31PKmvgD2AGgL+6cO5aAPsppYeabS8jhGw27f+km/ZZDX4EAiAlJYUAKAK6NffZAkppWVVVVbpMJotSKBQDrNl2T0dASP6jo+Z7e4ilNk07wmjZ07Wn6q1yQzEKDWeLB6SNtUZbDVBKVZeSj1Zr1eqo7rYlEEnSRi18ro/E3dtqiR6//nED9hz6DXWKWoDCGBkYS2+5YY04sg/ntFivrsHWg28hvzID/YLicP9N/4SPB/eRanRKvPPrI1g953WE+tsiFIgyXmLj+fFhVTQuoH6MjUYbbbEZq9eusmN/DoEXEAApKSljYR3XuzYxGAxXCwsLa3JycoYbjUabRyr3BNyE4suPjp4fJxIIpbbqg1KqrD5W5wba/dG4xkNxpCIi16pOAKX5eUfyM9K63aZI6nlx1KLnBorEbt7WsKuB/OJceHv4ZtdkQVVbrhp+5Mqv2H/pJ7yxfAcEAiH+l/wpAIJbJ67B/058BgER4PbJjwIAth16GxEBAzBjxNL2O+kkzUYbDqlLD6AMQDhWr+3RN1jejZdjka07EIvFQwYMGHDjjBkzpFOmTDkRGhp6DgBr635dGS1jGP5N6oFz1IZPOYQQL7G/6Jo12tK5qaz6hGs0GC7nZ6R1e91D6hWQMmbJi/HWFg9KqdKDCTmSf0rfT1GlH05BISBCKDRyqHQKAEBFXTESosZDIBBiaNQEVNQVAwAu5yWjur4M04ffbi1rGC+x4cxNUaVn1oyUBc/pX5roQPEAgFAA4xzYv13g10A4urX+0RkIIW5eXl6TRo4cCUppaWVlpUwmk0UplUqbpeR2Zaq1ikm/ZqYcuXXQRJu597qFSmoNNd1fZ9S6q6w23UYp1Vw9neKDbq4jeAX2PTp09rophHQiq6EFaFXGk1mna6INWnbalfwUbD34JjR6FQgIpg+7Dd7ufgCAiMCBuFpwCnHho5CafxKRgQOh1NThl5Of49H5/4aAdM8sAlo6wE8pmxReEesjNTrbDXsRALvHN9mTXj+FlZKS0heAXepkt4fBYEgtKCiQ5+bm8lNcrXBjZMLxyRHxVk/fAQCsgU2tOVHfLddbCkoLB15VUwFrlSzO5YUFR3LTrnZLNAMihxyJm3q/VYWXZWle/qW6anmZdkzzfSptPU7J9sLPMwijB3LdavQq/Hxig3kN5LZJj2D7kfcwKHwkBkWMwq8nP4fWoMaQqBswa+SdFlphF08qa3AZq9faxZvQUfACkpLyCIDPHG1HA5RSjUqlupCVleVWVlY2Evw0YwOGW2MnXBkUEGH1bK2UUmNNcp2aMuhyrAIFLSyITbVKEkWjwZB69tD+Iej6Z09D4yYf7T9msdXEg1KqlZdqT+Wn1k2gLNpck2Ipi2e3LMH/LfoAkYEtndvOZh1ESsZfWHfzv/HBrscxb+x9GBQ2Eh/9/hTmj7kfcZEtU6Q0YBptZEwKrxjkIzXaJJeZDYjC6rV2KzBmb/gpLGCBow1oDCHEvWGKi2XZksrKykyZTNZPpVJFO9o2ByP+JTOl/wPDZuYEe/ha1aONECKSBEnSdWX6LntjMSJDKbi8Q92CUqq9duaUJ7ouHoaokTefjkhItJp46LXM2axTNcE6dccZcymlYFgjKuuKWghIvboGv5/5Go8v5BJ5FlZnISZsOIRCEQaGDkVhVWYrAkJZTy5KvMGTypHrGl1hOriEhj2SXi0gKSkpQgA2mRaxBgKBIDwkJCQ8JCSk8RTXCKPR6HRRvXbCb8uVA/XrRt1c5Sl2s2rxHrcQiUZXpu/y+XqpVmMNOypLik+plYqu3vxVsZPuSusTPcoqkfyUpSVF1+oLqwo1N7R1zKHUnzFm4HT4eARAoZFj9+mvIRKIMCBkaItjtx95D3NHL4e/F5drMtgnAlfyTyKh73hkFF/AnFF3m4918rWNzpAIXkB6LMPARXg6PWKxeNjAgQMxYMAAtVKpPJGVleVeXl4+Ar1sioulNOrLS3tTHxs930skELpZq12Rj7Bbowedm6rbvyWj0Xg152pqVx9oahJuerjUNzSm23EolFKjokqfnHtBPpZlaLtTRelF57D3wnboDFq4STwQFRSHRxe8C1/PppmaT6b/BRCCCXFzzdvunPoEvjv8LrYfeR+jB07D8OhJrKfY4MqjjdZIdLQBtqRXr4GkpKQ8CieK6uwsLMsWV1ZWZslksmiVSmX3okyOxN/N6+TDw2dPMOUOsgo1KXWlrI526aZVGpkl07uru1zxjVKqT005UaBWdKFsABGUDJ/7D42nf3i3I+qNevZS1pkaT0290W7lC5qNNlxlbaMz9MPqtQ531LEFvX0EYpekfbZCIBBEhISERJimuC7n5+fX5+bmjmAYxiVGVd2hVquc+D/ZiSN3xE222ly/NESSoynQdVpAKCijl2q6JeBVpSUn1Yr6Tl8LEQhzRi54xs3NK6Bb4kEprSzNVMrKs1V2+k1waxvjw6rp4IC6njLaaAKllFKGyVFkZY/3dQJPT1vQ20cghYAzF7XpPJRStVKpvJCZmelZUVExAk6Uj8gWTAoffGxq3yFWyRNlVDHJ8rOKTt9AKdjcgtgrXY7jYYzGtDOH9seik9UvhSLp1VGLngsTu3l1Of6EUsqq5Ybk7HO1wxgD9etqO5ZCQEv7+yozJkVUxvpKDZYWaXIJKKUGVq/P0JSWVdXLMj2UOTkxjEYbAOCL+PS0NY62zxb02hFISkpKFHqYeAAAIcTD29t78ujRo8GybFFFRUW2TCbrr7ZCLiVn5ERJ+sRgD9/zgwPb8f+0EKGHoEtTUEaRoRxc+u1OQyk1XDt7WthZ8RC7eZ8btfDZwUKxtMtxJ4yRTcs5V0uVNQZr1hhpBdNoI7SaDg7sOaMNSqmCUatlqsIiZX2GzFdVUBhHjcaW3gOAVeqgEEIOm9pq8PaoA/ArgGcopRpCyBYA9wDQgasnUg5gK4D1lFJKCPkZAEMpXdqozdcAvAxgGqX0qGmbAEAFuMy/m9qzqdcKCJzY+8paCASCyNDQ0MiQkBBqMBgu5efnK/Ly8kYyDGNxzRMXQLQz69TAFW6eWaGe/t2atyeEBIm8hJlGJdOpTLUGqVbb1T5rysuSVfV1iZ05x8076MSI+U+OEwiE4q70SSmtq8xTXypOV0yBjZwwdp3ahMt5J4xyZTnxcZOQGYPjxs24dQkEhBssqfV63PfNVuxPT8eg4GB898AKDArhqgsbGAYT//0u3rn1Ftw0OM4W5nUJyrKVhvr6LGVuvqFeJgvSlJYNAqUtAipbYUja4Hif+PQ0a1SrfIdS+hIAEEKiAewB8AqAf5r2/0QpXW5aG5wG4E9w02dbAewDsJ4QIqCUNqRRmgXgCoCZAI6ato0CEAhgb0fGdPjlIYT8gxDSE91GXXr9ozMQQohEIhkRGxs7ZebMmWTy5MnJwcHBF8E9pfQEfLddOeSm1Gsqu9uQNExS0tlztO6qLiV7ZBgmIyv1Uqe+h95B0UdGLnh6YlfFQ6MwJF85VKkvTldMhU3Eg7KeYsOZAElV6W9r7iL1H74rlL32LwEhwMINn5uP+uLoMVBQVP7nHdwxZjSe+flX8771f+7BxAH9HS4eLMPkaSsqjleeTDmevfW7/PSPPg3K/mbbxPLDR6ZqSkrjQamlEfACAG26QncVSmkeuJTxLYqCUY7DAK7hek6uveCEYRQAEEJ8AYwAkAROSBqYBSCTUprfkQ2WjEAeAvAmIWQHgM8ppT0lt0uvEZDGEEI8G01xFVZUVOTIZLIBarXaKlHUjoIFjfzy0t5rj42e7yUWirpcb1sSKPZUZXYupEPnrup0enRKqTHt7GlKKbVYCAKjRhwZNOWeLjkNsAzNzr0oV9RX6GzyvSegZf19lemmtY1xK4beat4nEYnw7OxZGPXGW6hVqeHv6YHMigrMjo+HWCjEwuHD8M2JkwCAc/kF+O+58zj7wvO2MLNNKKUMNRgyNeUV5YrMTKkiK3ugUaWOBhBtpS7GghsBWA1CyEAA8wB808o+AbiiVEMa9lNKcwgh2eAE4pxp/1lwo5hthBBfSmmdab9FtnYoIJTS4YSQyQAeBnCYEJIB4AsA39myWLstSUlJEYP7w/ZqBAJB39DQ0L4NU1x5eXmK/Pz8UQzDWCWfk73Rs8aEzan7U9aMmDPe9APqNAIJiQeBHhQSS46noIaueGDVVpQfV9bJEy08nA2Pn3a836j5nRYPSqmqplhztuBK/SRQdGnU0k7rrKfYeH5caDUTH1g3VkDQZnngvdfS0C8gAP6eHgCAEZGR+OvqNayYOAG/XbqMkX0joTMYsHLbNnx133J4SCz683fdcko1jFaboS4qltfLMn1UeXmxrN4wGICtKihaKyfW04SQR8Hduz0BHAPQuHD9UkLIAgAeAMQAPgR3v25gLziBeNv0735KqZoQcgbATYSQv8A9XH9siTGd8sIihPgBuB9cVaxwAD8A+IBSmm5xI05ASkrKEHDzfjzNoJQqFQrFxczMTO/KysrhcEEvrmjf4CN3Dr6xy+699VeUl/TVRot+8CxhswpjrnRq7YVlmMwzB/f1o5RacpfUR49ZfC4sbvLEzvQBADq18VTW6dpIvYaxqreTabSRMSmicqCv1NChI8r+tHQs3vg5fl69CnOHcM9tBobBc7/8aloDCcHHy+7AhwcOghCCJ2bchMd3/Bdl9fW4IToab92yBMJuJhOmlNYaFYpMZX6Bpj4jM1BdXBwHlrWyoLZLenx6Wnx3GjAtoh9vtAYSBE48Iiilk0yL6CLTGogUwAsAbgUwiVKqMJ1zC7j7tj+AywDup5SeIIS8DCAMwC4AvwMIpJR2uGbT2UX0fuAUOgxAOrhC7+cJIS9TSt/rZFuOJMHRBjgrhBAvHx+fKWPGjAHLsgXl5eU5MpksRqPRuIzHWl5dxbRDBalHp0cN61ItDWmopFZfbVl6d0ZkqARgsYBQSpm082cMFoqHYtCUezMDo4Z1SjwoSwsLrtSV1RRrrTjvbvloozG/X07F8m+24LuVK8ziAQBioRDv33G9FsiJ7Gz8fS0Np59/Fg9s+w4zBw/Gqhun4M7NX2HLyZN4cHLnZt4oyxbpa2rzFTm5bL1MFq6rrBoAwNalbNsjNm1wvHt8eppVUt4AXOwOIWQrgN2EkMBm+3QA/kUImQHgNQBPmHYdBFdm+z4Awbiebn4/uJQragCnLREPwAIBIYR4ALgLwGpwN94fAdxEKT1n2j8SwGEAvID0MAQCQVRYWFhUaGgoNRgMF/Py8lR5eXmjWJb1cLRtHXGqVDY52MP37JA+UZ1O7SH2E1u8pqGXanSdaVteVXlMUVub2PGRpGrIzDWVPsH9LXZPppTq68p1J/MuycdTtvuJHYEWo41O/S2/P3Uaj/zwI3aseghzhrT9k1Pr9Xjo2+/x3QMrIBWLcaGwEK/MvxkAkDgoFucLCvFgO/pBKaXUaMzSVlaVKjKzRIqsrGhDvSISzuWmLwQ3bX7WWg0SQvwB3AugkFJa3UZShpcA/E0I+ZhSmksprSOEnAbwLwBHKKUNT0pnwAnK3Wg65dUuloxASgGUmBrdQimVN95JKb1ICLlsaYdOAi8gncDkxTVy0KBBiI2NVdTX1x/PzMz0qaqqauH94UQId2efifN385KFewV0Kr6DCDGYCFFHGXRYl0XrrrR4wZ5lmGzZxQsdjiYIERQNv/kJo4dviMVTHgYdcz7rdK2/Vmm0QmS+ebTBxgfWjbZ0tNGYTw8dxsu7d+P3dY/gxtj2B2jP/vwrlo4ZjdFRXKhSbHAwdl++jAFBN2HPlWtIHNTUq5pSqmd1ugxNaVl1fYbMU5GbG8tqdbEAOuV+7QAS0H0BeZYQ8n+m/2sApIBbSG8VSulhQshxAG+AEweAWwdJAjfqaDjOSAg5Aq64nsWL/R2ugRBCbqKUHrS0QVcgJSUlFUBrAT88nYBl2fyysrK8zMzMGI1G45RRxQSk5JFR84TeEveQzpynkKlP6Ur1HU4BlURl5Bqkug6DCCmlTNq50+n1NTXtOm8IhKLMkQue9ZZ6+ll006aUlhWnKXIr89WdXiNpDgEtj/ZVpk2OqIyxZG2j3bbWPAKRQACpuOkyw55H1zURlIPpGXj2l1+R8twzEAk5r1hZeTnu+fobyMorMDN+MLbef1+91GiUqQuKlPUyWYCqoHAQZRirJdK0I/+OT0+zr3uZjel1qUxMKdzVgGVeNjwdQymler3+Ql5enjY/P38Uy7JddqO1BWKBMO2x0QuiJEKRxd5lhjrj0bqLynbXUCiotiAmVQwLKuLJqyqPpJ8/2+7oQCh2vzxq0XNRYqmHX0ftUUoZZY3+eM45+WiWod3IfUZZDzFzfnxoFRPPRYk7PLiYsmy5vq4uR5WbZ6iXZYZoSsti0TOyTu+OT09b5GgjrIklayBu4ELdZ4ObIzNPtFFKXTE9Rgx48bAqhBAilUpHx8XFYdCgQfX19fXnnGmKy8Ay8Zsu7z39yMh5Yy117xV5d5zenRKaD4IOo91Yls3NuHi+3dGMxMP39MgFzwwTiiQdiq/RwKZmn6mVqOsMXZ6uMo020idFVA706+TahrVhjcZcXXV1sSIrB4rMzCh9rTwKQKdGjC6CrVyEHYYlTxvvgJtj+wzcPNqLAB4FsKW9kzqZt6WBKkpptOl8CkALgGm0/yNK6YsW2Nwe/PqHDSGE+Pj6+k4ZO3YsWJbNKysry8/MzIzVaDQOTdOt0GvGb087evSehGkWeWYRAekvcBMUs1q2zak5o1hf3VE7lFI248I5BWXZNqe5PPxCjw+f+/gEIhC2+3uklNaUZauulWUqJ6NL7tWU9RAx58eFVTEJ3GjDqvXSW+P5X3fij9QryK+pgadEgmmxsfT1+fMyw41Mab0sU1ouk8U8l5Pb/6Ra1T9aIsG/w8IRbYoBMVCKu/Pz8VRQECZ4umRoUnOi0gbHk/j0tC5P+zR35W20fQu4uA8/ACyldGGz/b8CcAcwz5QXazo4j6yfKKWWFqNvgSUCshjAXEppGiHkX5TSDwkhRwGst+Bci/K2tHP+Qkrp/nb2dwVnX2jrMQgEgujw8PDosLAwVq/Xn8vNzdUVFBQ4bIqrUFE1dX/epSMzo0dYdON0C5HkqPO1bQqIXqrusIRhfW3N8brqqjZFyzck5kj8TaumtlfXhFJKNfXG5KwzNQmMgXY6h1vD2sakiMoYe482WJY1fHLrkuwEgbC8LD3D//mUlISF/74y6Nfo/oMA4MeaGlBQHI+JxbbaGrxbWYHPIrjll8+rqzDC3a2niAcASMGFQHQ6XY6FUAArAFwihDxKKf0UAAghawBMADCCXl+zeARANYBbCSEhlNLyrnRoiYD4U0rTTP9nCCFCSul5QkjnfNMpzTNFOTp6WsOlU3a4IoQQgVQqHTN48GDExcXV1dXVnc3MzPSvrq62uyPD2fKsKcGevqeHB0V3GBMgCRYL1flt50nUuqvavbOxLJufcf5smzfsoAFjj8RMWNqumLEMzcg5V6tXVOs7KRwtRhuJnTu/a1BKqw31iixVfr62PkMWtLK4ZBAKigZXA4PFAB7yD8Bt+XmoYxj4CoXIN+gxydMTYkIw3dMLv9bVAQCuarX4W6HAf/tF28Nse9IPthOQhtiQ5eBiQ44AMAL4D4BbKKUVAEAICQOwBFwsyAcAVsGyAUELLHLjJYREUEqLAeQDmEwIqTIZZjHt5W2xM07pLdRbIIT4+vn53Thu3DiwLJtbWlqan5mZGafVau2V4lv4Z865IQFu3umR3oHtzkkL3QWDwD3VtTo60Lmr2vSUopRS2aULtSzLtpbmhIkcOvNE3+Gz2xQPSqmiqkB9oeiaYjLQ8SJ9A/YebVCGKdTV1OYrc3JpvUwWoauqHgAuYV+rnFCpEC4SwdfkcRUnleK4SoVbfHxxSKlEvNQNepbFi6WlWB8aBvduRqA7CxSgIKjShPvYfCqXUnqQEPIBuIhzA4BPKKWNXXMfBlAD4H/gUqw8TAh5i1LKtGytfSwRkB/B1fX9HsCX4HyHjQA+b+ecBizN29LAu5TSNxq930kIaSxUoyiluRb02x7OFFzUqxEIBP0jIiL6h4eHN57iGs2yrK1dND2/v3bYb83IuaW+Us82hYsQ0kfkLZQZFUyLOBIKqjKK9W1+lxTy2mPyyorWpq60A8bfdikk5oY2a3BolcaTWWdq+hu0rIWR9JT1EDEXxoVVGRK4KPFEy87rHJRSlhqNmdqKynJFZpaoPiurv1Gh7AsLR/UnVCpsqK7ChxHXn+Fu9fVDnl6Ppfn5iJZI8EJIMD6uqsKNXp6IEIvxZEkxqoxGDHdzxxNBQRBar4KxVaEE1axUVGnwkdbrgjy1mnBfVh3lK1FH+XlqIn0DtMFeIVQsDAIw0JL87x3QcF9tjAeAHY3eJwGYC+7h4+WGjYQQIbgRxxZKqYEQsgnAswAWgEtj0iksSab4r0b//8IUNOgDC3LFA/hPK3lb/sb1Ais7OlgDWWKDNRB+BOJktDLFdUYmkwXUdBAz0R0oELrp8r6Mf4ye7y0Ritusj+IWKilVKjQtBYSw+SCtO2SwLFuYfv5sa/eJusHTVuT5RyS06pHFsjQ3/5K8Vl6ms2h6mICW9/NVpU+OqBjoJzVY4b7UFEqpjtXp0tXFJfJ6WaanMjc3ltXp44COPc+ac1ipxHOlJfh3WDhu9Lz+5xYTgueCrztcXdCokaxW4aeofnixrAwTPTxxh58fniopxs66Otzm52eNS+sUlKCWlQgrjd7SOl0fT40m3IdV9/UTq/v5eagjfQN0oV4hrEQUiHZGXo2wxgjEfF9toCEPltlmLjDwCrjcWI0fwhebbNhsOi6bEHII3JqI9QWkOZTSk509x3Rem3lb7EVKSooAPdM9sMfQMMU1fvx4MAyTU1paWpiVlRWn1Wo7HQ3dEUaWifvy0t4zj4y6ebSAezJrgSRQ7IlW0rsbxfqa1o6nlNLMyxerWIZp9lROKobOXlfr3SeqRZJGSqmmtlR7uuBy3URKO6psSKmHiDk3LrSKSehjXU8qSmmdUamSqQoKVPWyzEB1YdEgyjDdziK7u74Or5eX4/3wcEzxbFOroWFZvFxWhnfCwiERCJCm0+KRPtytYpyHB67ptLitu8Y0gwJ1rERYafSSyPV9PDWaMB9G3ddXZBIHf22odzDrLvYHl3zQGlhjqvZeQsizaOrhWg/gItBETIym9wIA74JLe9JQ4+OYKeGiB0xhDYSQAnCR7Z9RSo9YYkirAkII2WbJyZTS+yw5ztSmJXlbbE0gOjGf7KzU1NTgww8/xNmzZ2EwGBAdHY21a9di9OjRKCgoQFJSEgoLCzFu3Di88sorcHPjZoRKS0vx2GOP4csvv0RAQJfLaNsNoVA4IDIyckBERASj0+nO5ubmGgoLC0ezLNulAk6toTRox31/7cjRe4cktjpdRCQkAQQ6UDTpU+embnW+WFlXd6y2orxJW4QI80fMf5K4+wS1eHLXa5gzWadrQnVqpl0hIKAV/XxU1yZHVlhtbYOybKleLs9V5uQZ62WZYdry8oG4XnzIKnxfW4tPqipxn78/Pq+uxhMlJVCxLC4PioPIdA+oMhrxbGkJzqnVCBaJECzibkv9JBL8Va/ArrpChIklSPTqXCFNCiipWFBh9JTW6gI91Npwb0Yd6StSR/m5qfv6+WvDvYMZD4kv0HHKGitirQfY5h6uF9E05KEBIYD/gsu8cRe4NCUrwI0iHwOXE2sPgN0AfgNwHMBtALouIG0Y0hU6lbfFDgQ7sG+r8e6776K2thbff/89fHx88NNPP+GZZ57BL7/8gk8//RSzZs3CHXfcgRdeeAG//vor7rrrLlBKsX79eqxbt84lxKMxhBChm5vb2Pj4eAwePFheV1d32ppTXMXK6ql/5144Mqf/qBY3cUKIhyRAfEFfbRjVeHtrHliUZYvTzp1ucpxAKM4Ytei5AIm7T1DTY2lx4bX64upCTTveYJR6iJjz40KrDQl95N1e22CNxmxdVVWJIitbUC/L6meoq4uEdZ6I2+SNinKIAHxVU9Ok/OU5tRo3mNxzv6yuhpdAgFipFMPd3PBldTVeCAnBM0HBuDs/D2pKEecmwNJG01cU0FCRoNzoKanVB7irtGHeRnWkn1Ad5eemjvL104b5BBu9pb4AnK18c6eLj3WEycO1GC1HSVJwpWrTAUwEtxaSCa507VcAVlFKtwAAIeR90/5nKKU/Wtp3qwJCKV3ZyWtorY3EDvav6GC/LYYoPUJAioqKsGDBAvj7c9+XJUuW4JNPPkFRUREKCwuxbt06iEQiTJgwAdnZ2QCAHTt2oE+fPpg+fbojTe82hBC/RlNc2aWlpUWZmZmDdTpdt57sLlTk3Bji6XtqZPCAFusT0lBJvb7a0GSbzl3VYi0tK/VSGctcr70hknhcHLXo+QEiiZu5JDSl1FBfqTuRe0E+jrKtr8eZRxsRFQP93Lq2tkEpNbB6vUxTVlalkGW5KbJzYhiNZiCAgV1pr6tci2vq6HZarcKKwkKM8bie0DnfoMe9/v6Y4umFYyolvq2tZVmhoOgijEyIp3vgF0smntdF+QkK+vq5q6P8fDThPkFGX7cAcNUCo+15Pe1BKVVSSuVGyiiMjFGtM+p1GoPOqNZrWJVOTZR6tUihVepXRz/TnT4STcGEZkwerkI0LQIVDe7hYD+AFab07k8AeIIQ8jC41DA/NGr3Q3DFpzqFRWsgppX7GwD0pZT+ZEpvQk1GuRJWV39HsHz5cvz222+YMWMG/Pz88PPPPyMiIgIDBw5EbGwsjh8/jrCwMKSkpGDSpEkoKCjA//73P3z11VeONt2qCIXCgZGRkQMbprhycnIMRUVFXZ3iEvyVe2FYgJv3tSifoCaL42I/UdPRA2gdIzY0eXJX1tcdqy4vM3tWST39T41c8MxIgVBktsWoZy9mna7x1ihay5jLjTbGmkYbwk6ONiilSkatkamKiurrM2S+qvyCOGo0Ok3VTUopPq2uwvbaWgDAnYX5qmeHDsyMGRQmF4tUsc8UVAZpK8tE7t5uGHX7CMFf/5gV9cGtn+LhHx/C0nXfJ67ddD/CYuyzfGlyZ61lKFtvZIxKA2PQao16vUavZVR6NVXp1EKlTi1W6tVuKp3aU63X+mgMWn+Wsl7oeMRj6GC/JYwEMI0Q0jgrRwmAr03/nwIgCpxIPAQunXvj6PUgAFUAviCENBSgWgvgLdM5EkqpRZ6QlmTj7Q+uQlV/cKLhSQi5FZyHlMVrIM5ASkrKA+CGbi5NaWkp3nnnHaSkpEAoFMLHxwdvvfUWRowYgcrKSnzwwQfIz8/HuHHjsHbtWjz66KNYuXIlfH198cUXX8BoNGL+/PmYP3++oy/F6lBKa+VyeapMJutTW1vb6bQ1BKhYPWKuwc/N0zw6oJSyNSfq66mR+gEAK2CuFA68OrTR/tKzh/Z7MEajLwB4+kccGzbnsUlEIBCa9leWyJSZFTmqSc26axhtpE2OqBjg52awOMiVUlppqKvPVubl6+plsmBNSWksKHVoIkQKMBCQCsZdXKX3c1Pqgr306khfqKP8pFuT0/ofPHg1aOGTs/HtP38WzFo9Dad3XsCrB57Bz2/+jqwzuSCEgGUoYm/oD5Vcg7iJA3HtqAzluZXwDvDE0OnxmLMmsXM2UaqmoHKGZeoN3KhAq20YFeg1RKlTi5Q6lVSlV7urdBovjUHrpzPqfWDbSpyeqfenqrt6MiFEDiCVUnqj6f1ocDWZ6imlkYSQLHBC8CW4zB/ZAHY1WjN5GMBGcKEZgsaesISQmQD2WToDZMkX7hNwiysvgVMtADgE4H1LOnAyXDEFdBNYlsVjjz2GkSNH4q+//oKnpydOnDiBp556Chs2bMCgQYPw5ptvmo/ftm0b+vfvj4kTJ+LWW2/FBx98gODgYKxYsQLDhg1DVJQr5sNsG0KIv7+//9QbbrgBDMNklpSUlGRlZSXodDqLRp8UCN58eW/mY6MX1EtFYh9TmwJpsDhdW6KfAAAGsa628TnZVy4XMUbjOADwC48/Ep+4chrACY+q1nA851ztCMZIG4lHk9HGGKEFnlSUYQp01TUFipwc1MsyI/TVNf1hxxE1BVgISAXjJqo2+LopdMFeOnWED9RRfhJ1lJ+XJsK3j66PRzCEgjC0sq5y5J2dmLUmEZlnuDCuQ1uOg2UoDm1JRk2JHDc/OhPJO04j+3w+anfJETU0Ej5B3sg4mYX73r0Dv769B6d/u8CExgZVDJ4WW6U3GjQ6o06vMWgZlV5DVTq1QKlTi5U6tZtKr/ZU6zXeGoPOn2EZD3CeRg7NxdYMH3AZwa2CKTPIQQCLG3u4UkrfNgV9fwmgcfzcXnABsgMA5HWnb0sE5AZwYfCMKcEhKKW1Jq8qV8PlBUShUKC4uBhvvPEGfH0555GpU6ciIiICp06dwqBB10MWsrOz8ccff+Drr79GbW2t2WMLAOLi4pCZmdnjBKQxQqEwtm/fvrGRkZFGrVZ7JicnhykqKhpNOygna6Rs7JeX/z63btTNIwREIAIAaYhEry3hvCZ1bmrzsF2lqD9eVVoyBQANiZ1wdMC4W6cBAGNkr2WfrSWqWkMjjyxaGe2jutrR2gallKUGo0xTUV6uyMySKrKy+xuVqihw0xJWpyFKmnETVRl93Oq1QZ5aTYQvNQXCeWkifAN0wV4hVCQIBTpfXEpTr0F1US0q8qpw5XAGAODfp18qfX3OB33+/GS/cMT8IWW/vvenT2hCsDxiTKgo/2RRiIIqq7e+tMNHp9OL/7v1D4N0glSsUxiEv+z9KyxIdM5eWQtaXAoBVEIQtYgItGIQnZQI9W5EaHAnQsZLIGK8iJh6C0TwEYiJj0Ai8BWIhT5ELPITiMXeArGbj0As9Ra0HXfUFQghowDcBEDe3MOVUrrZ5Mg0jxDyBKX0A9Oi+6vgFs0lDbmwCCHe4HJmWYwlAqICp+B1jQwOApeIy9VweQHx9fVFdHQ0fv75Zzz++ONwd3fHiRMnkJubi7i4616iRqMRr7/+Op599ll4enrCzc0NRqMRV69eRUREBK5cuYLly9uL4ew5EEJE7u7u44YMGYKEhISa2traK5mZmcG1tbVtpjJRGXRjtl09fGzF0JtuBACRlzC6YZ/OXekFAJTS8mtnTg8FYIwaMe9UxJDp0yil8opcVWpJhnIyAAFAqbuIuTAutFpvGm0kNu+LUqpltNp0TXFJHRewlzeI1esHw0rpvylBNSsRVRl8pHVclLQPaxo5eJijpCXCIHRyRGNKzFfHUrbOyDJKA2NQ67i1AqNKr6EqvUag1KnEFXmV3gCGJu86w4j8RQQ1EDw19tUwgUQA1sCi2LsivL5OidoDdV7UQCH0F6IyrbpP8C3BqNxdCfl5uYSepRB6CBFxv8VxwGoCqE03e40EAr2ECPTuppu9p+lm7yMQUx+BWOArEAt8BGKhr0As8iESiY9ALPERiN29iMjdUyDy8CQiTwEh7uAy2nYXawjIlIYH+kZUEEIOAPAGoCKEJIHzwqoCMAjA+4SQtwCw4O6FDLgsAsWmde4qcFNh0wHAJCglJntjKaVZzY2wRED2APjElNGxYUH9TXB+w66GywsIALzzzjv49NNPcccdd0Cn0yEkJARPPvkkxo+/7hH6zTffYPjw4RgzhnvQFQqFePHFF/HSSy9Bo9HgjjvuaCI4vQVCSEBAQIB5iqu4uLgkOzu71SmuMlXtjX/mnDty84Ax04iARAncBEWslo3Uuav7AkDOtSv5jNEwNGbisgtB/cdM1tQbkrPO1MYZ9eyNAK00eVL193czNKlrTimVG5XKTFV+gao+QxaoKiqOA8uO7Mr1UEBuipKWN0RJa/r6ilX9/Dw0XCBcCCvtOEqaUqqjoLUMyyqMrFGlNxq0WoPOoDZoGJVOQ1Q6tVCpV0mUOrW7Sq/x0ug1PlqD3o+C+oFLId4mjIGLCjDWG4XGelNQtAFgDSwAQFugNQjcBcRYZxQBAFPLQCAmbNyY4PNl35eOJiCgDAQCPYyTJX2uTvHup/ARSIS+ArHYh4glPgKxxFsgdvMWiNw9icjTg4g8BIQ0TF05I929D10EUAjgdnDTU98CeA5cmqY3wJXaONHsnMZxIyvAJU/cD04DIsE9POgopXc0Oqch8LBNZwxLBOR5ADvBJd8SA1AAuAJglgXnOhs9QkD69u2Lf//73+0es2rVqhbbbrzxRtx4Y5spmHodQqEwNioqKrZv375GrVZ7Oicnh5qmuMx1WC9X5k0N8fBLGRM6cIJbqCRXlafxYETGILVSeaKyuCghfvpD2T7BsX7ZZ2sv1VdqJ7mLmPMTI6uzhjRa26AsW6yvrc03BeyFaysqLArYo0C9KUq6Vh/owUVJR/mJTCMHP02YdwjrLvZDsxs4pbSOpbSOYY0KPaO/qlMpdRqD1qi+vlYgMq0VeKj1Gm+1XutnZI2e4Kan2puiogBUAu7JXulGBFViCHRSItC7EaHRUyAyehIR6yUQUR8ihrdATHwFYoGvr0T4qF/uGLlcKwGA95+ZVTFzVBRG3/t1sJGhiCtzF1+RKyFxFyM80BuZxTVwEwgFQT/rxgopAREAffw8IBULRXXH5CMemTu7sx+1s2GNQNibwZXDeBwAGrJ8ALgErs5HZx0qdoOLcL+BUnrKtG0tgC/Q1D24CZbkwqoDMN200h8DoAxcQRO2kwY6Az1CQHisi2mKa7xpiqu6trb2ikwmC5XL5XEAyL78iyMC3b2v9g0KFCkKlIWUUibt3JnAobMfK9JpAmsu7yuLjfJWFS+Iryj0k+pHU4bJ1pZVnlRkZYsUsqx+hvr6CDTLwUYBFRclLanVB3qoNWHeRnVfP6FJHHw14T7BRg+xOwW8WZahRpYR64x6jc6oM6j12nqVvrpeVV5YrNSpJUq9yl2t03iq9RofjVHnTyn1BbdQ23CzV4uIQCuBQM/d7EUGD4FQHUlECi+BZ7mPmx98iJj4cNM4Il+BWOQrkEh8BGI3byJy8xKI3T2JyMODCD0IIZa4qrbg6ryReOuHFMRF+mPNtOHB678/gSA/T5RWK5FZXAuGUozoH4wAb3cYjAyKqhSolKvAAqBGii8en4v1208gp7QO+8/lsjNHRxvApfIwAtQIwAAu5xPD/UuNoCwLShlQygAsY3pPwTIMKEtNLxYsQ0FZcP9yh4JlCFgGpvcCsEZuG2UE3PuGl1EIlhGYtgvBMiJQRgiWFYEyItN7EVhWDMqIwbJigEow863ufGXdAQQA+M70/bVGlg8juPxYawCcIoRMAfcd+gPdEZAGKKXnAZzvimVOhNVSYPD0TAghgQEBAdMmTJgAhmEyiouLy7Kysob8lH4s+KFhs2CQ6KqKc/PLB9zwsKA2UyCK95CJ58ZVVOjLSlF/NLO8MjvX26jVRlKRQGT0lMj1Ae652oSoTFW4F6sI86SKcG+hItxTpPYRE1OQGVXr1dDqtdDptazOkK/W1Wl1ukptFcsYhW4CodGDCBnuyZ6bs/cnYkE/gVjoK5AIfQReIh+BP/H1EBu9PcUaL4GIeBKRhzsRurd5s6emG27jGzCFgbtbUqPppmsEqA6UasCwVaBaFpSy3E3Y9GIZcP9nKNhmN2BqugFzL0FiqMb7LWBkTqmc+i95nw4Nc1f9977IgikfyIZoNFo2po9YdzGzRCokBIRQEApikJfpKUulFMAdr/+CPh4EgwIILuzfKZipkUrhur/n7qZTahgh7zKtg2gAXAXgZ3Lx9QZwAECLNYsO2ATgGiHkCXCjj03g1kvapK1cWF+3tr05lNIHOmmgo+FHIDwWIxQK46KiouL69u1r0Gq1548W5tbFeIkq/VSxor6Fx0RidbagNqtAeNJHUKkJcTdqEj2rVPcMLdD6iwWsTkupTksYvYZQnU7oDjnxIQrSV1dFfPKExIeIBH5EJPAWiIVeRCgAFQCsFGBFDKg7Y3raBQwMATUS7mnXQMBqTU+6xoanYZHpJs2AMhqwjAEsozQ99TZ++hWBshJQVgTudy+CdRaELftbVnHxc54iSo494EkG+gu81x/NGwIAYgEV/HmnxP2mrQYU1FGIBMDSISL896pBujRBiJ0ZDIQCQKWjSC6kuKl/lyvCOgvdLXJyJ4AMcLF4jet8gBAiAvdw8CaAyQDElLaoYikGYGjIBtIQ2U4pLTJl5n0aXNbep9GBSLc1AhE3+r8EwC0ALoPzJY4GV4Tkl/YadlJcPpEij32gVK9l2bw8hk2vZhmZkaLAvV9MoPSHYa97D/MKX9ReSTkhWv+iKUyv3kh1STHw7Xh49B2Eyf+thVapQL8hIwGchigwAvvWnsY/1wLHfv4Jp3/fiZ8vXYDAk2DWL1fx0+C+8PIJgNFoBKtS4mc6GVH3fOfoS+oO3coVRSmVmYIF7wGXHLEtcgD0N1WRbZzfMBZccGFrbATwJ4CfKaWlpkSNbdJWLqx7G/5vKjiyjlK6qdG2hwB0WBLUCWm7PilPr4RSg45l8/MYNr2KZTMMLFvgTmltKMD0RSM3WjdpxNWgoJmDdxaj0FOsPzpAKrGw2BMPAASGR4AQgsqiArz8vz8QHNUPOz9+D5nnTiN+wvUH5BtvW4bkX3ZAq1LhxR27IDBVJFz2z1cwdvZ8/N/EEaivrmqrG1fBGslq1wD4wzRl9RE4bykhgMbfyz0A3gPwFiFkPbiQjKng0ps0L0jVwN/gHKQyLDHCkjWQ20zGNuYbAO+AK43oSrQs7MDTK+CEoiCfZdOrGDZDz7L57pTKQwBjX3Cprdv0aZZKI64GBy+OJIT46KnA++tKecwr4UHpEgGxSpxGb2HojdORevQQ3rrrFhj1eghFIoAQ3PrU8+Zjjv38E3IunseU25ZiwAjO+1koFuPHN5Kw/fWXYdDrED+xk+XhnY9uOyBRSg8QQm4A8E9wLru+4DxlZeAW1JNNFQdngstxlQFuyjIPwNOU0u1ttEvBrZ9YhCUCogAwFsCpRtvGAlBa2okTwY9AejiUGvWcUGRUckKR50ZpbQhgjAIXTNWiumB7SKXh10I48fAFACOIHwDphooa6eMhAUrTQjWPBTz+5Vb8e/ntyDp3GpRSiMTeWPfxF/ALup4kO/PsaXj4+mDlm++Zt937rzfw7asvgjEYEDYgBrc//YIjzLcmVimXQSm9BG49pL1jroFbz2jvmMR29uWhnbxgliRTfAZcLMjXuL4G8gC4wJR32j3ZyUhJSXkNjeoD87gulBoNLC3MZ5mMSoZN17FsvhulNcEmobBKUkFOPJZEmMWDEkNi0XTz+mCit8fxOb5eLv84zGN3pqyMDU92tBHWwJI4kHdNxUpWAJgPoAjA45TS721smy3gp7BcDEoZ43WhyNCybJ6UEwpDFLi4pBhb9CuVhqU1Fg8AqGUktWhUU+awQj1lhIdbcqhYNNkWNvD0WOo6PsQ1sOhJzTRf1uqcGQAQQtZQSj+3mlW2gxcQJ4VSxkhpcQHDZFQwbLpJKKqDAEM/cEWQ7FYISSoJTQ8JviWssXgAQBUrqUOzomQbK2pHvBzeJ0/UgbcKD08jepeAWMA7AHgB4ekQSlnGJBTljYSiD6DvBy699ABH2ieRhGSEhNwaQgjxa76v0ihVNd+mp9RrU6W8aE2Qn54Q0m6WXx4eE7yANMOWxVesCS8gdoJSlqW0pIBhZeUMk65h2VwJpVUNQtHf9HIqJJKQjNCQ24LaKlVQwbi16oRRoDcMPqnSHJ3k5cG79vJ0BIseFA5kLQFxldBQXkCsDCcUpYUMKytjmDQNy+ZJKK0KBHT94GQ1q9tDIgmWmcQjoK1jKhipvq19u+XKqQlu0tN+IqErxkfx2A/FythwV7lfdohDS2A6AJePQHIUlFJKaVkhw2aUsUy6mmFzxZRWNghFw8slkUiCM0NDbg9sTzwAoJKRtvvD/6SiJubFsD6lAkIcVfCIx/npMdNXQO8TkPYyUPDALBRFDCsr5YQiR0xpZYBJKGxWFc9RSCRBmaEht/s3LgXaFlWMtN2pWjVLA76trrt0X6BvsKluDg9Pc3gBaQVXWQPhBcQEJxTlJQybWcIy6SqWzRGxtCIA0PYDV6Wsr6NttDUScZ+s0JA7/AkhfSw5vpYRd/h7SdfqR1zR6I4M83DrsM45T6+EF5BWeNNK7diUCRMmKFJSUpSwTklJl4FlK4pZVlbKMOkqls0WmoQiClyNCotrhPYkxOI+2aGhS30tFQ8AULBii9KH/1BTP2WAVHLRUygY2WUDeXoqPeohtkMBIYSsA5dX5aKpqNQucMVHbqeUngMASmm3qqPYmRJ0Mp2Fq8CylSUsKyth2HQVy+QIWFoeAGh6tVC0hlgcmB0WutSHENKpGuBqKrSoRCoFhJ9U1IQ8FxpY09G6Ck+vo8DRBlgTS0YgTwH4r+n/rwPYAS4P1n9gKr7uYri8gLBsVSnLZpYwbLqSZbIELC33NwlFuOnF0wZicWBOWOhS786KBwDoqcDH0mPrGDbs51rF6dsDfHivLJ7G9DoBCaSUVpgKlUwGcAe4SmblNrXMdpQ62gBLYdnqMpbNLGbYNCXLZgtYttwfUPcFEGZ68XQCsTggNyx0qRchguCOj24Jg5bBhe1xTq0dP9rTjU/9ztOYXicgalNg1VAA6ZRSNSFEjKZFp1wJp5uDZNnaCpbNLGLYNAXLZglYtswXUEcBCDW9eLoJJx7LPLoqHjoq0ALEs7PnfV0pn/ByeJ80qUAQ35V+eXocvU5AfgWwH9zC8xembcPBFTBxRRwmICytrWSZrCKGTatn2SzCsmV+gKovuPxKXbqx8XSMWOSfFxa6zJ0QQUhX25Az4lp0YdTHAJINFbXu/8enfufh6HUC8jiA+8FNWzXUkfQBsN5WRtkYm3+AlNZVMdeFAixb6ssJBQ0C0Om5d56uIxL554eF3SklRNCtkVwVI1Wgi9OGFUYmem+9KnmOrxeftbd3o1oZG17taCOsiSXp3A0ANjfbdshmFtkei0o1WgKl9dUMk1nIsOn1LJsJli31MQlFHwAWu4fy2AaRyC8/POxOCSGCbq8XVTItEyl2hsMK9WQ+9Xuvp0eNPgAL40AIIfEAbgI3zWIOGqSUvmIju2yJDFxCM4GlJ1BaX8Ow2UUsky5n2EzKsiU+gDLSNKLoMIKZx/6IRH4F4WF3ia0hHgBQwUi7Xc3SlPo9V0SI0yWS5LEL2Y42wNpYEgdyO7haINcAJJj+HQLguG1Nsw0TJkzQpaSk5KGVtOGUKuUMm1VwXSiKGwsF78/vIohEvoXhYXcJCRFYzaW53Ohm6G4bjVK/6wghFgUl8vQoUh1tgLWxZATyEoDVlNJvCCG1lNKRhJDH4MJz+ZTWnWPYPCXLpNeZhMILUEQANASAn6Pt4+k6IpFvUXjY3YQQgVUDJztKpGgpBXrD4JNKzZFJ3h58qpPex2VHG2BtLBGQAQC2mf7fMH31BYAcAK44hQW15pFccPEsPD0IkcinKDzsbhAiiLR229UdJFLsDLvrlNMS3PnU772QHjcCsWQdQA2godJaDSEkApzw+LZ9itPT454EejsioU9xeNg9NhEPAKhlO06k2Bk+qaiJYSl1maBWnm6jgxUdeJwFSwTkDIA5pv8fALce8jOA87Yyyg7wAtKDEAq9S8LD72ZtJR4AoGDFbtZsz5T6vYJSylizXR6nJW1lbLjR0UZYG0sEZBU4EQGAZwCkAZADWGkjm+xBOri4Fh4XRyj0Lo0Iv8dIiNCm6ec1VNjpKPSOSNfqR6RqdC7pjMLTaXrc9BVggYBQSssASAkhdwC4FcBpAPsAJNrWNNsx46ZsAzgh5HFhTOKhJ0Ro8yJXeirwtkW7P9bU36hi2Iu2aJvHqeiRsx6WuPGuAfApgBoAjYOpKICvbWSXPbgAYISjjeDpGkKhV4N42KWULgv426JdCgj41O+9gkuONsAWWDKF9U8ASymlwZTS/o1eLeIoXIxjjjaAp2sIhV5lEeHLdfYSDy0r0ADE3Vbt1zFs2P9qFVm2ap/H4TAAUhxthC2wREB8KaW/2NwS+3PE0QbwdB6h0LM8Iny5hhBhtL36rGEltbbu47xaOz5bqz9q6354HMKllbHhCkcbYQssEZA/CCE9Luhpxk3Z2f/f3p3HN1Xl/x9/naT7wr41RUFJEEWhoLgUQdqKjsuo4+goojDRWXRcfmNFB3VcviMuo4KjuOC44ggKjKOO4A5TUMAFBRdwIUUQCqUtLS2lbdIk5/fHTaGUpVuSm+XzfDz6oE3Sm0+B5p17zzmfA2w2uw7RdlZrelm27Yo6paxhbQVS4UuuCcfzvFCx82S33y9jc7EnZq92tGVueznwhlLqNVq0Qo/SXljNLQUuN7sI0TojPC6vVcoa9kun5b7kunA8j7R+j1kxe2bZljOQ4cAaYBAwptnHqaErK2zkMlYUsFrSyrNtl+9SKsGUcbft3pRON1JsqzKvb+B7NbtjcsA1jsXsVO22tHOPxn3P26rI7AKC5X9LannzzRo2bHBTV6d57/0jsFr3dt/YUOxm5swdrF/vJj3dwtnnZDJpUneUMh6zaFENs180LvVP/m13zjln7/bfC+bvZMMGD3+ZGv49ryyWtPLs7CtqlEoYFPYnDyjzJYd1AdjSXXWjh6emLM9KirzW758ufJMlc15k8/fraNhdyzPrNmFN2PsycuXgbBKTU7BY9743vX3ef+l/lLEh49J5c3jjsYcBuOCGKZx2ycQ9j3v3uVls+eE7fvfgo2H6acLiB6fDVmZ2EaES1PYM0aYgv9i1eMmgEiCojffMkJFp4bzzu+B2+5n+cMU+99XV+Zk6tZQzzszkgb/3o6TEy223biM93cJFF3WjqsrHc89W8uRT2fj9cO2fSsjNTad7dyubNnlYuHAXTzwZ/r8iiyW1Itt2RbVSCfawP3kzwWqk2B6zyitz7rD1jrjW7+ldu5I3cTKNDQ28cNtNB3zMDbNeYOjo/beBr9lRwWvT7+fO/7yD3+/nnovOZsTpZ9KlZy+2utazdN7L3PHa26H+EcItZsc/oB17YsSwmLiMNWpUGvn5GWRl7b9V/ccf7cbv1zid3UlOtnDkkUn85jfdePMNY2x4+/ZGsrMT6dcvEZstkez+iWzf3ojPp3nowXKuv6EnGRnh/a9ihMekKovF3PAA2OFLClojxbbyaNL/WV7l0Vq7w/3ch3LsmHGcfO4F9D6s/Ws3K7Zspu/AI+jV/zD6HD6AvgOOoGLLZnxeL89NvZGJd95LWmaX1g8UXWI6QOL6DCSgCLjM7CJCyVXsZpA9eZ9LWkcNSWbbNi+7d/vJzk6ktNTL1q2NaA3bS71kZyfyytyd2B1JnHBCWljrtVhSdwTCwxHWJz6Ian/S/qkcBps93qNW1NYvG52Ztv/b+Qj2zM034PM20tPWn7wJk/Zcpuo78AjKt2ym7OdNaO2nomQLfQcewaKnZzJg6LEce2rMTfbUwHtmFxFKEiAxNA5yMHW79X5nEE1f19X56d07gRsLe3Hffcal2hsLe1FW5mXx4lqefCqbuXOrWPV5PenpFv54dU/69w/d66nFklKZbbtih8WSMDhkT9JOu/wJQW2k2B4Lq2vHHpOa/Fn3KGn9PuXFV7GPPAGLxcq6FR/xzynX4/d5ybtsMulduzH5ngf5503XAjD5ngfZsbWET/77One9/i6LZs3km4+KSMvM5JKpd9J3YLSvVeYzp8O23ewiQinuA6Qgv3j94iWDNgMhbcZnprR0RXmFf5/bamuNr9PSjCDJzU0nN9foF9jYqLnuuhJuLOzFurUNrPq8nocezuKLVfU8/FA5/3g0aBv97cNiSanKtk0qt1gSjwrJE3RQKBoptsfjZZWO27N6bbMoFZTteUPpmNwxez4fNq6A0yddxYo3XyPvsskAjCg4gxEFZwDg9XiYdvG5TJ72IK7Vq/jmoyJunj2PtcuX8fytN3HrK6+b8BME1VtmFxBqMgZieM3sAkLJPiiZYpcbn2/vWPCPP7jJykogPX3//wIvza4iZ3gqw4al4nJ5OGZoClarImdECi5XaC7JB8Jje6SFB0Cjtph6Yb7Or7u/FKWt3y0WC+gDz0F4c+Z0hpyUy1GjTubndd9iH3EC1oQEjj45l03rYqJ5rQRInFhgdgGd5fNpPB4/Xq/xy+rxGF/7/ZpTx6RjsShmv1iF2+3np588zF+wk/PP3/918bvvGlj5yW6u+p3ROzC7fyJrVtdTX+9nxYo6bLbgX76yWJJ3BsJjSNAPHgShaqTYHj80eIZ/Xe82fUDW7/PR6G7A22hsEe/1eGh0N+D3+9m09hs2fvs1Xo8Hn9fLtx8v5YPZz3LiuRfsd5zir75kzf8+5Nc3TQWgz4Aj+O6T5bjr6li9+H36HD4wjD9VSGxyOmwx2YG3ubi/hBWwEtgChGxDolD78INaHnqofM/Xvzx3IwAPT88iJyeVBx7ox2OP7eC1X20iLc3Cub/M5NcX7buppMfjZ/rD5Uy5uTdJScZ7i9Gj0/j8szomXPozPXpYmXJz76DWbYTH5G0WS+LRQT1wkOz2W2shMlaFz6usGWtPTlqTbrXkmFXDijf/zfNTC/d8fU2OMc/hln8toGF3LQsevJfK0q1YrAn0tGVzYeFfyJswaZ9jNLobePG2KTjvm05isjG8NHL8L/j2o/9x09gT6NqrN1c+MCN8P1RoxPzZB4DSBzm9jDeLlwx6BPiz2XXEE4tKrs7OnlRisSQdY3YtB7O5MXXLhNJTIuaNRVerZdtf+vVMUkr1NLsWcUhnOh22980uItTkEtZeUX8ZK5oolRTx4QHha6TYVoHW7xvMrkMc0i7iYHYnSIA013QZS4SYUkk1/bMnb4n08IDwNVJsjy/rGkYVN3hiYgFsjHrD6bDFxZbZEiABBfnFGvi32XXEOiM8Jm22WJKGml1LW5T5kiPyheCFip2nSOv3iPWS2QWEiwTIvuQyVggplbirf/akny2W5KgID4AyX0pYGym2lQ+SniirStNax+RGRVGsBFhidhHhIgGyL7mMFSJGeEzeaLEkH2t2Le1hRiPFtir3+ga8W7075qeKRpk5TofN3/rDYoMESDNyGSs0lEqszc6e9JPFknyc2bW01w5fUkT/jiyrrRu9zdO43Ow6xB5xc/kKJEAO5F9mFxBLlEqszbZN2mC1pAwzu5aOqPYnmtJIsT1mlVfleLX+yew6BF86Hba1ZhcRThIgLRTkF3+JcSlLdJJSCbuzbZOKrdboDA+AWn9Cqtk1tCZSW7/Hobg6+wAJkIN53OwCop0RHpNdVmvKcLNr6Yx6v7mNFNsq0Pr9U7PriGNeYK7ZRYSbBMiBLQBKzS4iWimVUJdtm7Q+2sMDoBFL19YfFRkWVteOrfL6JETM8ZrTYStv/WGxRQLkAAryixuBZ8yuIxopZa3Ptk36wWpNzTG7lmDQEdBIsT0eL6sc7Nd6q9l1xKGY2si9rSRADm4WxmmpaCMjPCZ/b7WmjjC7lmDY5U+oBhVVDUfr/Lr77B3VFdHY+j2KfeZ02OJy3FQC5CAK8ou3AlG/o024BM48vouV8ACo9CVVm11DR/zY4Bn2db37Y7PriCNxefYBEiCtkcH0NlBYG7Jtk9ZZrWkjza4lmCp8yVG7ynteZc2Y3T7/GrPriANbieMOFhIgh1CQX7wMkJW+h6CwNmRnX7HWak073uxagq0sAhsptpUGy8yyyn5a6x1m1xLjnnI6bI1mF2EWCZDWyVnIQVndNtsV31qt6TEXHgBl3shspNhW1T5/vwVVuzZo2fQnVBqAp80uwkwSIK2bA8i7uP1Y3dm2y79JSEg/wexKQiVSGym2x+q6hlHF7sZlZtcRo+bG49Td5iRAWlGQX1wHRP3+msFl8WTbLv86ISEjZsMDoNyXbHYJQfGitH4PBR/wgNlFmE0CpG1mImchARZPtu3yNQkJGaPMriTUKiO8kWJbSev3kHjF6bCtN7sIs8XEL0ioFeQX7wKmm12H+ZrCI/NEsysJh2p/YpLZNQRLudc34B1p/R4sfmCa2UVEAgmQtovzsxBLY7Zt4up4CQ+AWp2QYnYNwfRRbd3orZ5GWR/SefOcDtsPZhcRCSRA2qggv7gWeNjsOsxhacy2TfwyIaHLSWZXEk5uvyXD7BqC7enyqhFerTeYXUcU8wJ3mV1EpJAAaZ/HgG1mFxFeymuzTfwi3sIDoquRYlsFWr83Suv3DpvdmbEPpVSRUkorpf7Y4vZMpdSuwH32wG0JSqlCpdRqpVStUqpCKfVF4LYkpdR0pdRnLY5zZeAYk1rc/qVS6t6O1n0wEiDtEJiR9Tez6wgf5bVlTVyVmNDlZLMrCTet0dHWSLGtNnu8Ry2X1u8d4SE4v//rgD+2uO0KYFPTF0opC/Am8CfgdqAf0Bv4HTAKyAI+AI5XSjX/fzoe+BY4vdmxegM5wPtBqH0fEREgbU1lpdS4wOcJzR4zTilVqZSa1uy2AUqpfyqlNiql6pRS25RSy5VS1yulOjsw+iwQB7MvlNeWddnniYld4y48AGqMRopWs+sIlUXVtWMrpfV7ez3pdNh+DsJx3gL6KqWan9Vfw76LEi/FCINztdZva61rtWG11nqC1noTsBRoBPIBlFIKKMAInNObHasAqCMEG+VFRIAEtJrKLSmlLgcWAjdprf8auO0YYDWQAZwNdAUOA24CTsBI8g4ryC/2And05hiRT/mM8Oh2itmVmGWHP3mn2TWE2uPbK4+S1u9tVg7cHaRjeTHeiF4NoJQ6FegCLGr2mHOAz7XW3x/sIFrreuBjjKAB4yyjQWv9X8CnlDo2cPt4YKnWOuidFSIpQNqSynsope7AaDNygdb6hWZ3PQp8rbW+TGu9TmvdqLX2aq0/0VpP1loH4x3EfGBVEI4TgZTPljXh03gOD4AKX3Kt2TWEWr3W3aT1e5vd7nTYgtmd+Rng10qpbhivc89gTA9u0gfY0objvM/eABkPfBj4fHGL24N++QoiK0DakspNngd+D5yqtW76C0MplQrkAS+HstCC/GKN8Y/ub+2x0aUpPLrnml2J2cq80dtIsT1+bPAM+0pav7fmS+C5YB5Qa70F+B8wBTj/AMcvA/q34VAfAEcqpY7kAAGilDoK4wrMB8Gou6VIChBoPZWbnA+8B6xtcXsPwAqUNN2glOqqlNoZ+KhXSl0RjEIL8otXAU8E41iRQfmysi79RMLDsN2XEtWNFNtjvtH6fbXZdUSwG5wOWyjeLD4F3Aa8o7VuObtzETAqEACHsgYjbM4DRmMEB4E/xwLnAiVa63XBKrq5iAqQNqRyk3yMv5jZzQfUgSqMHjV7kltrXa217qa17oaxEDCYA6N/xdgPINr5s/pd8klSYo/RoXyShQtXM2HC4+Tk3IbDcRNe794rJw0NjVx//WxOP/1+Bg+ewowZ7+z3/fPmfUJu7t3k5t7NvHmf7HPfc88VccstrwSt1nJfctQ3UmwrDZbHyiptfq0rzK4lAs11OmzLQ3Ts9zDOGm48wH2vYpxNvKWUOlMpla4Mxyml/qWUGgAQ6LT8IXAL4NJabw/cvhX4GWPsNyRnHxBhARJwqFRu8hVwauDjP0qpFACtdR1QBEwMQ50U5BfXAH8Ox3OFkD+r36Urk5J6hjQ8ALp2TeWyy3K5/fbz97tPKRg5ciDTpl3MsGGH7Xf/jh27mD59EfPn38Crr17Pww8vYscOo7WTy7WdV19dyR13XBC0Wit8ySpoB4sCNT5/339X7fpJWr/vYzfGC3NIBGZVLQ68cW55nx/jrOJp4O8Yg/jlwAvAF+y7Hu19jGm9H7Y4zIfsne4bEpG433NTKh+yVYDWulgpNTrw+PeUUr/UWje9oH+slJoL3AO4MC6DjQTSg11sQX7xgsVLBr0DnBXsY4eBP6vfJSuSknqeGo4nGzNmCACffura777k5EScztP2fN7Sli1VDBjQm/79ewAwYEAvtmypomvXNP7yl1e5884LycxMDVqtlb6kmJ3CezCr6xpGjUxLWWpPSTrN7FoixL1Oh62k9Ye1ndZ63CHu2wioZl97MXrwHbIPn9Z6NjD7ALffANzQwVLbJOLOQA6Vygd47DbgNIwgLFJK9dFafwuMwJj3/B5QgzGb4VGM+dHzQ1D2tUB9CI4bSoHw6BWW8OisgQN7sWVLJT//vINNmyooKali4MBezJq1hKFDsxkzprVLxe0TS40U2yPQ+j0k18ujzGrgIbOLiHQRcQbSjlR2Nfu86f4qjMGj5rf9hLFiMywK8ot/Wrxk0N+A+8P1nJ2k+/X7zfKkpF5jzC6krbp2TWPatIsoLDQm2E2bdhFbt+7krbe+4PXXb2TWrMUsW/Y9mZkp3HrreQwc2LtTz7fbbw3e6UwUCbR+T7+xb49dSqlMs+sxSSPgdDpscTMO1lERESAxYjpwOTDU7EJaofv1vfjj5KTeURMeTQoKjqWgwFgb5fF4ueiiR7nnnov58suNLFv2PS+9dDXLl//IrbfO45VXruvUc7m1tdONFBuWvEvdm/PxFv+IrttNnw8+R1mNXzntbqD6/jvwFv+Ab+sW0i+7ioyrrt3n++sW/ofdLz4FQPpvryHt3Av33Ld7/kt4N6yn69R7Olvmfsq9vgFvV9euOKdbZrzOyLvP6bB9ZXYR0SDiLmFFq4L84kaMlfSRPAip+/W96OPk5D5RFx4tzZz5PiefbOfEEwexbl0JI0cOJCHByskn21m7tvOXrb2obp09hsrsQup5F5N57ZQD3KlIHDqcLoV3kDjk2P3u9ldVUvvsTHo8Ppvuj71A7bOP4a+qNGrbtIH6ha+ReV3Ixnf5uLY+N05bv38FBL3pYKySAAmigvzi5Rir4yNRIDz6mhYePp8ft7sRj8eYvuvxeHG7G/H7jSn2bnfT1xq/v+mx+19FWLNmE0uWrOWmm84GYODA3qxc6aKuzs3ixWsZMKBn5+rU+LTRAqdTkkflklpwFtas/deDqaRk0i++nKQRoyBp/+EWX+lWEvofhrWfjQRbfxKyD8dXuhXt81L997vIvH4qlozQXmGKw9bvjcBvnQ5bo9mFRAu5hBV8NwNjMPrSRArdr++vP0pO7jvWzCLeeGMVU6fO2/P18OG3AfDyy9dw0kl2zjzzAUpKqgBYtWoDTz+9hBNPHMScOX/a8z1udyO33Taf+++/ZM9srfHjj2XZsu8ZM+YeevXK5IEHLu1UndX+xJ2gOpdCnWTtfzi+bVvxbt0C2o+vdCvW/oeze+7zJDqGkDwq9J1mmlq/X9O7e0PTVPkYd7/TYVtjdhHRRMm07+BbvGTQYIy52hGxIVHfvhcuS0nOMjU8osl6T8YG5/YTjwzW8TxrVlFV+Pt9xkCaq7zxdyQdO2K/MZCG5UXUzX0egLTLrsTaL4vqv02l56y51L0+F/dnK1DpGWReU0hC/wHBKnc/Z3fNWDYmMy3W//98BYySs4/2kUtYIVCQX/wj0LlR3CDp2+dXSyU82qfClxQRjRRTRo+jxxMv0eOJl0g+cTQ1f7+LLoV/xbP2K9yfraD79KdJO+9iah76v5DW8bbR+v2T1h8ZtWqBSyQ82k8CJEQK8otnE+Kmjq3p2+dXS1NSbLIorJ3KfCkNZtfQUu3sWSTlnEDS8OPxur4ncehwlDWBpBGjaFz/Xcif//HtlUN8Wgd1UV0E+aPscd4xEiChdQ0mbT7Vt88FEh4dVOZLDkojRe3zoT1udGPgja2n0fg6MGlAezxojxv8frS/xWObafzuGzwrl5Hxu+sBsGYfjmf15+j6etwrlpJg27/1S7DVa91tdkX1jhhs/f6s02Gba3YR0UrGQEJs8ZJBIzF2Agvbyua+fc5fmpLSX8Kjg+7dcfTSd+qyOv33V//uf6l58K79bu8+4xmSck6gfMLZ+Lfv2+4tcfjx9Hjk2T1fa4+bHVdPpOvNd5N4tDHdV2vNrkfupaHofSw9etHllrtJOmZYZ8ttk0t6dFmak5YSK/+3vgZOcjpsEXfGGS0kQMJg8ZJBfwYeCcdz9elz3tLUlMNi5RfcFDeWDV/6ubun/B0egAL/bVm9vsqwWkaYXUsn1QLHOx22H80uJJrJJawwKMgv/gfG1rsh1af3LyU8gqDKnyTT2w9Cg2VmbLR+/4OER+dJgITPb4HiUB28T+9zi1JTD5fwCIJ4baTYVjHQ+v0pp8MWvM1j4pgESJgU5BfvAM4GKoN97N69zylKTR0wLtjHjVd1/oQ0s2uIdKvrGka53I3LzK6jAz4kxC3O44kESBgF1of8Cgjadqm9e51dlJY6cFywjifArS3x2oW2XV6s2JkbZa3fvwMuki67wSMBEmYF+cXLgCuDcazevc4qSks7YlwwjiX28qI63QcrHvgh8YmyqvTARm6RrgI41+mwVZtdSCyRADFBQX7xHODuzhyjd69fFKWlHTkuKAWJPbxaeYEuZtcRLQKt3781u45WuIELnA5bPDWGDAsJEJMU5Bf/H/BSR763V68zl6alDRoX3IoEwE6jkWJc7YfeWVHQ+v0qp8O23OwiYpEEiLl+DxS15xt69TxjaXqaXWZbhcgOX5Jc4uiAWeVVIyO09fs9TodtjtlFxCoJEBMV5Bd7gAuB79vy+F49xxelpzskPEKo3JccEY0Uo02jJu3psiqv1jqSVnU/43TY7jS7iFgmAWKygvziKuAcoOxQj+vZ8/Si9PTB48JSVBwr86bUm11DtNrS6B38UW39Z2bXETAHuNrsImKdBEgEKMgv3gCMB3Yc6P6ePQqKMtKPGhfWouJUmS9ZWnp3wjuR0fr9P8Bkp8PmN7mOmCcBEiEK8ou/xgiRqua39+yRX5SRMWScKUXFoTJfirzodJLJrd/fBSY4HbZY6xockSRAIkhBfvFq4AygGqBnj7yijIyjx5laVJyp8EkXk84KtH6v1FqHe8HeUuBCp8MWtIW64tAkQCJMQX7xKuDMHj3GvZeRccw4s+uJNzulkWJQrHd7jltT5w7n1NlPMBYKyhhWGEmARKCC/OJPMzOG3kmLy1ki9Gr8iclm1xArFlTVjKn1+b8Mw1MtB85yOmwygy7MJEAilN1e+BmQj9GCQYRJnd8qjRSDJND6PTvErd/fBc5wOmw7Q/gc4iAkQCKY3V64BjgNKDW5lLghjRSDq8bn77ugqmZjiFq/zwfOczpsdSE4tmgDCZAIZ7cXrgPGApvNriUe+FDdzK4h1qypc5/gcnuC3fr9GYzZVjLt2kQSIFHAbi9cjxEia82uJZY1auUBJWcgIfBiRXVuQ/Bavz/odNj+IOs8zCcBEiXs9sKNwCnAIpNLiVlVviSZtBAigdbvGUFo/X6r02H7S1CKEp0mARJF7PbCXcB5wHSza4lFFb6kaNjXImpVeH2Hd6L1ewNwmdNheyCYNYnOkQCJMnZ7od9uL5wCXEUQdzYUUO5L2W12DbHu49r63JL2t37fCoyVfcwjjwRIlLLbC58HTgfKza4lVpT5kmURWhg8XV41slHr4jY+fBUwyumwfR7KmkTHSIBEMbu98CPgRCDSd4SLCtJIMTwCrd/9bWj9/irGmcfWcNQl2k8CJMoFBtdzgYUmlxL1yn3JoVirIA6gpNHr+Ki27mCt3zVwp9NhmyCtSSKbBEgMCAyunw88ZHYt0azClyxb2YbRO9W7D9T6fSdGQ8R7TChJtJMESIwIDK7fAlwB7DK7nmi00yeNFMNt5vbKo31abwl8+Tkw0umwvWFiSaIdJEBijN1e+DIwHGjvTJe4V+NPkEaKYdagddfZFdVVWut/AKc6HbafzK5JtJ0KTYsaYTaXa4YFmALcA8gmF20wfsvY7+t1whCz64gzZcCVpXk5skA2CkmAxDiXa8Yw4GXgOLNriXSnbR5X4sOSbXYdceRtwFmal1NmdiGiY+QSVoyz2wu/BkZhDLBL76BD8KG6m11DnGgAri/NyzlHwiO6yRlIHHG5ZowFZgMDTS4l4jT4LfWnl4xLNbuOOPAFMKk0LydYjRWFieQMJI7Y7YXLgGHAC2bXEml2+pN2ml1DjNsJXAucKOERO+QMJE65XDMuAJ4C+plcSkT41t3lx6vLThhsdh0xSGOc9d5SmpcjbXdijJyBxCm7vfANwAHch3FNOq6V+5KlkWLwfQ2MLc3LcUp4xCYJkDhmtxfW2u2FtwNDMLYHjVvbfSlxH6JBVAPcCIwszcuR9UgxTAJEYLcXbrLbCy8BxmB0P407ZV5ppBgkc4EhpXk5/yjNy/GZXYwILQkQsYfdXvgxRnff32LswRA3yn0pMhjYOd8B+aV5ORNL83K2mV2MCA8JELEPu71Q2+2Fs4HBwDQgLrqh7vAlSSPFjikBbgCGl+bl/M/sYkR4ySwscUgu14zDgb8Dl5pdSyhN2HbSys3e9FPMriOKbAIeAF4ozctxm12MMIcEiGgTl2tGDnAb8Gti8Mz1lyWnrq7yJ40wu44oUAzcD7xUmpcj40ZxTgJEtIvLNWMwMBW4HEg0uZygOX3LaT80aOtRZtcRwX7AmPI9RwbHRRMJENEhLteMw4CbgauANJPL6bSxm/O2+VFZZtcRgdZijIXNL83LkV5qYh8SIKJTXK4Z3YE/ANcB/U0up8NO3ZxXD0p6Ye21BiM4/lOalyMvEuKAJEBEULhcMxKAi4E/Y0wFjhr1fkvd+JJxUX8WFQS7MBaUPl+al7PC7GJE5JMAEUHncs3IBZzARUA3c6tpXYk3peSSbbnxvA/Ix8BzwILSvBxp6SLaTAJEhIzLNSMZOAeYGPgzIreM/crd9ftry46Pt50ItwIvYZxtrDe7GBGdJEBEWLhcM7phTAGeCJxGBE0F/nB3ny/urjz2eLPrCINGYCHG2ca7MptKdJYEiAg7l2tGNjABI0xyzK0G5tQcvuKpanuu2XWEiB9YCbwGvCxdcUUwSYAIU7lcM47BCJKzgeFA2FuKPFLlWPZa7WFjw/28IbQLeB94C1hUmpdTYXI9IkZJgIiI4XLN6AnkAfmBj7As7Lut4rily+p7nxaO5wqhb4EPgHeBotK8HI/J9Yg4IAESxZRSRUAu0PRiUQ28Dtysta5XSr2I8e7ejbEz3HaM3eGm6cA/vFLqbuAOjKaJ/sBj1wILgH9qrU1rVxG41JUPFAT+PCwUz3P19uOXfevpGm1nINuADzFC40PpgCvMkGB2AaLTHtRa/xVAKTUQeAe4E7g1cP88rfXlSimFMXj9NvAzRpA0Wam1PjVwjAyMs4AZwMVKqfFmhYjdXlgC/Cvwgcs1w87eMMklSAsXd/oTI70ly3aMhX2rmz5k5pSIBBIgMURrvVEp9S4w7AD3aaBIKbUOGMW+AdL8cbXAW0qpYowXqyuA50NXddvZ7YUuwAU8DeByzegKHBP4GNrso11rOmr9CZG0An0DzYICIyzk7EJEJAmQGKKUGgScBbxwgPssGO/chx7o/pa01uuUUl8C44mQAGnJbi+sxphhtLL57c2CpSlQmj7P4gDTh+u1NT3kxe7VgHH5aWuzP3/CCIs1pXk51WGsRYhOkQCJflOUUtdh/FumAx8BTza7/zdKqXMxGh4mAv8g8A6+DX4Gegav1PA4RLBYgd5Av8BHX6BfIv5MN9Z+GKvmmz66A10wxo58B/nwH+A2N1DK3nBoHhRbS/NyqkLyQwthAgmQ6PdwszGQ3hjh8R7GGAHA/MAYSDLGfh4XAqkYUz1bcziwMegVm8RuL/RhvLiXNr/dZTenHiGiXcSsBhadp7UuxxjbOEUp1bPFfW6t9V0YM7X+1tqxlFJHAyMxZvkIIcR+JEBiiFKqO8ag92at9Y6DPOyvwJ+UUkcc5BjpSqlzgDeAzwjMgBJCiJYkQKLfLUqpWqVULfAjxljHWQd7sNa6CKP76r3Nbj4lcIwajL2ubwEeBwrMXAcihIhsspBQiDgQOOO8D2MtUBegBmNtyVVa621KqQTgBowzWAfGbLFNwBzgca21Rym1EWPygbfF4cdrrVci4o4MogsRH97GmKF3rNa6UinVF/gFoANTvN/EaB1zA7AM2I3R6PIWjOnPmwLHuU5r/WyYaxcRSgJEiBgXmFAxBJiota4E0Fo3tbVBKXUZxnqfYVrr75t962qMrslCHJCMgQgR4wITKr4BnlZKOZVSwwJnHU3OAT5vER5CtEoCRIj4kIfRJ+0ajNl1FUqphwPrg/oAW9p4nMeUUjtbfETkTpMi9GQQXYg4E3jBPwvjEtYjGIPmA7XWo1v5vo0YnZxlDEQAcgYiRNwJLCp9A6Md/EhgETBKKRWW/VdE7JAAESLGKaW6K6UeCIx9JCulrEqpAozLWsuAVzHC5C2l1JmBxaRKKXWcUupfSqkBpv4AImLJJSwhYpxSKh14FBgD2DCaPm7B6DLwoNZaB9aB/D+MdSCDgTqMPmgvA0+2sg7kKq31vDD8KCLCSIAIIYToELmEJYQQokMkQIQQQnSIBIgQQogOkQARQgjRIRIgQgghOkQCRAghRIdIgAghhOgQCRAhhBAdIgEihBCiQyRAhBBCdIgEiBBCiA6RABFCCNEhEiBCCCE6RAJECCFEh0iACCGE6BAJECGEEB0iASKEEKJDJECEEEJ0iASIEEKIDpEAEUII0SESIEIIITpEAkQIIUSHSIAIIYToEAkQIYQQHSIBIoQQokMkQIQQQnSIBIgQQogO+f9YaRCdBV4YKgAAAABJRU5ErkJggg==\" class=\"pd_save\"></center>\n",
       "                        \n",
       "                    \n",
       "                        <div>Too many data points to plot. Dropping 76 rows to make the chart more presentable.</div>\n",
       "                    \n",
       "                \n",
       "        </div>"
      ],
      "text/plain": [
       "<IPython.core.display.HTML object>"
      ]
     },
     "metadata": {},
     "output_type": "display_data"
    }
   ],
   "source": [
    "#Which airport has more delay due to NAS\n",
    "display(airline_data)\n"
   ]
  },
  {
   "cell_type": "code",
   "execution_count": 41,
   "metadata": {
    "pixiedust": {
     "displayParams": {
      "handlerId": "pieChart",
      "keyFields": "airport",
      "title": "Which airport has more weather delay",
      "valueFields": "weather_delay"
     }
    }
   },
   "outputs": [
    {
     "data": {
      "text/html": [
       "<style type=\"text/css\">.pd_warning{display:none;}</style><div class=\"pd_warning\"><em>Hey, there's something awesome here! To see it, open this notebook outside GitHub, in a viewer like Jupyter</em></div>\n",
       "        <div class=\"pd_save is-viewer-good\" style=\"padding-right:10px;text-align: center;line-height:initial !important;font-size: xx-large;font-weight: 500;color: coral;\">\n",
       "            Which airport has more weather delay\n",
       "        </div>\n",
       "    <div id=\"chartFigure2ddc6725\" class=\"pd_save is-viewer-good\" style=\"overflow-x:auto\">\n",
       "            \n",
       "                    \n",
       "                            <center><img style=\"max-width:initial !important\" src=\"data:image/png;base64,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\" class=\"pd_save\"></center>\n",
       "                        \n",
       "                    \n",
       "                        <div>Too many data points to plot. Dropping 80 rows to make the chart more presentable.</div>\n",
       "                    \n",
       "                \n",
       "        </div>"
      ],
      "text/plain": [
       "<IPython.core.display.HTML object>"
      ]
     },
     "metadata": {},
     "output_type": "display_data"
    }
   ],
   "source": [
    "#Which airport has more weather delay\n",
    "display(airline_data)\n"
   ]
  },
  {
   "cell_type": "code",
   "execution_count": 42,
   "metadata": {
    "pixiedust": {
     "displayParams": {
      "clusterby": "month",
      "handlerId": "barChart",
      "keyFields": "carrier",
      "timeseries": "true",
      "title": "Which carrier has more diverted flights in each month",
      "valueFields": "arr_diverted"
     }
    }
   },
   "outputs": [
    {
     "data": {
      "text/html": [
       "<style type=\"text/css\">.pd_warning{display:none;}</style><div class=\"pd_warning\"><em>Hey, there's something awesome here! To see it, open this notebook outside GitHub, in a viewer like Jupyter</em></div>\n",
       "        <div class=\"pd_save is-viewer-good\" style=\"padding-right:10px;text-align: center;line-height:initial !important;font-size: xx-large;font-weight: 500;color: coral;\">\n",
       "            Which carrier has more diverted flights in each month\n",
       "        </div>\n",
       "    <div id=\"chartFigureef3c1822\" class=\"pd_save is-viewer-good\" style=\"overflow-x:auto\">\n",
       "            \n",
       "                    \n",
       "                            <center><img style=\"max-width:initial !important\" src=\"data:image/png;base64,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\" class=\"pd_save\"></center>\n",
       "                        \n",
       "                    \n",
       "                \n",
       "        </div>"
      ],
      "text/plain": [
       "<IPython.core.display.HTML object>"
      ]
     },
     "metadata": {},
     "output_type": "display_data"
    }
   ],
   "source": [
    "#Which carrier has more diverted flights in each month\n",
    "display(airline_data)\n"
   ]
  },
  {
   "cell_type": "code",
   "execution_count": null,
   "metadata": {
    "pixiedust": {
     "displayParams": {
      "handlerId": "barChart",
      "keyFields": "arr_flights",
      "valueFields": "arr_flights"
     }
    }
   },
   "outputs": [],
   "source": []
  },
  {
   "cell_type": "code",
   "execution_count": 45,
   "metadata": {
    "pixiedust": {
     "displayParams": {
      "handlerId": "barChart",
      "keyFields": "month",
      "title": "Overall delay of flights with respect to months",
      "valueFields": "arr_delay"
     }
    }
   },
   "outputs": [
    {
     "data": {
      "text/html": [
       "<style type=\"text/css\">.pd_warning{display:none;}</style><div class=\"pd_warning\"><em>Hey, there's something awesome here! To see it, open this notebook outside GitHub, in a viewer like Jupyter</em></div>\n",
       "        <div class=\"pd_save is-viewer-good\" style=\"padding-right:10px;text-align: center;line-height:initial !important;font-size: xx-large;font-weight: 500;color: coral;\">\n",
       "            Overall delay of flights with respect to months\n",
       "        </div>\n",
       "    <div id=\"chartFigure3220427a\" class=\"pd_save is-viewer-good\" style=\"overflow-x:auto\">\n",
       "            \n",
       "                    \n",
       "                            <center><img style=\"max-width:initial !important\" src=\"data:image/png;base64,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\" class=\"pd_save\"></center>\n",
       "                        \n",
       "                    \n",
       "                \n",
       "        </div>"
      ],
      "text/plain": [
       "<IPython.core.display.HTML object>"
      ]
     },
     "metadata": {},
     "output_type": "display_data"
    }
   ],
   "source": [
    "#Overall delay of flights with respect to months\n",
    "display(airline_data)"
   ]
  },
  {
   "cell_type": "code",
   "execution_count": null,
   "metadata": {
    "pixiedust": {
     "displayParams": {
      "handlerId": "barChart",
      "keyFields": "month",
      "valueFields": "arr_flights"
     }
    }
   },
   "outputs": [],
   "source": []
  },
  {
   "cell_type": "code",
   "execution_count": null,
   "metadata": {},
   "outputs": [],
   "source": []
  }
 ],
 "metadata": {
  "kernelspec": {
   "display_name": "Python 3",
   "language": "python",
   "name": "python3"
  },
  "language_info": {
   "codemirror_mode": {
    "name": "ipython",
    "version": 3
   },
   "file_extension": ".py",
   "mimetype": "text/x-python",
   "name": "python",
   "nbconvert_exporter": "python",
   "pygments_lexer": "ipython3",
   "version": "3.6.8"
  },
  "toc": {
   "base_numbering": 1,
   "nav_menu": {},
   "number_sections": true,
   "sideBar": true,
   "skip_h1_title": false,
   "title_cell": "Table of Contents",
   "title_sidebar": "Contents",
   "toc_cell": false,
   "toc_position": {},
   "toc_section_display": true,
   "toc_window_display": false
  }
 },
 "nbformat": 4,
 "nbformat_minor": 2
}
